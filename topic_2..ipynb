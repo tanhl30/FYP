{
 "cells": [
  {
   "cell_type": "code",
   "execution_count": 1,
   "metadata": {},
   "outputs": [],
   "source": [
    "import pandas as pd\n",
    "import numpy as np\n",
    "import fyp_functions as fyp\n",
    "import matplotlib.pyplot as plt\n",
    "import itertools\n",
    "pd.options.display.float_format = \"{:,.3f}\".format"
   ]
  },
  {
   "cell_type": "code",
   "execution_count": 2,
   "metadata": {},
   "outputs": [
    {
     "data": {
      "text/html": [
       "<div>\n",
       "<style scoped>\n",
       "    .dataframe tbody tr th:only-of-type {\n",
       "        vertical-align: middle;\n",
       "    }\n",
       "\n",
       "    .dataframe tbody tr th {\n",
       "        vertical-align: top;\n",
       "    }\n",
       "\n",
       "    .dataframe thead th {\n",
       "        text-align: right;\n",
       "    }\n",
       "</style>\n",
       "<table border=\"1\" class=\"dataframe\">\n",
       "  <thead>\n",
       "    <tr style=\"text-align: right;\">\n",
       "      <th></th>\n",
       "      <th>profile</th>\n",
       "      <th>allocation_IMM</th>\n",
       "      <th>dist_mean_IMM</th>\n",
       "      <th>allocation_WMPM</th>\n",
       "      <th>dist_mean_WMPM</th>\n",
       "      <th>mean_vote</th>\n",
       "    </tr>\n",
       "  </thead>\n",
       "  <tbody>\n",
       "    <tr>\n",
       "      <th>0</th>\n",
       "      <td>[[0.0, 1.0], [0.0, 1.0], [0.0, 1.0]]</td>\n",
       "      <td>[0.0, 1.0]</td>\n",
       "      <td>0.000</td>\n",
       "      <td>[0.0, 1.0]</td>\n",
       "      <td>0.000</td>\n",
       "      <td>[0.0, 1.0]</td>\n",
       "    </tr>\n",
       "    <tr>\n",
       "      <th>1</th>\n",
       "      <td>[[0.0, 1.0], [0.0, 1.0], [0.1, 0.9]]</td>\n",
       "      <td>[0.1, 0.9]</td>\n",
       "      <td>0.133</td>\n",
       "      <td>[0.0, 1.0]</td>\n",
       "      <td>0.067</td>\n",
       "      <td>[0.033, 0.967]</td>\n",
       "    </tr>\n",
       "    <tr>\n",
       "      <th>2</th>\n",
       "      <td>[[0.0, 1.0], [0.0, 1.0], [0.2, 0.8]]</td>\n",
       "      <td>[0.2, 0.8]</td>\n",
       "      <td>0.267</td>\n",
       "      <td>[0.0, 1.0]</td>\n",
       "      <td>0.133</td>\n",
       "      <td>[0.067, 0.933]</td>\n",
       "    </tr>\n",
       "    <tr>\n",
       "      <th>3</th>\n",
       "      <td>[[0.0, 1.0], [0.0, 1.0], [0.3, 0.7]]</td>\n",
       "      <td>[0.3, 0.7]</td>\n",
       "      <td>0.400</td>\n",
       "      <td>[0.0, 1.0]</td>\n",
       "      <td>0.200</td>\n",
       "      <td>[0.1, 0.9]</td>\n",
       "    </tr>\n",
       "    <tr>\n",
       "      <th>4</th>\n",
       "      <td>[[0.0, 1.0], [0.0, 1.0], [0.4, 0.6]]</td>\n",
       "      <td>[0.333, 0.667]</td>\n",
       "      <td>0.400</td>\n",
       "      <td>[0.0, 1.0]</td>\n",
       "      <td>0.267</td>\n",
       "      <td>[0.133, 0.867]</td>\n",
       "    </tr>\n",
       "    <tr>\n",
       "      <th>...</th>\n",
       "      <td>...</td>\n",
       "      <td>...</td>\n",
       "      <td>...</td>\n",
       "      <td>...</td>\n",
       "      <td>...</td>\n",
       "      <td>...</td>\n",
       "    </tr>\n",
       "    <tr>\n",
       "      <th>1326</th>\n",
       "      <td>[[1.0, 0.0], [1.0, 0.0], [0.6, 0.4]]</td>\n",
       "      <td>[0.667, 0.333]</td>\n",
       "      <td>0.400</td>\n",
       "      <td>[1.0, 0.0]</td>\n",
       "      <td>0.267</td>\n",
       "      <td>[0.867, 0.133]</td>\n",
       "    </tr>\n",
       "    <tr>\n",
       "      <th>1327</th>\n",
       "      <td>[[1.0, 0.0], [1.0, 0.0], [0.7, 0.3]]</td>\n",
       "      <td>[0.7, 0.3]</td>\n",
       "      <td>0.400</td>\n",
       "      <td>[1.0, 0.0]</td>\n",
       "      <td>0.200</td>\n",
       "      <td>[0.9, 0.1]</td>\n",
       "    </tr>\n",
       "    <tr>\n",
       "      <th>1328</th>\n",
       "      <td>[[1.0, 0.0], [1.0, 0.0], [0.8, 0.2]]</td>\n",
       "      <td>[0.8, 0.2]</td>\n",
       "      <td>0.267</td>\n",
       "      <td>[1.0, 0.0]</td>\n",
       "      <td>0.133</td>\n",
       "      <td>[0.933, 0.067]</td>\n",
       "    </tr>\n",
       "    <tr>\n",
       "      <th>1329</th>\n",
       "      <td>[[1.0, 0.0], [1.0, 0.0], [0.9, 0.1]]</td>\n",
       "      <td>[0.9, 0.1]</td>\n",
       "      <td>0.133</td>\n",
       "      <td>[1.0, 0.0]</td>\n",
       "      <td>0.067</td>\n",
       "      <td>[0.967, 0.033]</td>\n",
       "    </tr>\n",
       "    <tr>\n",
       "      <th>1330</th>\n",
       "      <td>[[1.0, 0.0], [1.0, 0.0], [1.0, 0.0]]</td>\n",
       "      <td>[1.0, 0.0]</td>\n",
       "      <td>0.000</td>\n",
       "      <td>[1.0, 0.0]</td>\n",
       "      <td>0.000</td>\n",
       "      <td>[1.0, 0.0]</td>\n",
       "    </tr>\n",
       "  </tbody>\n",
       "</table>\n",
       "<p>1331 rows × 6 columns</p>\n",
       "</div>"
      ],
      "text/plain": [
       "                                   profile  allocation_IMM  dist_mean_IMM  \\\n",
       "0     [[0.0, 1.0], [0.0, 1.0], [0.0, 1.0]]      [0.0, 1.0]          0.000   \n",
       "1     [[0.0, 1.0], [0.0, 1.0], [0.1, 0.9]]      [0.1, 0.9]          0.133   \n",
       "2     [[0.0, 1.0], [0.0, 1.0], [0.2, 0.8]]      [0.2, 0.8]          0.267   \n",
       "3     [[0.0, 1.0], [0.0, 1.0], [0.3, 0.7]]      [0.3, 0.7]          0.400   \n",
       "4     [[0.0, 1.0], [0.0, 1.0], [0.4, 0.6]]  [0.333, 0.667]          0.400   \n",
       "...                                    ...             ...            ...   \n",
       "1326  [[1.0, 0.0], [1.0, 0.0], [0.6, 0.4]]  [0.667, 0.333]          0.400   \n",
       "1327  [[1.0, 0.0], [1.0, 0.0], [0.7, 0.3]]      [0.7, 0.3]          0.400   \n",
       "1328  [[1.0, 0.0], [1.0, 0.0], [0.8, 0.2]]      [0.8, 0.2]          0.267   \n",
       "1329  [[1.0, 0.0], [1.0, 0.0], [0.9, 0.1]]      [0.9, 0.1]          0.133   \n",
       "1330  [[1.0, 0.0], [1.0, 0.0], [1.0, 0.0]]      [1.0, 0.0]          0.000   \n",
       "\n",
       "     allocation_WMPM  dist_mean_WMPM       mean_vote  \n",
       "0         [0.0, 1.0]           0.000      [0.0, 1.0]  \n",
       "1         [0.0, 1.0]           0.067  [0.033, 0.967]  \n",
       "2         [0.0, 1.0]           0.133  [0.067, 0.933]  \n",
       "3         [0.0, 1.0]           0.200      [0.1, 0.9]  \n",
       "4         [0.0, 1.0]           0.267  [0.133, 0.867]  \n",
       "...              ...             ...             ...  \n",
       "1326      [1.0, 0.0]           0.267  [0.867, 0.133]  \n",
       "1327      [1.0, 0.0]           0.200      [0.9, 0.1]  \n",
       "1328      [1.0, 0.0]           0.133  [0.933, 0.067]  \n",
       "1329      [1.0, 0.0]           0.067  [0.967, 0.033]  \n",
       "1330      [1.0, 0.0]           0.000      [1.0, 0.0]  \n",
       "\n",
       "[1331 rows x 6 columns]"
      ]
     },
     "execution_count": 2,
     "metadata": {},
     "output_type": "execute_result"
    }
   ],
   "source": [
    "IMM = fyp.mass_calculate_fairness(n=3, m=2, mechanism='IMM', \n",
    "                                          metrics=['mean'])\n",
    "WMPM = fyp.mass_calculate_fairness(n=3, m=2, mechanism='WMPM', \n",
    "                                          metrics=['mean'])\n",
    "\n",
    "df = pd.merge(IMM, WMPM, left_index=True, right_index=True, suffixes=('_IMM', '_WMPM'))\n",
    "df.drop(columns=['profile_WMPM'],inplace=True)\n",
    "df.rename(columns={'mean_IMM':'dist_mean_IMM','mean_WMPM':'dist_mean_WMPM','profile_IMM':'profile'},inplace=True)\n",
    "df['mean_vote'] = df['profile'].apply(lambda x: np.round(np.mean(x, axis=0),3))\n",
    "df['dist_mean_IMM'] = df['dist_mean_IMM'].apply(lambda x: np.round(x,3))\n",
    "df['dist_mean_WMPM'] = df['dist_mean_WMPM'].apply(lambda x: np.round(x,3))\n",
    "df"
   ]
  },
  {
   "cell_type": "markdown",
   "metadata": {},
   "source": [
    "if (what condition):\n",
    "    this profile belongs to which figure "
   ]
  },
  {
   "cell_type": "markdown",
   "metadata": {},
   "source": [
    "max value as iterating over alphas"
   ]
  },
  {
   "cell_type": "code",
   "execution_count": 3,
   "metadata": {},
   "outputs": [],
   "source": [
    "def get_min_max(P):\n",
    "    \n",
    "    df = fyp.iterate_over_alphas(P, np.linspace(0, 1, 10), disutility_type='mean')\n",
    "\n",
    "    return np.round((max(df['mean']) , min(df['mean'])),3)\n",
    "\n",
    "df[['max_fairness', 'min_fairness']] = df['profile'].apply(\n",
    "    lambda p: pd.Series(get_min_max(p))\n",
    ")"
   ]
  },
  {
   "cell_type": "code",
   "execution_count": 4,
   "metadata": {},
   "outputs": [],
   "source": [
    "def check_status(df,row):\n",
    "    if df.loc[row,'dist_mean_IMM'] == df.loc[row,'dist_mean_WMPM']:\n",
    "        return 'Equal'\n",
    "    \n",
    "    elif (df.loc[row,'dist_mean_IMM'] > df.loc[row,'dist_mean_WMPM']): \n",
    "        if (df.loc[row,'dist_mean_IMM'] == df.loc[row,'max_fairness']) & (df.loc[row,'dist_mean_WMPM'] == df.loc[row,'min_fairness']) :\n",
    "\n",
    "            return 'No Tradeoff'\n",
    "        elif (df.loc[row,'dist_mean_WMPM'] < df.loc[row,'max_fairness']):\n",
    "            return 'Bend 2'    \n",
    "    \n",
    "    elif (df.loc[row,'dist_mean_IMM'] < df.loc[row,'dist_mean_WMPM']):\n",
    "        if (df.loc[row,'dist_mean_IMM'] == df.loc[row,'min_fairness']):\n",
    "            return 'Standard Tradeoff'\n",
    "        \n",
    "        elif (df.loc[row,'dist_mean_IMM'] > df.loc[row,'min_fairness']):\n",
    "            return 'Bend 1'\n",
    "\n",
    "        \n",
    "\n",
    "for i in range(len(df)):\n",
    "    df.loc[i,'status']= check_status(df,i)"
   ]
  },
  {
   "cell_type": "code",
   "execution_count": 5,
   "metadata": {},
   "outputs": [
    {
     "data": {
      "text/html": [
       "<div>\n",
       "<style scoped>\n",
       "    .dataframe tbody tr th:only-of-type {\n",
       "        vertical-align: middle;\n",
       "    }\n",
       "\n",
       "    .dataframe tbody tr th {\n",
       "        vertical-align: top;\n",
       "    }\n",
       "\n",
       "    .dataframe thead th {\n",
       "        text-align: right;\n",
       "    }\n",
       "</style>\n",
       "<table border=\"1\" class=\"dataframe\">\n",
       "  <thead>\n",
       "    <tr style=\"text-align: right;\">\n",
       "      <th></th>\n",
       "      <th>profile</th>\n",
       "      <th>allocation_IMM</th>\n",
       "      <th>dist_mean_IMM</th>\n",
       "      <th>allocation_WMPM</th>\n",
       "      <th>dist_mean_WMPM</th>\n",
       "      <th>mean_vote</th>\n",
       "      <th>max_fairness</th>\n",
       "      <th>min_fairness</th>\n",
       "      <th>status</th>\n",
       "    </tr>\n",
       "  </thead>\n",
       "  <tbody>\n",
       "    <tr>\n",
       "      <th>0</th>\n",
       "      <td>[[0.0, 1.0], [0.0, 1.0], [0.0, 1.0]]</td>\n",
       "      <td>[0.0, 1.0]</td>\n",
       "      <td>0.000</td>\n",
       "      <td>[0.0, 1.0]</td>\n",
       "      <td>0.000</td>\n",
       "      <td>[0.0, 1.0]</td>\n",
       "      <td>0.000</td>\n",
       "      <td>0.000</td>\n",
       "      <td>Equal</td>\n",
       "    </tr>\n",
       "    <tr>\n",
       "      <th>1</th>\n",
       "      <td>[[0.0, 1.0], [0.0, 1.0], [0.1, 0.9]]</td>\n",
       "      <td>[0.1, 0.9]</td>\n",
       "      <td>0.133</td>\n",
       "      <td>[0.0, 1.0]</td>\n",
       "      <td>0.067</td>\n",
       "      <td>[0.033, 0.967]</td>\n",
       "      <td>0.133</td>\n",
       "      <td>0.000</td>\n",
       "      <td>Bend 2</td>\n",
       "    </tr>\n",
       "    <tr>\n",
       "      <th>2</th>\n",
       "      <td>[[0.0, 1.0], [0.0, 1.0], [0.2, 0.8]]</td>\n",
       "      <td>[0.2, 0.8]</td>\n",
       "      <td>0.267</td>\n",
       "      <td>[0.0, 1.0]</td>\n",
       "      <td>0.133</td>\n",
       "      <td>[0.067, 0.933]</td>\n",
       "      <td>0.267</td>\n",
       "      <td>0.000</td>\n",
       "      <td>Bend 2</td>\n",
       "    </tr>\n",
       "    <tr>\n",
       "      <th>3</th>\n",
       "      <td>[[0.0, 1.0], [0.0, 1.0], [0.3, 0.7]]</td>\n",
       "      <td>[0.3, 0.7]</td>\n",
       "      <td>0.400</td>\n",
       "      <td>[0.0, 1.0]</td>\n",
       "      <td>0.200</td>\n",
       "      <td>[0.1, 0.9]</td>\n",
       "      <td>0.400</td>\n",
       "      <td>0.000</td>\n",
       "      <td>Bend 2</td>\n",
       "    </tr>\n",
       "    <tr>\n",
       "      <th>4</th>\n",
       "      <td>[[0.0, 1.0], [0.0, 1.0], [0.4, 0.6]]</td>\n",
       "      <td>[0.333, 0.667]</td>\n",
       "      <td>0.400</td>\n",
       "      <td>[0.0, 1.0]</td>\n",
       "      <td>0.267</td>\n",
       "      <td>[0.133, 0.867]</td>\n",
       "      <td>0.400</td>\n",
       "      <td>0.030</td>\n",
       "      <td>Bend 2</td>\n",
       "    </tr>\n",
       "    <tr>\n",
       "      <th>5</th>\n",
       "      <td>[[0.0, 1.0], [0.0, 1.0], [0.5, 0.5]]</td>\n",
       "      <td>[0.333, 0.667]</td>\n",
       "      <td>0.333</td>\n",
       "      <td>[0.0, 1.0]</td>\n",
       "      <td>0.333</td>\n",
       "      <td>[0.167, 0.833]</td>\n",
       "      <td>0.333</td>\n",
       "      <td>0.037</td>\n",
       "      <td>Equal</td>\n",
       "    </tr>\n",
       "    <tr>\n",
       "      <th>6</th>\n",
       "      <td>[[0.0, 1.0], [0.0, 1.0], [0.6, 0.4]]</td>\n",
       "      <td>[0.333, 0.667]</td>\n",
       "      <td>0.267</td>\n",
       "      <td>[0.0, 1.0]</td>\n",
       "      <td>0.400</td>\n",
       "      <td>[0.2, 0.8]</td>\n",
       "      <td>0.400</td>\n",
       "      <td>0.030</td>\n",
       "      <td>Bend 1</td>\n",
       "    </tr>\n",
       "    <tr>\n",
       "      <th>7</th>\n",
       "      <td>[[0.0, 1.0], [0.0, 1.0], [0.7, 0.3]]</td>\n",
       "      <td>[0.333, 0.667]</td>\n",
       "      <td>0.200</td>\n",
       "      <td>[0.0, 1.0]</td>\n",
       "      <td>0.467</td>\n",
       "      <td>[0.233, 0.767]</td>\n",
       "      <td>0.467</td>\n",
       "      <td>0.022</td>\n",
       "      <td>Bend 1</td>\n",
       "    </tr>\n",
       "    <tr>\n",
       "      <th>8</th>\n",
       "      <td>[[0.0, 1.0], [0.0, 1.0], [0.8, 0.2]]</td>\n",
       "      <td>[0.333, 0.667]</td>\n",
       "      <td>0.133</td>\n",
       "      <td>[0.0, 1.0]</td>\n",
       "      <td>0.533</td>\n",
       "      <td>[0.267, 0.733]</td>\n",
       "      <td>0.533</td>\n",
       "      <td>0.015</td>\n",
       "      <td>Bend 1</td>\n",
       "    </tr>\n",
       "    <tr>\n",
       "      <th>9</th>\n",
       "      <td>[[0.0, 1.0], [0.0, 1.0], [0.9, 0.1]]</td>\n",
       "      <td>[0.333, 0.667]</td>\n",
       "      <td>0.067</td>\n",
       "      <td>[0.0, 1.0]</td>\n",
       "      <td>0.600</td>\n",
       "      <td>[0.3, 0.7]</td>\n",
       "      <td>0.600</td>\n",
       "      <td>0.007</td>\n",
       "      <td>Bend 1</td>\n",
       "    </tr>\n",
       "    <tr>\n",
       "      <th>10</th>\n",
       "      <td>[[0.0, 1.0], [0.0, 1.0], [1.0, 0.0]]</td>\n",
       "      <td>[0.333, 0.667]</td>\n",
       "      <td>0.000</td>\n",
       "      <td>[0.0, 1.0]</td>\n",
       "      <td>0.667</td>\n",
       "      <td>[0.333, 0.667]</td>\n",
       "      <td>0.667</td>\n",
       "      <td>0.000</td>\n",
       "      <td>Standard Tradeoff</td>\n",
       "    </tr>\n",
       "    <tr>\n",
       "      <th>11</th>\n",
       "      <td>[[0.0, 1.0], [0.1, 0.9], [0.0, 1.0]]</td>\n",
       "      <td>[0.1, 0.9]</td>\n",
       "      <td>0.133</td>\n",
       "      <td>[0.0, 1.0]</td>\n",
       "      <td>0.067</td>\n",
       "      <td>[0.033, 0.967]</td>\n",
       "      <td>0.133</td>\n",
       "      <td>0.000</td>\n",
       "      <td>Bend 2</td>\n",
       "    </tr>\n",
       "    <tr>\n",
       "      <th>12</th>\n",
       "      <td>[[0.0, 1.0], [0.1, 0.9], [0.1, 0.9]]</td>\n",
       "      <td>[0.1, 0.9]</td>\n",
       "      <td>0.067</td>\n",
       "      <td>[0.1, 0.9]</td>\n",
       "      <td>0.067</td>\n",
       "      <td>[0.067, 0.933]</td>\n",
       "      <td>0.067</td>\n",
       "      <td>0.067</td>\n",
       "      <td>Equal</td>\n",
       "    </tr>\n",
       "    <tr>\n",
       "      <th>13</th>\n",
       "      <td>[[0.0, 1.0], [0.1, 0.9], [0.2, 0.8]]</td>\n",
       "      <td>[0.2, 0.8]</td>\n",
       "      <td>0.200</td>\n",
       "      <td>[0.1, 0.9]</td>\n",
       "      <td>0.000</td>\n",
       "      <td>[0.1, 0.9]</td>\n",
       "      <td>0.200</td>\n",
       "      <td>0.000</td>\n",
       "      <td>No Tradeoff</td>\n",
       "    </tr>\n",
       "    <tr>\n",
       "      <th>14</th>\n",
       "      <td>[[0.0, 1.0], [0.1, 0.9], [0.3, 0.7]]</td>\n",
       "      <td>[0.3, 0.7]</td>\n",
       "      <td>0.333</td>\n",
       "      <td>[0.1, 0.9]</td>\n",
       "      <td>0.067</td>\n",
       "      <td>[0.133, 0.867]</td>\n",
       "      <td>0.333</td>\n",
       "      <td>0.022</td>\n",
       "      <td>Bend 2</td>\n",
       "    </tr>\n",
       "    <tr>\n",
       "      <th>15</th>\n",
       "      <td>[[0.0, 1.0], [0.1, 0.9], [0.4, 0.6]]</td>\n",
       "      <td>[0.333, 0.667]</td>\n",
       "      <td>0.333</td>\n",
       "      <td>[0.1, 0.9]</td>\n",
       "      <td>0.133</td>\n",
       "      <td>[0.167, 0.833]</td>\n",
       "      <td>0.333</td>\n",
       "      <td>0.022</td>\n",
       "      <td>Bend 2</td>\n",
       "    </tr>\n",
       "    <tr>\n",
       "      <th>16</th>\n",
       "      <td>[[0.0, 1.0], [0.1, 0.9], [0.5, 0.5]]</td>\n",
       "      <td>[0.333, 0.667]</td>\n",
       "      <td>0.267</td>\n",
       "      <td>[0.1, 0.9]</td>\n",
       "      <td>0.200</td>\n",
       "      <td>[0.2, 0.8]</td>\n",
       "      <td>0.267</td>\n",
       "      <td>0.007</td>\n",
       "      <td>Bend 2</td>\n",
       "    </tr>\n",
       "    <tr>\n",
       "      <th>17</th>\n",
       "      <td>[[0.0, 1.0], [0.1, 0.9], [0.6, 0.4]]</td>\n",
       "      <td>[0.333, 0.667]</td>\n",
       "      <td>0.200</td>\n",
       "      <td>[0.1, 0.9]</td>\n",
       "      <td>0.267</td>\n",
       "      <td>[0.233, 0.767]</td>\n",
       "      <td>0.267</td>\n",
       "      <td>0.007</td>\n",
       "      <td>Bend 1</td>\n",
       "    </tr>\n",
       "    <tr>\n",
       "      <th>18</th>\n",
       "      <td>[[0.0, 1.0], [0.1, 0.9], [0.7, 0.3]]</td>\n",
       "      <td>[0.333, 0.667]</td>\n",
       "      <td>0.133</td>\n",
       "      <td>[0.1, 0.9]</td>\n",
       "      <td>0.333</td>\n",
       "      <td>[0.267, 0.733]</td>\n",
       "      <td>0.333</td>\n",
       "      <td>0.022</td>\n",
       "      <td>Bend 1</td>\n",
       "    </tr>\n",
       "    <tr>\n",
       "      <th>19</th>\n",
       "      <td>[[0.0, 1.0], [0.1, 0.9], [0.8, 0.2]]</td>\n",
       "      <td>[0.333, 0.667]</td>\n",
       "      <td>0.067</td>\n",
       "      <td>[0.1, 0.9]</td>\n",
       "      <td>0.400</td>\n",
       "      <td>[0.3, 0.7]</td>\n",
       "      <td>0.400</td>\n",
       "      <td>0.015</td>\n",
       "      <td>Bend 1</td>\n",
       "    </tr>\n",
       "  </tbody>\n",
       "</table>\n",
       "</div>"
      ],
      "text/plain": [
       "                                 profile  allocation_IMM  dist_mean_IMM  \\\n",
       "0   [[0.0, 1.0], [0.0, 1.0], [0.0, 1.0]]      [0.0, 1.0]          0.000   \n",
       "1   [[0.0, 1.0], [0.0, 1.0], [0.1, 0.9]]      [0.1, 0.9]          0.133   \n",
       "2   [[0.0, 1.0], [0.0, 1.0], [0.2, 0.8]]      [0.2, 0.8]          0.267   \n",
       "3   [[0.0, 1.0], [0.0, 1.0], [0.3, 0.7]]      [0.3, 0.7]          0.400   \n",
       "4   [[0.0, 1.0], [0.0, 1.0], [0.4, 0.6]]  [0.333, 0.667]          0.400   \n",
       "5   [[0.0, 1.0], [0.0, 1.0], [0.5, 0.5]]  [0.333, 0.667]          0.333   \n",
       "6   [[0.0, 1.0], [0.0, 1.0], [0.6, 0.4]]  [0.333, 0.667]          0.267   \n",
       "7   [[0.0, 1.0], [0.0, 1.0], [0.7, 0.3]]  [0.333, 0.667]          0.200   \n",
       "8   [[0.0, 1.0], [0.0, 1.0], [0.8, 0.2]]  [0.333, 0.667]          0.133   \n",
       "9   [[0.0, 1.0], [0.0, 1.0], [0.9, 0.1]]  [0.333, 0.667]          0.067   \n",
       "10  [[0.0, 1.0], [0.0, 1.0], [1.0, 0.0]]  [0.333, 0.667]          0.000   \n",
       "11  [[0.0, 1.0], [0.1, 0.9], [0.0, 1.0]]      [0.1, 0.9]          0.133   \n",
       "12  [[0.0, 1.0], [0.1, 0.9], [0.1, 0.9]]      [0.1, 0.9]          0.067   \n",
       "13  [[0.0, 1.0], [0.1, 0.9], [0.2, 0.8]]      [0.2, 0.8]          0.200   \n",
       "14  [[0.0, 1.0], [0.1, 0.9], [0.3, 0.7]]      [0.3, 0.7]          0.333   \n",
       "15  [[0.0, 1.0], [0.1, 0.9], [0.4, 0.6]]  [0.333, 0.667]          0.333   \n",
       "16  [[0.0, 1.0], [0.1, 0.9], [0.5, 0.5]]  [0.333, 0.667]          0.267   \n",
       "17  [[0.0, 1.0], [0.1, 0.9], [0.6, 0.4]]  [0.333, 0.667]          0.200   \n",
       "18  [[0.0, 1.0], [0.1, 0.9], [0.7, 0.3]]  [0.333, 0.667]          0.133   \n",
       "19  [[0.0, 1.0], [0.1, 0.9], [0.8, 0.2]]  [0.333, 0.667]          0.067   \n",
       "\n",
       "   allocation_WMPM  dist_mean_WMPM       mean_vote  max_fairness  \\\n",
       "0       [0.0, 1.0]           0.000      [0.0, 1.0]         0.000   \n",
       "1       [0.0, 1.0]           0.067  [0.033, 0.967]         0.133   \n",
       "2       [0.0, 1.0]           0.133  [0.067, 0.933]         0.267   \n",
       "3       [0.0, 1.0]           0.200      [0.1, 0.9]         0.400   \n",
       "4       [0.0, 1.0]           0.267  [0.133, 0.867]         0.400   \n",
       "5       [0.0, 1.0]           0.333  [0.167, 0.833]         0.333   \n",
       "6       [0.0, 1.0]           0.400      [0.2, 0.8]         0.400   \n",
       "7       [0.0, 1.0]           0.467  [0.233, 0.767]         0.467   \n",
       "8       [0.0, 1.0]           0.533  [0.267, 0.733]         0.533   \n",
       "9       [0.0, 1.0]           0.600      [0.3, 0.7]         0.600   \n",
       "10      [0.0, 1.0]           0.667  [0.333, 0.667]         0.667   \n",
       "11      [0.0, 1.0]           0.067  [0.033, 0.967]         0.133   \n",
       "12      [0.1, 0.9]           0.067  [0.067, 0.933]         0.067   \n",
       "13      [0.1, 0.9]           0.000      [0.1, 0.9]         0.200   \n",
       "14      [0.1, 0.9]           0.067  [0.133, 0.867]         0.333   \n",
       "15      [0.1, 0.9]           0.133  [0.167, 0.833]         0.333   \n",
       "16      [0.1, 0.9]           0.200      [0.2, 0.8]         0.267   \n",
       "17      [0.1, 0.9]           0.267  [0.233, 0.767]         0.267   \n",
       "18      [0.1, 0.9]           0.333  [0.267, 0.733]         0.333   \n",
       "19      [0.1, 0.9]           0.400      [0.3, 0.7]         0.400   \n",
       "\n",
       "    min_fairness             status  \n",
       "0          0.000              Equal  \n",
       "1          0.000             Bend 2  \n",
       "2          0.000             Bend 2  \n",
       "3          0.000             Bend 2  \n",
       "4          0.030             Bend 2  \n",
       "5          0.037              Equal  \n",
       "6          0.030             Bend 1  \n",
       "7          0.022             Bend 1  \n",
       "8          0.015             Bend 1  \n",
       "9          0.007             Bend 1  \n",
       "10         0.000  Standard Tradeoff  \n",
       "11         0.000             Bend 2  \n",
       "12         0.067              Equal  \n",
       "13         0.000        No Tradeoff  \n",
       "14         0.022             Bend 2  \n",
       "15         0.022             Bend 2  \n",
       "16         0.007             Bend 2  \n",
       "17         0.007             Bend 1  \n",
       "18         0.022             Bend 1  \n",
       "19         0.015             Bend 1  "
      ]
     },
     "execution_count": 5,
     "metadata": {},
     "output_type": "execute_result"
    }
   ],
   "source": [
    "df.head(20)"
   ]
  },
  {
   "cell_type": "code",
   "execution_count": 6,
   "metadata": {},
   "outputs": [
    {
     "data": {
      "text/plain": [
       "status\n",
       "Equal                611\n",
       "Standard Tradeoff    384\n",
       "No Tradeoff          120\n",
       "Bend 1               108\n",
       "Bend 2               108\n",
       "Name: count, dtype: int64"
      ]
     },
     "execution_count": 6,
     "metadata": {},
     "output_type": "execute_result"
    }
   ],
   "source": [
    "df['status'].value_counts()"
   ]
  },
  {
   "cell_type": "code",
   "execution_count": 7,
   "metadata": {},
   "outputs": [
    {
     "data": {
      "image/png": "[encoded data removed]",
      "text/plain": [
       "<Figure size 700x600 with 1 Axes>"
      ]
     },
     "metadata": {},
     "output_type": "display_data"
    },
    {
     "data": {
      "text/html": [
       "<div>\n",
       "<style scoped>\n",
       "    .dataframe tbody tr th:only-of-type {\n",
       "        vertical-align: middle;\n",
       "    }\n",
       "\n",
       "    .dataframe tbody tr th {\n",
       "        vertical-align: top;\n",
       "    }\n",
       "\n",
       "    .dataframe thead th {\n",
       "        text-align: right;\n",
       "    }\n",
       "</style>\n",
       "<table border=\"1\" class=\"dataframe\">\n",
       "  <thead>\n",
       "    <tr style=\"text-align: right;\">\n",
       "      <th></th>\n",
       "      <th>alpha</th>\n",
       "      <th>Allocation</th>\n",
       "      <th>Welfare</th>\n",
       "      <th>Fairness</th>\n",
       "    </tr>\n",
       "  </thead>\n",
       "  <tbody>\n",
       "    <tr>\n",
       "      <th>0</th>\n",
       "      <td>0.000</td>\n",
       "      <td>[0.6666666716337204, 0.3333333358168602]</td>\n",
       "      <td>2.067</td>\n",
       "      <td>0.200</td>\n",
       "    </tr>\n",
       "    <tr>\n",
       "      <th>1</th>\n",
       "      <td>0.053</td>\n",
       "      <td>[0.6842105310214193, 0.31578947603702545]</td>\n",
       "      <td>2.032</td>\n",
       "      <td>0.165</td>\n",
       "    </tr>\n",
       "    <tr>\n",
       "      <th>2</th>\n",
       "      <td>0.105</td>\n",
       "      <td>[0.7017543904091182, 0.2982456162571907]</td>\n",
       "      <td>1.996</td>\n",
       "      <td>0.130</td>\n",
       "    </tr>\n",
       "    <tr>\n",
       "      <th>3</th>\n",
       "      <td>0.158</td>\n",
       "      <td>[0.7192982497968172, 0.28070175647735596]</td>\n",
       "      <td>1.961</td>\n",
       "      <td>0.095</td>\n",
       "    </tr>\n",
       "    <tr>\n",
       "      <th>4</th>\n",
       "      <td>0.211</td>\n",
       "      <td>[0.7368421091845161, 0.2631578966975212]</td>\n",
       "      <td>1.926</td>\n",
       "      <td>0.060</td>\n",
       "    </tr>\n",
       "    <tr>\n",
       "      <th>5</th>\n",
       "      <td>0.263</td>\n",
       "      <td>[0.7543859685722151, 0.2456140369176865]</td>\n",
       "      <td>1.891</td>\n",
       "      <td>0.025</td>\n",
       "    </tr>\n",
       "    <tr>\n",
       "      <th>6</th>\n",
       "      <td>0.316</td>\n",
       "      <td>[0.7719298279599139, 0.22807017713785172]</td>\n",
       "      <td>1.856</td>\n",
       "      <td>0.011</td>\n",
       "    </tr>\n",
       "    <tr>\n",
       "      <th>7</th>\n",
       "      <td>0.368</td>\n",
       "      <td>[0.7894736873476129, 0.21052631735801697]</td>\n",
       "      <td>1.821</td>\n",
       "      <td>0.046</td>\n",
       "    </tr>\n",
       "    <tr>\n",
       "      <th>8</th>\n",
       "      <td>0.421</td>\n",
       "      <td>[0.8070175467353118, 0.19298245757818222]</td>\n",
       "      <td>1.786</td>\n",
       "      <td>0.081</td>\n",
       "    </tr>\n",
       "    <tr>\n",
       "      <th>9</th>\n",
       "      <td>0.474</td>\n",
       "      <td>[0.8245614061230108, 0.1754385977983475]</td>\n",
       "      <td>1.751</td>\n",
       "      <td>0.116</td>\n",
       "    </tr>\n",
       "    <tr>\n",
       "      <th>10</th>\n",
       "      <td>0.526</td>\n",
       "      <td>[0.8421052655107096, 0.15789473801851273]</td>\n",
       "      <td>1.716</td>\n",
       "      <td>0.151</td>\n",
       "    </tr>\n",
       "    <tr>\n",
       "      <th>11</th>\n",
       "      <td>0.579</td>\n",
       "      <td>[0.8596491248984086, 0.14035087823867798]</td>\n",
       "      <td>1.681</td>\n",
       "      <td>0.186</td>\n",
       "    </tr>\n",
       "    <tr>\n",
       "      <th>12</th>\n",
       "      <td>0.632</td>\n",
       "      <td>[0.8771929842861075, 0.12280701845884325]</td>\n",
       "      <td>1.646</td>\n",
       "      <td>0.221</td>\n",
       "    </tr>\n",
       "    <tr>\n",
       "      <th>13</th>\n",
       "      <td>0.684</td>\n",
       "      <td>[0.8947368436738063, 0.10526315867900851]</td>\n",
       "      <td>1.611</td>\n",
       "      <td>0.256</td>\n",
       "    </tr>\n",
       "    <tr>\n",
       "      <th>14</th>\n",
       "      <td>0.737</td>\n",
       "      <td>[0.9122807030615053, 0.08771929889917375]</td>\n",
       "      <td>1.575</td>\n",
       "      <td>0.291</td>\n",
       "    </tr>\n",
       "    <tr>\n",
       "      <th>15</th>\n",
       "      <td>0.789</td>\n",
       "      <td>[0.9298245624492043, 0.07017543911933899]</td>\n",
       "      <td>1.540</td>\n",
       "      <td>0.326</td>\n",
       "    </tr>\n",
       "    <tr>\n",
       "      <th>16</th>\n",
       "      <td>0.842</td>\n",
       "      <td>[0.9473684218369032, 0.052631579339504256]</td>\n",
       "      <td>1.505</td>\n",
       "      <td>0.361</td>\n",
       "    </tr>\n",
       "    <tr>\n",
       "      <th>17</th>\n",
       "      <td>0.895</td>\n",
       "      <td>[0.9649122812246022, 0.03508771955966953]</td>\n",
       "      <td>1.470</td>\n",
       "      <td>0.396</td>\n",
       "    </tr>\n",
       "    <tr>\n",
       "      <th>18</th>\n",
       "      <td>0.947</td>\n",
       "      <td>[0.982456140612301, 0.017543859779834765]</td>\n",
       "      <td>1.435</td>\n",
       "      <td>0.432</td>\n",
       "    </tr>\n",
       "    <tr>\n",
       "      <th>19</th>\n",
       "      <td>1.000</td>\n",
       "      <td>[1.0, 0.0]</td>\n",
       "      <td>1.400</td>\n",
       "      <td>0.467</td>\n",
       "    </tr>\n",
       "  </tbody>\n",
       "</table>\n",
       "</div>"
      ],
      "text/plain": [
       "    alpha                                  Allocation  Welfare  Fairness\n",
       "0   0.000    [0.6666666716337204, 0.3333333358168602]    2.067     0.200\n",
       "1   0.053   [0.6842105310214193, 0.31578947603702545]    2.032     0.165\n",
       "2   0.105    [0.7017543904091182, 0.2982456162571907]    1.996     0.130\n",
       "3   0.158   [0.7192982497968172, 0.28070175647735596]    1.961     0.095\n",
       "4   0.211    [0.7368421091845161, 0.2631578966975212]    1.926     0.060\n",
       "5   0.263    [0.7543859685722151, 0.2456140369176865]    1.891     0.025\n",
       "6   0.316   [0.7719298279599139, 0.22807017713785172]    1.856     0.011\n",
       "7   0.368   [0.7894736873476129, 0.21052631735801697]    1.821     0.046\n",
       "8   0.421   [0.8070175467353118, 0.19298245757818222]    1.786     0.081\n",
       "9   0.474    [0.8245614061230108, 0.1754385977983475]    1.751     0.116\n",
       "10  0.526   [0.8421052655107096, 0.15789473801851273]    1.716     0.151\n",
       "11  0.579   [0.8596491248984086, 0.14035087823867798]    1.681     0.186\n",
       "12  0.632   [0.8771929842861075, 0.12280701845884325]    1.646     0.221\n",
       "13  0.684   [0.8947368436738063, 0.10526315867900851]    1.611     0.256\n",
       "14  0.737   [0.9122807030615053, 0.08771929889917375]    1.575     0.291\n",
       "15  0.789   [0.9298245624492043, 0.07017543911933899]    1.540     0.326\n",
       "16  0.842  [0.9473684218369032, 0.052631579339504256]    1.505     0.361\n",
       "17  0.895   [0.9649122812246022, 0.03508771955966953]    1.470     0.396\n",
       "18  0.947   [0.982456140612301, 0.017543859779834765]    1.435     0.432\n",
       "19  1.000                                  [1.0, 0.0]    1.400     0.467"
      ]
     },
     "execution_count": 7,
     "metadata": {},
     "output_type": "execute_result"
    }
   ],
   "source": [
    "p = np.array(\t[[1, 0], [1., 0], [0.3, 0.7]]\t)\n",
    "fyp.plot_tradeoff_with_alpha(p,20)"
   ]
  },
  {
   "cell_type": "code",
   "execution_count": 8,
   "metadata": {},
   "outputs": [
    {
     "data": {
      "application/vnd.plotly.v1+json": {
       "config": {
        "plotlyServerURL": "https://plot.ly"
       },
       "data": [
        {
         "hovertemplate": "status=Equal<br>x=%{x}<br>y=%{y}<br>z=%{z}<extra></extra>",
         "legendgroup": "Equal",
         "marker": {
          "color": "#636efa",
          "symbol": "circle"
         },
         "mode": "markers",
         "name": "Equal",
         "scene": "scene",
         "showlegend": true,
         "type": "scatter3d",
         "x": {
          "bdata": "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",
          "dtype": "f8"
         },
         "y": {
          "bdata": "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",
          "dtype": "f8"
         },
         "z": {
          "bdata": "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",
          "dtype": "f8"
         }
        },
        {
         "hovertemplate": "status=Bend 2<br>x=%{x}<br>y=%{y}<br>z=%{z}<extra></extra>",
         "legendgroup": "Bend 2",
         "marker": {
          "color": "#EF553B",
          "symbol": "circle"
         },
         "mode": "markers",
         "name": "Bend 2",
         "scene": "scene",
         "showlegend": true,
         "type": "scatter3d",
         "x": {
          "bdata": "AAAAAAAAAAAAAAAAAAAAAAAAAAAAAAAAAAAAAAAAAAAAAAAAAAAAAAAAAAAAAAAAAAAAAAAAAAAAAAAAAAAAAAAAAAAAAAAAAAAAAAAAAAAAAAAAAAAAAAAAAAAAAAAAAAAAAAAAAAAAAAAAAAAAAAAAAAAAAAAAAAAAAAAAAACamZmZmZm5P5qZmZmZmbk/mpmZmZmZuT+amZmZmZm5P5qZmZmZmbk/mpmZmZmZuT+amZmZmZm5P5qZmZmZmbk/mpmZmZmZuT+amZmZmZm5P5qZmZmZmbk/mpmZmZmZuT+amZmZmZm5P5qZmZmZmbk/mpmZmZmZuT+amZmZmZnJP5qZmZmZmck/mpmZmZmZyT+amZmZmZnJP5qZmZmZmck/mpmZmZmZyT+amZmZmZnJP5qZmZmZmck/MzMzMzMz0z8zMzMzMzPTPzMzMzMzM9M/MzMzMzMz0z8zMzMzMzPTP5qZmZmZmdk/mpmZmZmZ2T+amZmZmZnZP5qZmZmZmdk/mpmZmZmZ2T+amZmZmZnZPwAAAAAAAOA/AAAAAAAA4D8AAAAAAADgPwAAAAAAAOA/AAAAAAAA4D8AAAAAAADgPwAAAAAAAOA/AAAAAAAA4D8zMzMzMzPjPzMzMzMzM+M/MzMzMzMz4z8zMzMzMzPjPzMzMzMzM+M/MzMzMzMz4z9mZmZmZmbmP2ZmZmZmZuY/ZmZmZmZm5j9mZmZmZmbmP2ZmZmZmZuY/mpmZmZmZ6T+amZmZmZnpP5qZmZmZmek/mpmZmZmZ6T+amZmZmZnpP5qZmZmZmek/mpmZmZmZ6T+amZmZmZnpP83MzMzMzOw/zczMzMzM7D/NzMzMzMzsP83MzMzMzOw/zczMzMzM7D/NzMzMzMzsP83MzMzMzOw/zczMzMzM7D/NzMzMzMzsP83MzMzMzOw/zczMzMzM7D/NzMzMzMzsP83MzMzMzOw/zczMzMzM7D/NzMzMzMzsPwAAAAAAAPA/AAAAAAAA8D8AAAAAAADwPwAAAAAAAPA/AAAAAAAA8D8AAAAAAADwPwAAAAAAAPA/AAAAAAAA8D8AAAAAAADwPwAAAAAAAPA/AAAAAAAA8D8AAAAAAADwPwAAAAAAAPA/AAAAAAAA8D8AAAAAAADwPwAAAAAAAPA/",
          "dtype": "f8"
         },
         "y": {
          "bdata": "AAAAAAAAAAAAAAAAAAAAAAAAAAAAAAAAAAAAAAAAAACamZmZmZm5P5qZmZmZmbk/mpmZmZmZuT+amZmZmZm5P5qZmZmZmck/mpmZmZmZyT8zMzMzMzPTPzMzMzMzM9M/mpmZmZmZ2T+amZmZmZnZPwAAAAAAAOA/AAAAAAAA4D8AAAAAAAAAAAAAAAAAAAAAAAAAAAAAAAAAAAAAAAAAAJqZmZmZmbk/mpmZmZmZuT+amZmZmZm5P5qZmZmZmck/mpmZmZmZyT8zMzMzMzPTPzMzMzMzM9M/mpmZmZmZ2T+amZmZmZnZP5qZmZmZmdk/AAAAAAAA4D8AAAAAAAAAAAAAAAAAAAAAmpmZmZmZuT+amZmZmZm5P5qZmZmZmck/MzMzMzMz0z+amZmZmZnZPwAAAAAAAOA/AAAAAAAAAAAAAAAAAAAAAJqZmZmZmbk/mpmZmZmZuT+amZmZmZnJPwAAAAAAAAAAAAAAAAAAAACamZmZmZm5P5qZmZmZmbk/mpmZmZmZuT+amZmZmZnJPwAAAAAAAAAAAAAAAAAAAACamZmZmZm5P5qZmZmZmck/mpmZmZmZ6T/NzMzMzMzsPwAAAAAAAPA/AAAAAAAA8D+amZmZmZnpP83MzMzMzOw/zczMzMzM7D/NzMzMzMzsPwAAAAAAAPA/AAAAAAAA8D+amZmZmZnpP83MzMzMzOw/zczMzMzM7D8AAAAAAADwPwAAAAAAAPA/AAAAAAAA4D8zMzMzMzPjP2ZmZmZmZuY/mpmZmZmZ6T/NzMzMzMzsP83MzMzMzOw/AAAAAAAA8D8AAAAAAADwPwAAAAAAAOA/MzMzMzMz4z8zMzMzMzPjPzMzMzMzM+M/ZmZmZmZm5j9mZmZmZmbmP5qZmZmZmek/mpmZmZmZ6T/NzMzMzMzsP83MzMzMzOw/zczMzMzM7D8AAAAAAADwPwAAAAAAAPA/AAAAAAAA8D8AAAAAAADwPwAAAAAAAOA/AAAAAAAA4D8zMzMzMzPjPzMzMzMzM+M/ZmZmZmZm5j9mZmZmZmbmP5qZmZmZmek/mpmZmZmZ6T/NzMzMzMzsP83MzMzMzOw/zczMzMzM7D/NzMzMzMzsPwAAAAAAAPA/AAAAAAAA8D8AAAAAAADwPwAAAAAAAPA/",
          "dtype": "f8"
         },
         "z": {
          "bdata": "mpmZmZmZuT+amZmZmZnJPzMzMzMzM9M/mpmZmZmZ2T8AAAAAAAAAADMzMzMzM9M/mpmZmZmZ2T8AAAAAAADgPwAAAAAAAAAAAAAAAAAA4D8AAAAAAAAAAJqZmZmZmbk/AAAAAAAAAACamZmZmZm5P5qZmZmZmbk/mpmZmZmZyT8AAAAAAAAAADMzMzMzM9M/mpmZmZmZ2T8AAAAAAADgP5qZmZmZmck/MzMzMzMz0z+amZmZmZnZP5qZmZmZmbk/mpmZmZmZ2T8AAAAAAAAAAJqZmZmZmbk/AAAAAAAAAACamZmZmZm5P5qZmZmZmck/AAAAAAAAAAAAAAAAAAAAAAAAAAAAAOA/mpmZmZmZuT+amZmZmZnZPzMzMzMzM9M/mpmZmZmZyT+amZmZmZm5PwAAAAAAAAAAAAAAAAAAAACamZmZmZm5PwAAAAAAAAAAmpmZmZmZuT+amZmZmZnJPwAAAAAAAAAAmpmZmZmZuT8AAAAAAAAAAJqZmZmZmbk/mpmZmZmZyT+amZmZmZm5P5qZmZmZmbk/mpmZmZmZyT8AAAAAAAAAAAAAAAAAAAAAAAAAAAAA8D8AAAAAAADwP5qZmZmZmek/zczMzMzM7D/NzMzMzMzsP5qZmZmZmek/zczMzMzM7D8AAAAAAADwP83MzMzMzOw/AAAAAAAA8D+amZmZmZnpP83MzMzMzOw/AAAAAAAA8D/NzMzMzMzsPwAAAAAAAPA/AAAAAAAA8D/NzMzMzMzsP5qZmZmZmek/ZmZmZmZm5j8zMzMzMzPjP83MzMzMzOw/AAAAAAAA4D8AAAAAAADwPwAAAAAAAPA/mpmZmZmZ6T/NzMzMzMzsPwAAAAAAAPA/zczMzMzM7D8AAAAAAADwPzMzMzMzM+M/zczMzMzM7D8zMzMzMzPjP2ZmZmZmZuY/mpmZmZmZ6T8AAAAAAADgPzMzMzMzM+M/ZmZmZmZm5j8AAAAAAADwP5qZmZmZmek/zczMzMzM7D/NzMzMzMzsPwAAAAAAAPA/zczMzMzM7D8AAAAAAADwPwAAAAAAAOA/AAAAAAAA8D8AAAAAAADgPzMzMzMzM+M/ZmZmZmZm5j8AAAAAAADwPzMzMzMzM+M/ZmZmZmZm5j+amZmZmZnpP83MzMzMzOw/",
          "dtype": "f8"
         }
        },
        {
         "hovertemplate": "status=Bend 1<br>x=%{x}<br>y=%{y}<br>z=%{z}<extra></extra>",
         "legendgroup": "Bend 1",
         "marker": {
          "color": "#00cc96",
          "symbol": "circle"
         },
         "mode": "markers",
         "name": "Bend 1",
         "scene": "scene",
         "showlegend": true,
         "type": "scatter3d",
         "x": {
          "bdata": "AAAAAAAAAAAAAAAAAAAAAAAAAAAAAAAAAAAAAAAAAAAAAAAAAAAAAAAAAAAAAAAAAAAAAAAAAAAAAAAAAAAAAAAAAAAAAAAAAAAAAAAAAAAAAAAAAAAAAAAAAAAAAAAAAAAAAAAAAAAAAAAAAAAAAAAAAAAAAAAAAAAAAAAAAACamZmZmZm5P5qZmZmZmbk/mpmZmZmZuT+amZmZmZm5P5qZmZmZmbk/mpmZmZmZuT+amZmZmZm5P5qZmZmZmbk/mpmZmZmZuT+amZmZmZm5P5qZmZmZmbk/mpmZmZmZuT+amZmZmZm5P5qZmZmZmbk/mpmZmZmZuT+amZmZmZnJP5qZmZmZmck/mpmZmZmZyT+amZmZmZnJP5qZmZmZmck/mpmZmZmZyT+amZmZmZnJP5qZmZmZmck/mpmZmZmZyT8zMzMzMzPTPzMzMzMzM9M/MzMzMzMz0z8zMzMzMzPTPzMzMzMzM9M/MzMzMzMz0z+amZmZmZnZP5qZmZmZmdk/mpmZmZmZ2T+amZmZmZnZP5qZmZmZmdk/mpmZmZmZ2T8AAAAAAADgPwAAAAAAAOA/AAAAAAAA4D8AAAAAAADgPzMzMzMzM+M/MzMzMzMz4z8zMzMzMzPjPzMzMzMzM+M/MzMzMzMz4z8zMzMzMzPjP2ZmZmZmZuY/ZmZmZmZm5j9mZmZmZmbmP2ZmZmZmZuY/ZmZmZmZm5j9mZmZmZmbmP5qZmZmZmek/mpmZmZmZ6T+amZmZmZnpP5qZmZmZmek/mpmZmZmZ6T+amZmZmZnpP5qZmZmZmek/mpmZmZmZ6T+amZmZmZnpP83MzMzMzOw/zczMzMzM7D/NzMzMzMzsP83MzMzMzOw/zczMzMzM7D/NzMzMzMzsP83MzMzMzOw/zczMzMzM7D/NzMzMzMzsP83MzMzMzOw/zczMzMzM7D/NzMzMzMzsP83MzMzMzOw/zczMzMzM7D/NzMzMzMzsPwAAAAAAAPA/AAAAAAAA8D8AAAAAAADwPwAAAAAAAPA/AAAAAAAA8D8AAAAAAADwPwAAAAAAAPA/AAAAAAAA8D8AAAAAAADwPwAAAAAAAPA/AAAAAAAA8D8AAAAAAADwPwAAAAAAAPA/AAAAAAAA8D8AAAAAAADwPwAAAAAAAPA/",
          "dtype": "f8"
         },
         "y": {
          "bdata": "AAAAAAAAAAAAAAAAAAAAAAAAAAAAAAAAAAAAAAAAAACamZmZmZm5P5qZmZmZmbk/mpmZmZmZuT+amZmZmZnJPzMzMzMzM+M/MzMzMzMz4z9mZmZmZmbmP2ZmZmZmZuY/ZmZmZmZm5j+amZmZmZnpP5qZmZmZmek/zczMzMzM7D8AAAAAAAAAAAAAAAAAAAAAAAAAAAAAAACamZmZmZm5P5qZmZmZmbk/mpmZmZmZuT+amZmZmZnJPwAAAAAAAOA/MzMzMzMz4z8zMzMzMzPjPzMzMzMzM+M/ZmZmZmZm5j9mZmZmZmbmP5qZmZmZmek/AAAAAAAA8D8AAAAAAAAAAJqZmZmZmbk/mpmZmZmZyT8AAAAAAADgPzMzMzMzM+M/ZmZmZmZm5j/NzMzMzMzsPwAAAAAAAPA/AAAAAAAA8D+amZmZmZnpP83MzMzMzOw/zczMzMzM7D8AAAAAAADwPwAAAAAAAPA/AAAAAAAA8D+amZmZmZnpP83MzMzMzOw/zczMzMzM7D/NzMzMzMzsPwAAAAAAAPA/AAAAAAAA8D+amZmZmZm5P5qZmZmZmck/mpmZmZmZ6T/NzMzMzMzsPwAAAAAAAAAAAAAAAAAAAACamZmZmZm5P5qZmZmZmbk/mpmZmZmZuT+amZmZmZnJPwAAAAAAAAAAAAAAAAAAAAAAAAAAAAAAAJqZmZmZmbk/mpmZmZmZuT+amZmZmZnJPwAAAAAAAAAAAAAAAAAAAACamZmZmZm5PzMzMzMzM9M/mpmZmZmZ2T8AAAAAAADgP5qZmZmZmek/zczMzMzM7D8AAAAAAADwPwAAAAAAAAAAmpmZmZmZyT8zMzMzMzPTPzMzMzMzM9M/mpmZmZmZ2T+amZmZmZnZP5qZmZmZmdk/AAAAAAAA4D+amZmZmZnpP83MzMzMzOw/zczMzMzM7D/NzMzMzMzsPwAAAAAAAPA/AAAAAAAA8D8AAAAAAADwP5qZmZmZmbk/mpmZmZmZyT+amZmZmZnJPzMzMzMzM9M/MzMzMzMz0z8zMzMzMzPTP5qZmZmZmdk/mpmZmZmZ2T+amZmZmZnpP83MzMzMzOw/zczMzMzM7D/NzMzMzMzsPwAAAAAAAPA/AAAAAAAA8D8AAAAAAADwPwAAAAAAAPA/",
          "dtype": "f8"
         },
         "z": {
          "bdata": "MzMzMzMz4z9mZmZmZmbmP5qZmZmZmek/zczMzMzM7D8zMzMzMzPjP2ZmZmZmZuY/mpmZmZmZ6T9mZmZmZmbmPwAAAAAAAAAAmpmZmZmZuT8AAAAAAAAAAJqZmZmZmbk/mpmZmZmZyT8AAAAAAAAAAJqZmZmZmbk/AAAAAAAAAAAzMzMzMzPjP2ZmZmZmZuY/mpmZmZmZ6T8AAAAAAADgPzMzMzMzM+M/ZmZmZmZm5j8zMzMzMzPjP5qZmZmZmbk/AAAAAAAAAACamZmZmZm5P5qZmZmZmck/AAAAAAAAAACamZmZmZm5PwAAAAAAAAAAAAAAAAAA8D9mZmZmZmbmPzMzMzMzM+M/AAAAAAAA4D+amZmZmZnJP5qZmZmZmbk/AAAAAAAAAAAAAAAAAADwP83MzMzMzOw/AAAAAAAA8D8AAAAAAADwP83MzMzMzOw/AAAAAAAA8D+amZmZmZnpP83MzMzMzOw/AAAAAAAA8D/NzMzMzMzsP5qZmZmZmek/zczMzMzM7D8AAAAAAADwP83MzMzMzOw/AAAAAAAA8D+amZmZmZm5P5qZmZmZmck/mpmZmZmZ6T/NzMzMzMzsPwAAAAAAAAAAmpmZmZmZuT8AAAAAAAAAAJqZmZmZmbk/mpmZmZmZyT+amZmZmZm5PwAAAAAAAAAAmpmZmZmZuT+amZmZmZnJPwAAAAAAAAAAmpmZmZmZuT8AAAAAAAAAAAAAAAAAAAAAmpmZmZmZuT8AAAAAAAAAAAAAAAAAAPA/zczMzMzM7D+amZmZmZnpPwAAAAAAAOA/mpmZmZmZ2T8zMzMzMzPTPwAAAAAAAAAAAAAAAAAA8D/NzMzMzMzsPwAAAAAAAPA/mpmZmZmZ6T/NzMzMzMzsPwAAAAAAAPA/zczMzMzM7D+amZmZmZnZPzMzMzMzM9M/mpmZmZmZ2T8AAAAAAADgP5qZmZmZmck/MzMzMzMz0z+amZmZmZnZPwAAAAAAAPA/zczMzMzM7D8AAAAAAADwP5qZmZmZmek/zczMzMzM7D8AAAAAAADwP83MzMzMzOw/AAAAAAAA8D8zMzMzMzPTP5qZmZmZmck/MzMzMzMz0z+amZmZmZnZP5qZmZmZmbk/mpmZmZmZyT8zMzMzMzPTP5qZmZmZmdk/",
          "dtype": "f8"
         }
        },
        {
         "hovertemplate": "status=Standard Tradeoff<br>x=%{x}<br>y=%{y}<br>z=%{z}<extra></extra>",
         "legendgroup": "Standard Tradeoff",
         "marker": {
          "color": "#ab63fa",
          "symbol": "circle"
         },
         "mode": "markers",
         "name": "Standard Tradeoff",
         "scene": "scene",
         "showlegend": true,
         "type": "scatter3d",
         "x": {
          "bdata": "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",
          "dtype": "f8"
         },
         "y": {
          "bdata": "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",
          "dtype": "f8"
         },
         "z": {
          "bdata": "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",
          "dtype": "f8"
         }
        },
        {
         "hovertemplate": "status=No Tradeoff<br>x=%{x}<br>y=%{y}<br>z=%{z}<extra></extra>",
         "legendgroup": "No Tradeoff",
         "marker": {
          "color": "#FFA15A",
          "symbol": "circle"
         },
         "mode": "markers",
         "name": "No Tradeoff",
         "scene": "scene",
         "showlegend": true,
         "type": "scatter3d",
         "x": {
          "bdata": "AAAAAAAAAAAAAAAAAAAAAAAAAAAAAAAAAAAAAAAAAAAAAAAAAAAAAAAAAAAAAAAAAAAAAAAAAAAAAAAAAAAAAAAAAAAAAAAAAAAAAAAAAAAAAAAAAAAAAAAAAAAAAAAAmpmZmZmZuT+amZmZmZm5P5qZmZmZmbk/mpmZmZmZuT+amZmZmZm5P5qZmZmZmbk/mpmZmZmZuT+amZmZmZm5P5qZmZmZmck/mpmZmZmZyT+amZmZmZnJP5qZmZmZmck/mpmZmZmZyT+amZmZmZnJP5qZmZmZmck/mpmZmZmZyT+amZmZmZnJP5qZmZmZmck/MzMzMzMz0z8zMzMzMzPTPzMzMzMzM9M/MzMzMzMz0z8zMzMzMzPTPzMzMzMzM9M/MzMzMzMz0z8zMzMzMzPTPzMzMzMzM9M/MzMzMzMz0z8zMzMzMzPTPzMzMzMzM9M/MzMzMzMz0z8zMzMzMzPTPzMzMzMzM9M/MzMzMzMz0z+amZmZmZnZP5qZmZmZmdk/mpmZmZmZ2T+amZmZmZnZP5qZmZmZmdk/mpmZmZmZ2T+amZmZmZnZP5qZmZmZmdk/mpmZmZmZ2T+amZmZmZnZPwAAAAAAAOA/AAAAAAAA4D8AAAAAAADgPwAAAAAAAOA/AAAAAAAA4D8AAAAAAADgPwAAAAAAAOA/AAAAAAAA4D8zMzMzMzPjPzMzMzMzM+M/MzMzMzMz4z8zMzMzMzPjPzMzMzMzM+M/MzMzMzMz4z8zMzMzMzPjPzMzMzMzM+M/MzMzMzMz4z8zMzMzMzPjP2ZmZmZmZuY/ZmZmZmZm5j9mZmZmZmbmP2ZmZmZmZuY/ZmZmZmZm5j9mZmZmZmbmP2ZmZmZmZuY/ZmZmZmZm5j9mZmZmZmbmP2ZmZmZmZuY/ZmZmZmZm5j9mZmZmZmbmP2ZmZmZmZuY/ZmZmZmZm5j9mZmZmZmbmP2ZmZmZmZuY/mpmZmZmZ6T+amZmZmZnpP5qZmZmZmek/mpmZmZmZ6T+amZmZmZnpP5qZmZmZmek/mpmZmZmZ6T+amZmZmZnpP5qZmZmZmek/mpmZmZmZ6T/NzMzMzMzsP83MzMzMzOw/zczMzMzM7D/NzMzMzMzsP83MzMzMzOw/zczMzMzM7D/NzMzMzMzsP83MzMzMzOw/AAAAAAAA8D8AAAAAAADwPwAAAAAAAPA/AAAAAAAA8D8AAAAAAADwPwAAAAAAAPA/AAAAAAAA8D8AAAAAAADwPwAAAAAAAPA/AAAAAAAA8D8AAAAAAADwPwAAAAAAAPA/",
          "dtype": "f8"
         },
         "y": {
          "bdata": "mpmZmZmZuT+amZmZmZnJP5qZmZmZmck/mpmZmZmZyT8zMzMzMzPTPzMzMzMzM9M/MzMzMzMz0z8zMzMzMzPTP5qZmZmZmdk/mpmZmZmZ2T8AAAAAAADgPzMzMzMzM+M/AAAAAAAAAACamZmZmZnJP5qZmZmZmck/MzMzMzMz0z8zMzMzMzPTPzMzMzMzM9M/mpmZmZmZ2T8AAAAAAADgPwAAAAAAAAAAAAAAAAAAAAAAAAAAAAAAAJqZmZmZmbk/mpmZmZmZuT8zMzMzMzPTPzMzMzMzM9M/MzMzMzMz0z+amZmZmZnZP5qZmZmZmdk/AAAAAAAAAAAAAAAAAAAAAAAAAAAAAAAAAAAAAAAAAACamZmZmZm5P5qZmZmZmbk/mpmZmZmZuT+amZmZmZnJP5qZmZmZmck/mpmZmZmZyT+amZmZmZnZP5qZmZmZmdk/mpmZmZmZ2T8AAAAAAADgPwAAAAAAAOA/MzMzMzMz4z8AAAAAAAAAAAAAAAAAAAAAmpmZmZmZuT+amZmZmZnJP5qZmZmZmck/MzMzMzMz0z8zMzMzMzPTPzMzMzMzM9M/ZmZmZmZm5j8AAAAAAADwPwAAAAAAAAAAmpmZmZmZuT8zMzMzMzPTPzMzMzMzM9M/ZmZmZmZm5j9mZmZmZmbmP83MzMzMzOw/AAAAAAAA8D8AAAAAAAAAADMzMzMzM9M/ZmZmZmZm5j9mZmZmZmbmP2ZmZmZmZuY/mpmZmZmZ6T+amZmZmZnpP83MzMzMzOw/AAAAAAAA8D8AAAAAAADwP5qZmZmZmdk/AAAAAAAA4D8AAAAAAADgPzMzMzMzM+M/MzMzMzMz4z8zMzMzMzPjP5qZmZmZmek/mpmZmZmZ6T+amZmZmZnpP83MzMzMzOw/zczMzMzM7D/NzMzMzMzsPwAAAAAAAPA/AAAAAAAA8D8AAAAAAADwPwAAAAAAAPA/MzMzMzMz4z8zMzMzMzPjP2ZmZmZmZuY/ZmZmZmZm5j9mZmZmZmbmP83MzMzMzOw/zczMzMzM7D8AAAAAAADwPwAAAAAAAPA/AAAAAAAA8D8AAAAAAADgPzMzMzMzM+M/ZmZmZmZm5j9mZmZmZmbmP2ZmZmZmZuY/mpmZmZmZ6T+amZmZmZnpPwAAAAAAAPA/mpmZmZmZ2T8AAAAAAADgPzMzMzMzM+M/MzMzMzMz4z9mZmZmZmbmP2ZmZmZmZuY/ZmZmZmZm5j9mZmZmZmbmP5qZmZmZmek/mpmZmZmZ6T+amZmZmZnpP83MzMzMzOw/",
          "dtype": "f8"
         },
         "z": {
          "bdata": "mpmZmZmZyT+amZmZmZm5PzMzMzMzM9M/mpmZmZmZ2T+amZmZmZnJP5qZmZmZmdk/AAAAAAAA4D8zMzMzMzPjP5qZmZmZmck/MzMzMzMz0z8zMzMzMzPTPzMzMzMzM9M/mpmZmZmZyT8AAAAAAAAAADMzMzMzM9M/mpmZmZmZyT+amZmZmZnZPwAAAAAAAOA/MzMzMzMz0z8zMzMzMzPTP5qZmZmZmbk/MzMzMzMz0z+amZmZmZnZPwAAAAAAAAAAMzMzMzMz0z8AAAAAAAAAAJqZmZmZmbk/mpmZmZmZ2T8AAAAAAAAAADMzMzMzM9M/mpmZmZmZyT+amZmZmZnZPwAAAAAAAOA/MzMzMzMz4z+amZmZmZnJP5qZmZmZmdk/AAAAAAAA4D8AAAAAAAAAAJqZmZmZmbk/mpmZmZmZ2T8AAAAAAAAAAJqZmZmZmbk/mpmZmZmZyT8AAAAAAAAAAJqZmZmZmbk/AAAAAAAAAACamZmZmZnJPzMzMzMzM9M/MzMzMzMz0z8AAAAAAAAAADMzMzMzM9M/AAAAAAAAAACamZmZmZm5P5qZmZmZmck/AAAAAAAA8D9mZmZmZmbmPzMzMzMzM9M/MzMzMzMz0z8AAAAAAAAAAJqZmZmZmbk/zczMzMzM7D8AAAAAAADwP2ZmZmZmZuY/ZmZmZmZm5j8zMzMzMzPTPwAAAAAAAAAAmpmZmZmZ6T/NzMzMzMzsPwAAAAAAAPA/ZmZmZmZm5j8AAAAAAADwP2ZmZmZmZuY/ZmZmZmZm5j+amZmZmZnpPwAAAAAAAPA/zczMzMzM7D8AAAAAAADwP5qZmZmZmek/zczMzMzM7D8AAAAAAADwPzMzMzMzM+M/zczMzMzM7D8AAAAAAADwPwAAAAAAAOA/MzMzMzMz4z+amZmZmZnpP5qZmZmZmdk/AAAAAAAA4D8zMzMzMzPjP5qZmZmZmek/ZmZmZmZm5j8AAAAAAADwPzMzMzMzM+M/zczMzMzM7D8AAAAAAADwP2ZmZmZmZuY/AAAAAAAA8D8zMzMzMzPjP2ZmZmZmZuY/zczMzMzM7D9mZmZmZmbmP2ZmZmZmZuY/AAAAAAAA4D8zMzMzMzPjP5qZmZmZmek/ZmZmZmZm5j8AAAAAAADwP5qZmZmZmek/ZmZmZmZm5j9mZmZmZmbmP2ZmZmZmZuY/mpmZmZmZ6T+amZmZmZnZPwAAAAAAAOA/MzMzMzMz4z+amZmZmZnpPzMzMzMzM+M/ZmZmZmZm5j/NzMzMzMzsP5qZmZmZmek/",
          "dtype": "f8"
         }
        }
       ],
       "layout": {
        "legend": {
         "title": {
          "text": "status"
         },
         "tracegroupgap": 0
        },
        "scene": {
         "domain": {
          "x": [
           0,
           1
          ],
          "y": [
           0,
           1
          ]
         },
         "xaxis": {
          "title": {
           "text": "x"
          }
         },
         "yaxis": {
          "title": {
           "text": "y"
          }
         },
         "zaxis": {
          "title": {
           "text": "z"
          }
         }
        },
        "template": {
         "data": {
          "bar": [
           {
            "error_x": {
             "color": "#2a3f5f"
            },
            "error_y": {
             "color": "#2a3f5f"
            },
            "marker": {
             "line": {
              "color": "#E5ECF6",
              "width": 0.5
             },
             "pattern": {
              "fillmode": "overlay",
              "size": 10,
              "solidity": 0.2
             }
            },
            "type": "bar"
           }
          ],
          "barpolar": [
           {
            "marker": {
             "line": {
              "color": "#E5ECF6",
              "width": 0.5
             },
             "pattern": {
              "fillmode": "overlay",
              "size": 10,
              "solidity": 0.2
             }
            },
            "type": "barpolar"
           }
          ],
          "carpet": [
           {
            "aaxis": {
             "endlinecolor": "#2a3f5f",
             "gridcolor": "white",
             "linecolor": "white",
             "minorgridcolor": "white",
             "startlinecolor": "#2a3f5f"
            },
            "baxis": {
             "endlinecolor": "#2a3f5f",
             "gridcolor": "white",
             "linecolor": "white",
             "minorgridcolor": "white",
             "startlinecolor": "#2a3f5f"
            },
            "type": "carpet"
           }
          ],
          "choropleth": [
           {
            "colorbar": {
             "outlinewidth": 0,
             "ticks": ""
            },
            "type": "choropleth"
           }
          ],
          "contour": [
           {
            "colorbar": {
             "outlinewidth": 0,
             "ticks": ""
            },
            "colorscale": [
             [
              0,
              "#0d0887"
             ],
             [
              0.1111111111111111,
              "#46039f"
             ],
             [
              0.2222222222222222,
              "#7201a8"
             ],
             [
              0.3333333333333333,
              "#9c179e"
             ],
             [
              0.4444444444444444,
              "#bd3786"
             ],
             [
              0.5555555555555556,
              "#d8576b"
             ],
             [
              0.6666666666666666,
              "#ed7953"
             ],
             [
              0.7777777777777778,
              "#fb9f3a"
             ],
             [
              0.8888888888888888,
              "#fdca26"
             ],
             [
              1,
              "#f0f921"
             ]
            ],
            "type": "contour"
           }
          ],
          "contourcarpet": [
           {
            "colorbar": {
             "outlinewidth": 0,
             "ticks": ""
            },
            "type": "contourcarpet"
           }
          ],
          "heatmap": [
           {
            "colorbar": {
             "outlinewidth": 0,
             "ticks": ""
            },
            "colorscale": [
             [
              0,
              "#0d0887"
             ],
             [
              0.1111111111111111,
              "#46039f"
             ],
             [
              0.2222222222222222,
              "#7201a8"
             ],
             [
              0.3333333333333333,
              "#9c179e"
             ],
             [
              0.4444444444444444,
              "#bd3786"
             ],
             [
              0.5555555555555556,
              "#d8576b"
             ],
             [
              0.6666666666666666,
              "#ed7953"
             ],
             [
              0.7777777777777778,
              "#fb9f3a"
             ],
             [
              0.8888888888888888,
              "#fdca26"
             ],
             [
              1,
              "#f0f921"
             ]
            ],
            "type": "heatmap"
           }
          ],
          "histogram": [
           {
            "marker": {
             "pattern": {
              "fillmode": "overlay",
              "size": 10,
              "solidity": 0.2
             }
            },
            "type": "histogram"
           }
          ],
          "histogram2d": [
           {
            "colorbar": {
             "outlinewidth": 0,
             "ticks": ""
            },
            "colorscale": [
             [
              0,
              "#0d0887"
             ],
             [
              0.1111111111111111,
              "#46039f"
             ],
             [
              0.2222222222222222,
              "#7201a8"
             ],
             [
              0.3333333333333333,
              "#9c179e"
             ],
             [
              0.4444444444444444,
              "#bd3786"
             ],
             [
              0.5555555555555556,
              "#d8576b"
             ],
             [
              0.6666666666666666,
              "#ed7953"
             ],
             [
              0.7777777777777778,
              "#fb9f3a"
             ],
             [
              0.8888888888888888,
              "#fdca26"
             ],
             [
              1,
              "#f0f921"
             ]
            ],
            "type": "histogram2d"
           }
          ],
          "histogram2dcontour": [
           {
            "colorbar": {
             "outlinewidth": 0,
             "ticks": ""
            },
            "colorscale": [
             [
              0,
              "#0d0887"
             ],
             [
              0.1111111111111111,
              "#46039f"
             ],
             [
              0.2222222222222222,
              "#7201a8"
             ],
             [
              0.3333333333333333,
              "#9c179e"
             ],
             [
              0.4444444444444444,
              "#bd3786"
             ],
             [
              0.5555555555555556,
              "#d8576b"
             ],
             [
              0.6666666666666666,
              "#ed7953"
             ],
             [
              0.7777777777777778,
              "#fb9f3a"
             ],
             [
              0.8888888888888888,
              "#fdca26"
             ],
             [
              1,
              "#f0f921"
             ]
            ],
            "type": "histogram2dcontour"
           }
          ],
          "mesh3d": [
           {
            "colorbar": {
             "outlinewidth": 0,
             "ticks": ""
            },
            "type": "mesh3d"
           }
          ],
          "parcoords": [
           {
            "line": {
             "colorbar": {
              "outlinewidth": 0,
              "ticks": ""
             }
            },
            "type": "parcoords"
           }
          ],
          "pie": [
           {
            "automargin": true,
            "type": "pie"
           }
          ],
          "scatter": [
           {
            "fillpattern": {
             "fillmode": "overlay",
             "size": 10,
             "solidity": 0.2
            },
            "type": "scatter"
           }
          ],
          "scatter3d": [
           {
            "line": {
             "colorbar": {
              "outlinewidth": 0,
              "ticks": ""
             }
            },
            "marker": {
             "colorbar": {
              "outlinewidth": 0,
              "ticks": ""
             }
            },
            "type": "scatter3d"
           }
          ],
          "scattercarpet": [
           {
            "marker": {
             "colorbar": {
              "outlinewidth": 0,
              "ticks": ""
             }
            },
            "type": "scattercarpet"
           }
          ],
          "scattergeo": [
           {
            "marker": {
             "colorbar": {
              "outlinewidth": 0,
              "ticks": ""
             }
            },
            "type": "scattergeo"
           }
          ],
          "scattergl": [
           {
            "marker": {
             "colorbar": {
              "outlinewidth": 0,
              "ticks": ""
             }
            },
            "type": "scattergl"
           }
          ],
          "scattermap": [
           {
            "marker": {
             "colorbar": {
              "outlinewidth": 0,
              "ticks": ""
             }
            },
            "type": "scattermap"
           }
          ],
          "scattermapbox": [
           {
            "marker": {
             "colorbar": {
              "outlinewidth": 0,
              "ticks": ""
             }
            },
            "type": "scattermapbox"
           }
          ],
          "scatterpolar": [
           {
            "marker": {
             "colorbar": {
              "outlinewidth": 0,
              "ticks": ""
             }
            },
            "type": "scatterpolar"
           }
          ],
          "scatterpolargl": [
           {
            "marker": {
             "colorbar": {
              "outlinewidth": 0,
              "ticks": ""
             }
            },
            "type": "scatterpolargl"
           }
          ],
          "scatterternary": [
           {
            "marker": {
             "colorbar": {
              "outlinewidth": 0,
              "ticks": ""
             }
            },
            "type": "scatterternary"
           }
          ],
          "surface": [
           {
            "colorbar": {
             "outlinewidth": 0,
             "ticks": ""
            },
            "colorscale": [
             [
              0,
              "#0d0887"
             ],
             [
              0.1111111111111111,
              "#46039f"
             ],
             [
              0.2222222222222222,
              "#7201a8"
             ],
             [
              0.3333333333333333,
              "#9c179e"
             ],
             [
              0.4444444444444444,
              "#bd3786"
             ],
             [
              0.5555555555555556,
              "#d8576b"
             ],
             [
              0.6666666666666666,
              "#ed7953"
             ],
             [
              0.7777777777777778,
              "#fb9f3a"
             ],
             [
              0.8888888888888888,
              "#fdca26"
             ],
             [
              1,
              "#f0f921"
             ]
            ],
            "type": "surface"
           }
          ],
          "table": [
           {
            "cells": {
             "fill": {
              "color": "#EBF0F8"
             },
             "line": {
              "color": "white"
             }
            },
            "header": {
             "fill": {
              "color": "#C8D4E3"
             },
             "line": {
              "color": "white"
             }
            },
            "type": "table"
           }
          ]
         },
         "layout": {
          "annotationdefaults": {
           "arrowcolor": "#2a3f5f",
           "arrowhead": 0,
           "arrowwidth": 1
          },
          "autotypenumbers": "strict",
          "coloraxis": {
           "colorbar": {
            "outlinewidth": 0,
            "ticks": ""
           }
          },
          "colorscale": {
           "diverging": [
            [
             0,
             "#8e0152"
            ],
            [
             0.1,
             "#c51b7d"
            ],
            [
             0.2,
             "#de77ae"
            ],
            [
             0.3,
             "#f1b6da"
            ],
            [
             0.4,
             "#fde0ef"
            ],
            [
             0.5,
             "#f7f7f7"
            ],
            [
             0.6,
             "#e6f5d0"
            ],
            [
             0.7,
             "#b8e186"
            ],
            [
             0.8,
             "#7fbc41"
            ],
            [
             0.9,
             "#4d9221"
            ],
            [
             1,
             "#276419"
            ]
           ],
           "sequential": [
            [
             0,
             "#0d0887"
            ],
            [
             0.1111111111111111,
             "#46039f"
            ],
            [
             0.2222222222222222,
             "#7201a8"
            ],
            [
             0.3333333333333333,
             "#9c179e"
            ],
            [
             0.4444444444444444,
             "#bd3786"
            ],
            [
             0.5555555555555556,
             "#d8576b"
            ],
            [
             0.6666666666666666,
             "#ed7953"
            ],
            [
             0.7777777777777778,
             "#fb9f3a"
            ],
            [
             0.8888888888888888,
             "#fdca26"
            ],
            [
             1,
             "#f0f921"
            ]
           ],
           "sequentialminus": [
            [
             0,
             "#0d0887"
            ],
            [
             0.1111111111111111,
             "#46039f"
            ],
            [
             0.2222222222222222,
             "#7201a8"
            ],
            [
             0.3333333333333333,
             "#9c179e"
            ],
            [
             0.4444444444444444,
             "#bd3786"
            ],
            [
             0.5555555555555556,
             "#d8576b"
            ],
            [
             0.6666666666666666,
             "#ed7953"
            ],
            [
             0.7777777777777778,
             "#fb9f3a"
            ],
            [
             0.8888888888888888,
             "#fdca26"
            ],
            [
             1,
             "#f0f921"
            ]
           ]
          },
          "colorway": [
           "#636efa",
           "#EF553B",
           "#00cc96",
           "#ab63fa",
           "#FFA15A",
           "#19d3f3",
           "#FF6692",
           "#B6E880",
           "#FF97FF",
           "#FECB52"
          ],
          "font": {
           "color": "#2a3f5f"
          },
          "geo": {
           "bgcolor": "white",
           "lakecolor": "white",
           "landcolor": "#E5ECF6",
           "showlakes": true,
           "showland": true,
           "subunitcolor": "white"
          },
          "hoverlabel": {
           "align": "left"
          },
          "hovermode": "closest",
          "mapbox": {
           "style": "light"
          },
          "paper_bgcolor": "white",
          "plot_bgcolor": "#E5ECF6",
          "polar": {
           "angularaxis": {
            "gridcolor": "white",
            "linecolor": "white",
            "ticks": ""
           },
           "bgcolor": "#E5ECF6",
           "radialaxis": {
            "gridcolor": "white",
            "linecolor": "white",
            "ticks": ""
           }
          },
          "scene": {
           "xaxis": {
            "backgroundcolor": "#E5ECF6",
            "gridcolor": "white",
            "gridwidth": 2,
            "linecolor": "white",
            "showbackground": true,
            "ticks": "",
            "zerolinecolor": "white"
           },
           "yaxis": {
            "backgroundcolor": "#E5ECF6",
            "gridcolor": "white",
            "gridwidth": 2,
            "linecolor": "white",
            "showbackground": true,
            "ticks": "",
            "zerolinecolor": "white"
           },
           "zaxis": {
            "backgroundcolor": "#E5ECF6",
            "gridcolor": "white",
            "gridwidth": 2,
            "linecolor": "white",
            "showbackground": true,
            "ticks": "",
            "zerolinecolor": "white"
           }
          },
          "shapedefaults": {
           "line": {
            "color": "#2a3f5f"
           }
          },
          "ternary": {
           "aaxis": {
            "gridcolor": "white",
            "linecolor": "white",
            "ticks": ""
           },
           "baxis": {
            "gridcolor": "white",
            "linecolor": "white",
            "ticks": ""
           },
           "bgcolor": "#E5ECF6",
           "caxis": {
            "gridcolor": "white",
            "linecolor": "white",
            "ticks": ""
           }
          },
          "title": {
           "x": 0.05
          },
          "xaxis": {
           "automargin": true,
           "gridcolor": "white",
           "linecolor": "white",
           "ticks": "",
           "title": {
            "standoff": 15
           },
           "zerolinecolor": "white",
           "zerolinewidth": 2
          },
          "yaxis": {
           "automargin": true,
           "gridcolor": "white",
           "linecolor": "white",
           "ticks": "",
           "title": {
            "standoff": 15
           },
           "zerolinecolor": "white",
           "zerolinewidth": 2
          }
         }
        },
        "title": {
         "text": "3D Profile Scatter by Status"
        }
       }
      }
     },
     "metadata": {},
     "output_type": "display_data"
    }
   ],
   "source": [
    "import plotly.express as px\n",
    "\n",
    "# Extract x, y, z the same way:\n",
    "df['x'] = df['profile'].apply(lambda p: p[0][0])  # x\n",
    "df['y'] = df['profile'].apply(lambda p: p[1][0])  # y\n",
    "df['z'] = df['profile'].apply(lambda p: p[2][0])  # z\n",
    "\n",
    "# Plotly scatter 3D\n",
    "fig = px.scatter_3d(\n",
    "    df,\n",
    "    x='x',\n",
    "    y='y',\n",
    "    z='z',\n",
    "    color='status',  # color points by status\n",
    "    title='3D Profile Scatter by Status'\n",
    ")\n",
    "\n",
    "fig.show()"
   ]
  },
  {
   "cell_type": "code",
   "execution_count": 42,
   "metadata": {},
   "outputs": [
    {
     "name": "stdout",
     "output_type": "stream",
     "text": [
      "|--- y <= 0.15\n",
      "|   |--- z <= 0.55\n",
      "|   |   |--- x <= 0.55\n",
      "|   |   |   |--- z <= 0.15\n",
      "|   |   |   |   |--- x <= 0.25\n",
      "|   |   |   |   |   |--- x <= 0.15\n",
      "|   |   |   |   |   |   |--- class: Bend 2\n",
      "|   |   |   |   |   |--- x >  0.15\n",
      "|   |   |   |   |   |   |--- class: Bend 2\n",
      "|   |   |   |   |--- x >  0.25\n",
      "|   |   |   |   |   |--- x <= 0.45\n",
      "|   |   |   |   |   |   |--- class: Bend 2\n",
      "|   |   |   |   |   |--- x >  0.45\n",
      "|   |   |   |   |   |   |--- class: Bend 2\n",
      "|   |   |   |--- z >  0.15\n",
      "|   |   |   |   |--- x <= 0.15\n",
      "|   |   |   |   |   |--- z <= 0.25\n",
      "|   |   |   |   |   |   |--- class: Bend 2\n",
      "|   |   |   |   |   |--- z >  0.25\n",
      "|   |   |   |   |   |   |--- class: Bend 2\n",
      "|   |   |   |   |--- x >  0.15\n",
      "|   |   |   |   |   |--- z <= 0.25\n",
      "|   |   |   |   |   |   |--- class: No Tradeoff\n",
      "|   |   |   |   |   |--- z >  0.25\n",
      "|   |   |   |   |   |   |--- class: No Tradeoff\n",
      "|   |   |--- x >  0.55\n",
      "|   |   |   |--- z <= 0.35\n",
      "|   |   |   |   |--- x <= 0.85\n",
      "|   |   |   |   |   |--- z <= 0.25\n",
      "|   |   |   |   |   |   |--- class: Bend 1\n",
      "|   |   |   |   |   |--- z >  0.25\n",
      "|   |   |   |   |   |   |--- class: Standard Tradeoff\n",
      "|   |   |   |   |--- x >  0.85\n",
      "|   |   |   |   |   |--- z <= 0.05\n",
      "|   |   |   |   |   |   |--- class: Bend 1\n",
      "|   |   |   |   |   |--- z >  0.05\n",
      "|   |   |   |   |   |   |--- class: Standard Tradeoff\n",
      "|   |   |   |--- z >  0.35\n",
      "|   |   |   |   |--- class: Equal\n",
      "|   |--- z >  0.55\n",
      "|   |   |--- x <= 0.25\n",
      "|   |   |   |--- z <= 0.85\n",
      "|   |   |   |   |--- x <= 0.15\n",
      "|   |   |   |   |   |--- z <= 0.75\n",
      "|   |   |   |   |   |   |--- class: Bend 1\n",
      "|   |   |   |   |   |--- z >  0.75\n",
      "|   |   |   |   |   |   |--- class: Bend 1\n",
      "|   |   |   |   |--- x >  0.15\n",
      "|   |   |   |   |   |--- z <= 0.75\n",
      "|   |   |   |   |   |   |--- class: Bend 1\n",
      "|   |   |   |   |   |--- z >  0.75\n",
      "|   |   |   |   |   |   |--- class: Standard Tradeoff\n",
      "|   |   |   |--- z >  0.85\n",
      "|   |   |   |   |--- x <= 0.05\n",
      "|   |   |   |   |   |--- y <= 0.05\n",
      "|   |   |   |   |   |   |--- class: Bend 1\n",
      "|   |   |   |   |   |--- y >  0.05\n",
      "|   |   |   |   |   |   |--- class: Standard Tradeoff\n",
      "|   |   |   |   |--- x >  0.05\n",
      "|   |   |   |   |   |--- class: Standard Tradeoff\n",
      "|   |   |--- x >  0.25\n",
      "|   |   |   |--- x <= 0.65\n",
      "|   |   |   |   |--- x <= 0.35\n",
      "|   |   |   |   |   |--- z <= 0.65\n",
      "|   |   |   |   |   |   |--- class: No Tradeoff\n",
      "|   |   |   |   |   |--- z >  0.65\n",
      "|   |   |   |   |   |   |--- class: Standard Tradeoff\n",
      "|   |   |   |   |--- x >  0.35\n",
      "|   |   |   |   |   |--- class: Equal\n",
      "|   |   |   |--- x >  0.65\n",
      "|   |   |   |   |--- z <= 0.65\n",
      "|   |   |   |   |   |--- class: Equal\n",
      "|   |   |   |   |--- z >  0.65\n",
      "|   |   |   |   |   |--- x <= 0.95\n",
      "|   |   |   |   |   |   |--- class: Standard Tradeoff\n",
      "|   |   |   |   |   |--- x >  0.95\n",
      "|   |   |   |   |   |   |--- class: Standard Tradeoff\n",
      "|--- y >  0.15\n",
      "|   |--- x <= 0.85\n",
      "|   |   |--- x <= 0.35\n",
      "|   |   |   |--- y <= 0.55\n",
      "|   |   |   |   |--- z <= 0.55\n",
      "|   |   |   |   |   |--- z <= 0.25\n",
      "|   |   |   |   |   |   |--- class: Bend 2\n",
      "|   |   |   |   |   |--- z >  0.25\n",
      "|   |   |   |   |   |   |--- class: No Tradeoff\n",
      "|   |   |   |   |--- z >  0.55\n",
      "|   |   |   |   |   |--- y <= 0.35\n",
      "|   |   |   |   |   |   |--- class: Standard Tradeoff\n",
      "|   |   |   |   |   |--- y >  0.35\n",
      "|   |   |   |   |   |   |--- class: Equal\n",
      "|   |   |   |--- y >  0.55\n",
      "|   |   |   |   |--- z <= 0.15\n",
      "|   |   |   |   |   |--- y <= 0.85\n",
      "|   |   |   |   |   |   |--- class: Bend 1\n",
      "|   |   |   |   |   |--- y >  0.85\n",
      "|   |   |   |   |   |   |--- class: Standard Tradeoff\n",
      "|   |   |   |   |--- z >  0.15\n",
      "|   |   |   |   |   |--- z <= 0.85\n",
      "|   |   |   |   |   |   |--- class: Standard Tradeoff\n",
      "|   |   |   |   |   |--- z >  0.85\n",
      "|   |   |   |   |   |   |--- class: Bend 1\n",
      "|   |   |--- x >  0.35\n",
      "|   |   |   |--- z <= 0.65\n",
      "|   |   |   |   |--- x <= 0.65\n",
      "|   |   |   |   |   |--- y <= 0.35\n",
      "|   |   |   |   |   |   |--- class: No Tradeoff\n",
      "|   |   |   |   |   |--- y >  0.35\n",
      "|   |   |   |   |   |   |--- class: Equal\n",
      "|   |   |   |   |--- x >  0.65\n",
      "|   |   |   |   |   |--- y <= 0.65\n",
      "|   |   |   |   |   |   |--- class: Equal\n",
      "|   |   |   |   |   |--- y >  0.65\n",
      "|   |   |   |   |   |   |--- class: Standard Tradeoff\n",
      "|   |   |   |--- z >  0.65\n",
      "|   |   |   |   |--- y <= 0.55\n",
      "|   |   |   |   |   |--- x <= 0.65\n",
      "|   |   |   |   |   |   |--- class: Equal\n",
      "|   |   |   |   |   |--- x >  0.65\n",
      "|   |   |   |   |   |   |--- class: Standard Tradeoff\n",
      "|   |   |   |   |--- y >  0.55\n",
      "|   |   |   |   |   |--- x <= 0.45\n",
      "|   |   |   |   |   |   |--- class: Bend 1\n",
      "|   |   |   |   |   |--- x >  0.45\n",
      "|   |   |   |   |   |   |--- class: No Tradeoff\n",
      "|   |--- x >  0.85\n",
      "|   |   |--- z <= 0.45\n",
      "|   |   |   |--- y <= 0.75\n",
      "|   |   |   |   |--- y <= 0.35\n",
      "|   |   |   |   |   |--- z <= 0.35\n",
      "|   |   |   |   |   |   |--- class: Standard Tradeoff\n",
      "|   |   |   |   |   |--- z >  0.35\n",
      "|   |   |   |   |   |   |--- class: Equal\n",
      "|   |   |   |   |--- y >  0.35\n",
      "|   |   |   |   |   |--- y <= 0.65\n",
      "|   |   |   |   |   |   |--- class: Equal\n",
      "|   |   |   |   |   |--- y >  0.65\n",
      "|   |   |   |   |   |   |--- class: Standard Tradeoff\n",
      "|   |   |   |--- y >  0.75\n",
      "|   |   |   |   |--- z <= 0.15\n",
      "|   |   |   |   |   |--- y <= 0.95\n",
      "|   |   |   |   |   |   |--- class: Standard Tradeoff\n",
      "|   |   |   |   |   |--- y >  0.95\n",
      "|   |   |   |   |   |   |--- class: Bend 1\n",
      "|   |   |   |   |--- z >  0.15\n",
      "|   |   |   |   |   |--- y <= 0.85\n",
      "|   |   |   |   |   |   |--- class: Bend 1\n",
      "|   |   |   |   |   |--- y >  0.85\n",
      "|   |   |   |   |   |   |--- class: Bend 1\n",
      "|   |   |--- z >  0.45\n",
      "|   |   |   |--- y <= 0.45\n",
      "|   |   |   |   |--- z <= 0.75\n",
      "|   |   |   |   |   |--- z <= 0.65\n",
      "|   |   |   |   |   |   |--- class: Equal\n",
      "|   |   |   |   |   |--- z >  0.65\n",
      "|   |   |   |   |   |   |--- class: Standard Tradeoff\n",
      "|   |   |   |   |--- z >  0.75\n",
      "|   |   |   |   |   |--- z <= 0.85\n",
      "|   |   |   |   |   |   |--- class: Bend 1\n",
      "|   |   |   |   |   |--- z >  0.85\n",
      "|   |   |   |   |   |   |--- class: Bend 1\n",
      "|   |   |   |--- y >  0.45\n",
      "|   |   |   |   |--- y <= 0.85\n",
      "|   |   |   |   |   |--- z <= 0.85\n",
      "|   |   |   |   |   |   |--- class: No Tradeoff\n",
      "|   |   |   |   |   |--- z >  0.85\n",
      "|   |   |   |   |   |   |--- class: Bend 2\n",
      "|   |   |   |   |--- y >  0.85\n",
      "|   |   |   |   |   |--- z <= 0.75\n",
      "|   |   |   |   |   |   |--- class: Bend 2\n",
      "|   |   |   |   |   |--- z >  0.75\n",
      "|   |   |   |   |   |   |--- class: Bend 2\n",
      "\n"
     ]
    }
   ],
   "source": [
    "from sklearn.tree import DecisionTreeClassifier, export_text\n",
    "\n",
    "# df2 = df[df['status']!='Equal']\n",
    "\n",
    "# X = df2[['x', 'y', 'z']]\n",
    "# y = df2['status']\n",
    "\n",
    "X = df[['x', 'y', 'z']]\n",
    "y = df['status']\n",
    "\n",
    "clf = DecisionTreeClassifier(max_depth=6, random_state=42,class_weight='balanced')\n",
    "clf.fit(X, y)\n",
    "rules = export_text(clf, feature_names=['x', 'y', 'z'])\n",
    "\n",
    "y_pred = clf.predict(X)\n",
    "\n",
    "\n",
    "print(rules)"
   ]
  },
  {
   "cell_type": "code",
   "execution_count": 43,
   "metadata": {},
   "outputs": [
    {
     "name": "stdout",
     "output_type": "stream",
     "text": [
      "Training Accuracy: 0.6859504132231405\n",
      "\n",
      "Confusion Matrix:\n",
      "                   Bend 1  Bend 2  Equal  No Tradeoff  Standard Tradeoff\n",
      "Bend 1                 83       6      1            5                 13\n",
      "Bend 2                  0      72      0           33                  3\n",
      "Equal                  19      26    393           98                 75\n",
      "No Tradeoff             3      23      0           78                 16\n",
      "Standard Tradeoff      59       1     15           22                287\n",
      "\n",
      "Classification Report:\n",
      "                   precision    recall  f1-score   support\n",
      "\n",
      "           Bend 1       0.51      0.77      0.61       108\n",
      "           Bend 2       0.56      0.67      0.61       108\n",
      "            Equal       0.96      0.64      0.77       611\n",
      "      No Tradeoff       0.33      0.65      0.44       120\n",
      "Standard Tradeoff       0.73      0.75      0.74       384\n",
      "\n",
      "         accuracy                           0.69      1331\n",
      "        macro avg       0.62      0.70      0.63      1331\n",
      "     weighted avg       0.77      0.69      0.71      1331\n",
      "\n"
     ]
    }
   ],
   "source": [
    "from sklearn.metrics import confusion_matrix, classification_report, accuracy_score\n",
    "\n",
    "accuracy = accuracy_score(y, y_pred)\n",
    "cm = confusion_matrix(y, y_pred, labels=clf.classes_)\n",
    "report = classification_report(y, y_pred, labels=clf.classes_)\n",
    "\n",
    "print(\"Training Accuracy:\", accuracy)\n",
    "print(\"\\nConfusion Matrix:\")\n",
    "print(pd.DataFrame(cm, index=clf.classes_, columns=clf.classes_))\n",
    "print(\"\\nClassification Report:\")\n",
    "print(report)"
   ]
  },
  {
   "cell_type": "code",
   "execution_count": 46,
   "metadata": {},
   "outputs": [
    {
     "name": "stderr",
     "output_type": "stream",
     "text": [
      "c:\\Users\\TANHOL\\Workspace\\.venv\\Lib\\site-packages\\sklearn\\utils\\validation.py:2739: UserWarning:\n",
      "\n",
      "X does not have valid feature names, but DecisionTreeClassifier was fitted with feature names\n",
      "\n"
     ]
    },
    {
     "data": {
      "image/png": "[encoded data removed]",
      "text/plain": [
       "<Figure size 800x600 with 2 Axes>"
      ]
     },
     "metadata": {},
     "output_type": "display_data"
    }
   ],
   "source": [
    "z_val = 0.6\n",
    "\n",
    "# Generate grid in the x,y range\n",
    "num_points = 50\n",
    "x_min, x_max = df['x'].min(), df['x'].max()\n",
    "y_min, y_max = df['y'].min(), df['y'].max()\n",
    "xs = np.linspace(x_min, x_max, num_points)\n",
    "ys = np.linspace(y_min, y_max, num_points)\n",
    "xx, yy = np.meshgrid(xs, ys)\n",
    "\n",
    "# Flatten to predict\n",
    "grid_points = np.column_stack([xx.ravel(), yy.ravel(), np.full(xx.size, z_val)])\n",
    "preds = clf.predict(grid_points)\n",
    "\n",
    "# ------------------------------------------------------------------\n",
    "# 2. Convert string labels to numeric codes\n",
    "#    but we'll use them only for 'contourf'\n",
    "# ------------------------------------------------------------------\n",
    "unique_labels = sorted(df['status'].unique())  \n",
    "# For example: [\"Bend 1\", \"Bend 2\", \"Equal\", \"No Tradeoff\", \"Standard Tradeoff\"]\n",
    "\n",
    "label_to_value = {label: i for i, label in enumerate(unique_labels)}\n",
    "# e.g. \"Bend 1\" -> 0, \"Bend 2\" -> 1, \"Equal\" -> 2, \"No Tradeoff\" -> 3, \"Standard Tradeoff\" -> 4\n",
    "\n",
    "# Map the predicted string labels to these numeric codes\n",
    "encoded_labels = np.array([label_to_value[label] for label in preds])\n",
    "encoded_labels = encoded_labels.reshape(xx.shape)\n",
    "\n",
    "# ------------------------------------------------------------------\n",
    "# 3. Plot contourf but show string labels in the colorbar\n",
    "# ------------------------------------------------------------------\n",
    "plt.figure(figsize=(8,6))\n",
    "# We'll have one contour region per class\n",
    "# Define levels so that each integer class is its own region\n",
    "levels = np.arange(len(unique_labels) + 1) - 0.5  # e.g. [-0.5, 0.5, 1.5, 2.5, 3.5, 4.5]\n",
    "contour = plt.contourf(xx, yy, encoded_labels, levels=levels, alpha=0.6, cmap='rainbow')\n",
    "\n",
    "# Create a colorbar\n",
    "cbar = plt.colorbar(contour, ticks=np.arange(len(unique_labels)))\n",
    "cbar.set_ticklabels(unique_labels)  # replace 0,1,2... with actual string labels\n",
    "\n",
    "plt.title(f\"Decision Regions (z={z_val})\")\n",
    "plt.xlabel('x')\n",
    "plt.ylabel('y')\n",
    "\n",
    "# Optional: overlay some actual data points near z=z_val\n",
    "mask = (df['z'] - z_val).abs() < 0.05  # within 0.05 of z_val\n",
    "plt.scatter(df.loc[mask, 'x'], df.loc[mask, 'y'], c='k', s=10, label='Data Points')\n",
    "\n",
    "plt.legend()\n",
    "plt.show()"
   ]
  },
  {
   "cell_type": "code",
   "execution_count": 39,
   "metadata": {},
   "outputs": [
    {
     "name": "stdout",
     "output_type": "stream",
     "text": [
      "Trained a decision tree to separate 'No Tradeoff' and 'Standard Tradeoff' with max_depth=13\n",
      "\n",
      "Confusion Matrix:\n",
      "                   No Tradeoff  Standard Tradeoff\n",
      "No Tradeoff                120                  0\n",
      "Standard Tradeoff            3                381\n",
      "\n",
      "Classification Report:\n",
      "                   precision    recall  f1-score   support\n",
      "\n",
      "      No Tradeoff       0.98      1.00      0.99       120\n",
      "Standard Tradeoff       1.00      0.99      1.00       384\n",
      "\n",
      "         accuracy                           0.99       504\n",
      "        macro avg       0.99      1.00      0.99       504\n",
      "     weighted avg       0.99      0.99      0.99       504\n",
      "\n",
      "\n",
      "Decision Tree Rules:\n",
      "|--- y <= 0.25\n",
      "|   |--- z <= 0.65\n",
      "|   |   |--- x <= 0.65\n",
      "|   |   |   |--- z <= 0.55\n",
      "|   |   |   |   |--- x <= 0.55\n",
      "|   |   |   |   |   |--- z <= 0.45\n",
      "|   |   |   |   |   |   |--- x <= 0.45\n",
      "|   |   |   |   |   |   |   |--- class: No Tradeoff\n",
      "|   |   |   |   |   |   |--- x >  0.45\n",
      "|   |   |   |   |   |   |   |--- y <= 0.15\n",
      "|   |   |   |   |   |   |   |   |--- class: No Tradeoff\n",
      "|   |   |   |   |   |   |   |--- y >  0.15\n",
      "|   |   |   |   |   |   |   |   |--- class: Standard Tradeoff\n",
      "|   |   |   |   |   |--- z >  0.45\n",
      "|   |   |   |   |   |   |--- y <= 0.15\n",
      "|   |   |   |   |   |   |   |--- class: No Tradeoff\n",
      "|   |   |   |   |   |   |--- y >  0.15\n",
      "|   |   |   |   |   |   |   |--- class: Standard Tradeoff\n",
      "|   |   |   |   |--- x >  0.55\n",
      "|   |   |   |   |   |--- y <= 0.05\n",
      "|   |   |   |   |   |   |--- class: No Tradeoff\n",
      "|   |   |   |   |   |--- y >  0.05\n",
      "|   |   |   |   |   |   |--- class: Standard Tradeoff\n",
      "|   |   |   |--- z >  0.55\n",
      "|   |   |   |   |--- y <= 0.05\n",
      "|   |   |   |   |   |--- class: No Tradeoff\n",
      "|   |   |   |   |--- y >  0.05\n",
      "|   |   |   |   |   |--- class: Standard Tradeoff\n",
      "|   |   |--- x >  0.65\n",
      "|   |   |   |--- class: Standard Tradeoff\n",
      "|   |--- z >  0.65\n",
      "|   |   |--- class: Standard Tradeoff\n",
      "|--- y >  0.25\n",
      "|   |--- x <= 0.35\n",
      "|   |   |--- y <= 0.65\n",
      "|   |   |   |--- z <= 0.65\n",
      "|   |   |   |   |--- y <= 0.55\n",
      "|   |   |   |   |   |--- z <= 0.55\n",
      "|   |   |   |   |   |   |--- x <= 0.25\n",
      "|   |   |   |   |   |   |   |--- x <= 0.15\n",
      "|   |   |   |   |   |   |   |   |--- class: No Tradeoff\n",
      "|   |   |   |   |   |   |   |--- x >  0.15\n",
      "|   |   |   |   |   |   |   |   |--- y <= 0.45\n",
      "|   |   |   |   |   |   |   |   |   |--- z <= 0.45\n",
      "|   |   |   |   |   |   |   |   |   |   |--- class: No Tradeoff\n",
      "|   |   |   |   |   |   |   |   |   |--- z >  0.45\n",
      "|   |   |   |   |   |   |   |   |   |   |--- class: Standard Tradeoff\n",
      "|   |   |   |   |   |   |   |   |--- y >  0.45\n",
      "|   |   |   |   |   |   |   |   |   |--- class: Standard Tradeoff\n",
      "|   |   |   |   |   |   |--- x >  0.25\n",
      "|   |   |   |   |   |   |   |--- z <= 0.25\n",
      "|   |   |   |   |   |   |   |   |--- z <= 0.15\n",
      "|   |   |   |   |   |   |   |   |   |--- class: No Tradeoff\n",
      "|   |   |   |   |   |   |   |   |--- z >  0.15\n",
      "|   |   |   |   |   |   |   |   |   |--- y <= 0.45\n",
      "|   |   |   |   |   |   |   |   |   |   |--- class: No Tradeoff\n",
      "|   |   |   |   |   |   |   |   |   |--- y >  0.45\n",
      "|   |   |   |   |   |   |   |   |   |   |--- class: Standard Tradeoff\n",
      "|   |   |   |   |   |   |   |--- z >  0.25\n",
      "|   |   |   |   |   |   |   |   |--- class: Standard Tradeoff\n",
      "|   |   |   |   |   |--- z >  0.55\n",
      "|   |   |   |   |   |   |--- x <= 0.05\n",
      "|   |   |   |   |   |   |   |--- class: No Tradeoff\n",
      "|   |   |   |   |   |   |--- x >  0.05\n",
      "|   |   |   |   |   |   |   |--- class: Standard Tradeoff\n",
      "|   |   |   |   |--- y >  0.55\n",
      "|   |   |   |   |   |--- x <= 0.05\n",
      "|   |   |   |   |   |   |--- class: No Tradeoff\n",
      "|   |   |   |   |   |--- x >  0.05\n",
      "|   |   |   |   |   |   |--- z <= 0.05\n",
      "|   |   |   |   |   |   |   |--- class: No Tradeoff\n",
      "|   |   |   |   |   |   |--- z >  0.05\n",
      "|   |   |   |   |   |   |   |--- class: Standard Tradeoff\n",
      "|   |   |   |--- z >  0.65\n",
      "|   |   |   |   |--- class: Standard Tradeoff\n",
      "|   |   |--- y >  0.65\n",
      "|   |   |   |--- class: Standard Tradeoff\n",
      "|   |--- x >  0.35\n",
      "|   |   |--- z <= 0.45\n",
      "|   |   |   |--- x <= 0.65\n",
      "|   |   |   |   |--- z <= 0.25\n",
      "|   |   |   |   |   |--- x <= 0.55\n",
      "|   |   |   |   |   |   |--- z <= 0.15\n",
      "|   |   |   |   |   |   |   |--- class: No Tradeoff\n",
      "|   |   |   |   |   |   |--- z >  0.15\n",
      "|   |   |   |   |   |   |   |--- x <= 0.45\n",
      "|   |   |   |   |   |   |   |   |--- class: No Tradeoff\n",
      "|   |   |   |   |   |   |   |--- x >  0.45\n",
      "|   |   |   |   |   |   |   |   |--- class: Standard Tradeoff\n",
      "|   |   |   |   |   |--- x >  0.55\n",
      "|   |   |   |   |   |   |--- z <= 0.05\n",
      "|   |   |   |   |   |   |   |--- class: No Tradeoff\n",
      "|   |   |   |   |   |   |--- z >  0.05\n",
      "|   |   |   |   |   |   |   |--- class: Standard Tradeoff\n",
      "|   |   |   |   |--- z >  0.25\n",
      "|   |   |   |   |   |--- class: Standard Tradeoff\n",
      "|   |   |   |--- x >  0.65\n",
      "|   |   |   |   |--- z <= 0.35\n",
      "|   |   |   |   |   |--- class: Standard Tradeoff\n",
      "|   |   |   |   |--- z >  0.35\n",
      "|   |   |   |   |   |--- x <= 0.95\n",
      "|   |   |   |   |   |   |--- y <= 0.95\n",
      "|   |   |   |   |   |   |   |--- class: Standard Tradeoff\n",
      "|   |   |   |   |   |   |--- y >  0.95\n",
      "|   |   |   |   |   |   |   |--- class: No Tradeoff\n",
      "|   |   |   |   |   |--- x >  0.95\n",
      "|   |   |   |   |   |   |--- class: No Tradeoff\n",
      "|   |   |--- z >  0.45\n",
      "|   |   |   |--- y <= 0.45\n",
      "|   |   |   |   |--- y <= 0.35\n",
      "|   |   |   |   |   |--- class: Standard Tradeoff\n",
      "|   |   |   |   |--- y >  0.35\n",
      "|   |   |   |   |   |--- x <= 0.95\n",
      "|   |   |   |   |   |   |--- z <= 0.95\n",
      "|   |   |   |   |   |   |   |--- class: Standard Tradeoff\n",
      "|   |   |   |   |   |   |--- z >  0.95\n",
      "|   |   |   |   |   |   |   |--- class: No Tradeoff\n",
      "|   |   |   |   |   |--- x >  0.95\n",
      "|   |   |   |   |   |   |--- class: No Tradeoff\n",
      "|   |   |   |--- y >  0.45\n",
      "|   |   |   |   |--- x <= 0.45\n",
      "|   |   |   |   |   |--- z <= 0.95\n",
      "|   |   |   |   |   |   |--- y <= 0.95\n",
      "|   |   |   |   |   |   |   |--- class: Standard Tradeoff\n",
      "|   |   |   |   |   |   |--- y >  0.95\n",
      "|   |   |   |   |   |   |   |--- class: No Tradeoff\n",
      "|   |   |   |   |   |--- z >  0.95\n",
      "|   |   |   |   |   |   |--- class: No Tradeoff\n",
      "|   |   |   |   |--- x >  0.45\n",
      "|   |   |   |   |   |--- z <= 0.85\n",
      "|   |   |   |   |   |   |--- y <= 0.85\n",
      "|   |   |   |   |   |   |   |--- x <= 0.85\n",
      "|   |   |   |   |   |   |   |   |--- z <= 0.55\n",
      "|   |   |   |   |   |   |   |   |   |--- class: Standard Tradeoff\n",
      "|   |   |   |   |   |   |   |   |--- z >  0.55\n",
      "|   |   |   |   |   |   |   |   |   |--- y <= 0.55\n",
      "|   |   |   |   |   |   |   |   |   |   |--- class: Standard Tradeoff\n",
      "|   |   |   |   |   |   |   |   |   |--- y >  0.55\n",
      "|   |   |   |   |   |   |   |   |   |   |--- x <= 0.55\n",
      "|   |   |   |   |   |   |   |   |   |   |   |--- class: Standard Tradeoff\n",
      "|   |   |   |   |   |   |   |   |   |   |--- x >  0.55\n",
      "|   |   |   |   |   |   |   |   |   |   |   |--- truncated branch of depth 3\n",
      "|   |   |   |   |   |   |   |--- x >  0.85\n",
      "|   |   |   |   |   |   |   |   |--- class: No Tradeoff\n",
      "|   |   |   |   |   |   |--- y >  0.85\n",
      "|   |   |   |   |   |   |   |--- class: No Tradeoff\n",
      "|   |   |   |   |   |--- z >  0.85\n",
      "|   |   |   |   |   |   |--- class: No Tradeoff\n",
      "\n"
     ]
    }
   ],
   "source": [
    "from sklearn.tree import DecisionTreeClassifier, export_text\n",
    "from sklearn.metrics import confusion_matrix, classification_report\n",
    "\n",
    "def boundary_for_two_statuses(df, status1, status2, max_depth=3):\n",
    "    \"\"\"\n",
    "    Train a small decision tree to distinguish only between status1 and status2.\n",
    "    Return the trained classifier and print interpretative boundary rules.\n",
    "    \"\"\"\n",
    "    # 1. Filter the DataFrame\n",
    "    df_filtered = df[df['status'].isin([status1, status2])].copy()\n",
    "    \n",
    "    # If the user wants a smaller or bigger subset, they can adjust the conditions here.\n",
    "    # Example: you might want x < 0.8, y > 0.2, etc., but we’ll keep it simple.\n",
    "    \n",
    "    # 2. Extract features (x, y, z) and the binary label\n",
    "    X = df_filtered[['x', 'y', 'z']]\n",
    "    y = df_filtered['status']\n",
    "    \n",
    "    # 3. Train a decision tree on these two statuses\n",
    "    # We use a small max_depth so the boundary is simpler to interpret\n",
    "    # class_weight='balanced' helps if one class is smaller than the other\n",
    "    clf = DecisionTreeClassifier(\n",
    "        max_depth=max_depth,\n",
    "        class_weight='balanced',\n",
    "        random_state=42\n",
    "    )\n",
    "    clf.fit(X, y)\n",
    "\n",
    "    # 4. Predict on the *same* subset to check how well we separate these two statuses\n",
    "    y_pred = clf.predict(X)\n",
    "\n",
    "    # 5. Print basic performance metrics\n",
    "    print(f\"Trained a decision tree to separate '{status1}' and '{status2}' with max_depth={max_depth}\")\n",
    "    print(\"\\nConfusion Matrix:\")\n",
    "    cm = confusion_matrix(y, y_pred, labels=[status1, status2])\n",
    "    print(pd.DataFrame(cm, index=[status1, status2], columns=[status1, status2]))\n",
    "    \n",
    "    print(\"\\nClassification Report:\")\n",
    "    print(classification_report(y, y_pred, labels=[status1, status2]))\n",
    "    \n",
    "    # 6. Export the tree rules in text form for easy interpretation\n",
    "    rules = export_text(clf, feature_names=['x', 'y', 'z'])\n",
    "    print(\"\\nDecision Tree Rules:\")\n",
    "    print(rules)\n",
    "\n",
    "    return clf, df_filtered\n",
    "\n",
    "clf_two_class, df_two_class = boundary_for_two_statuses(\n",
    "    df,\n",
    "    status1='No Tradeoff',\n",
    "    status2='Standard Tradeoff',\n",
    "    max_depth=13\n",
    ")"
   ]
  },
  {
   "cell_type": "code",
   "execution_count": 63,
   "metadata": {},
   "outputs": [
    {
     "data": {
      "application/vnd.plotly.v1+json": {
       "config": {
        "plotlyServerURL": "https://plot.ly"
       },
       "data": [
        {
         "hovertemplate": "status=Equal<br>z_slice=0.0<br>x=%{x}<br>y=%{y}<extra></extra>",
         "legendgroup": "Equal",
         "marker": {
          "color": "#636efa",
          "symbol": "circle"
         },
         "mode": "markers",
         "name": "Equal",
         "showlegend": true,
         "type": "scattergl",
         "x": {
          "bdata": "AAAAAAAAAAAAAAAAAAAAAJqZmZmZmbk/mpmZmZmZyT+amZmZmZnJPzMzMzMzM9M/mpmZmZmZ2T+amZmZmZnZP5qZmZmZmdk/mpmZmZmZ2T+amZmZmZnZP5qZmZmZmdk/mpmZmZmZ2T8AAAAAAADgPwAAAAAAAOA/AAAAAAAA4D8AAAAAAADgPwAAAAAAAOA/AAAAAAAA4D8AAAAAAADgPwAAAAAAAOA/MzMzMzMz4z8zMzMzMzPjPzMzMzMzM+M/MzMzMzMz4z8zMzMzMzPjPzMzMzMzM+M/MzMzMzMz4z8zMzMzMzPjP2ZmZmZmZuY/ZmZmZmZm5j9mZmZmZmbmP5qZmZmZmek/mpmZmZmZ6T+amZmZmZnpP83MzMzMzOw/zczMzMzM7D/NzMzMzMzsPwAAAAAAAPA/AAAAAAAA8D8AAAAAAADwPw==",
          "dtype": "f8"
         },
         "xaxis": "x11",
         "y": {
          "bdata": "AAAAAAAAAAAAAAAAAADgP5qZmZmZmbk/mpmZmZmZyT8zMzMzMzPjPzMzMzMzM9M/mpmZmZmZ2T8AAAAAAADgPzMzMzMzM+M/ZmZmZmZm5j+amZmZmZnpP83MzMzMzOw/AAAAAAAA8D8AAAAAAAAAAJqZmZmZmdk/AAAAAAAA4D8zMzMzMzPjP2ZmZmZmZuY/mpmZmZmZ6T/NzMzMzMzsPwAAAAAAAPA/mpmZmZmZyT+amZmZmZnZPwAAAAAAAOA/MzMzMzMz4z9mZmZmZmbmP5qZmZmZmek/zczMzMzM7D8AAAAAAADwP5qZmZmZmdk/AAAAAAAA4D8zMzMzMzPjP5qZmZmZmdk/AAAAAAAA4D8zMzMzMzPjP5qZmZmZmdk/AAAAAAAA4D8zMzMzMzPjP5qZmZmZmdk/AAAAAAAA4D8zMzMzMzPjPw==",
          "dtype": "f8"
         },
         "yaxis": "y11"
        },
        {
         "hovertemplate": "status=Equal<br>z_slice=0.1<br>x=%{x}<br>y=%{y}<extra></extra>",
         "legendgroup": "Equal",
         "marker": {
          "color": "#636efa",
          "symbol": "circle"
         },
         "mode": "markers",
         "name": "Equal",
         "showlegend": false,
         "type": "scattergl",
         "x": {
          "bdata": "AAAAAAAAAACamZmZmZm5P5qZmZmZmbk/mpmZmZmZyT+amZmZmZnJPzMzMzMzM9M/mpmZmZmZ2T+amZmZmZnZP5qZmZmZmdk/mpmZmZmZ2T+amZmZmZnZP5qZmZmZmdk/mpmZmZmZ2T8AAAAAAADgPwAAAAAAAOA/AAAAAAAA4D8AAAAAAADgPwAAAAAAAOA/AAAAAAAA4D8AAAAAAADgPwAAAAAAAOA/MzMzMzMz4z8zMzMzMzPjPzMzMzMzM+M/MzMzMzMz4z8zMzMzMzPjPzMzMzMzM+M/MzMzMzMz4z9mZmZmZmbmP2ZmZmZmZuY/ZmZmZmZm5j+amZmZmZnpP5qZmZmZmek/mpmZmZmZ6T/NzMzMzMzsP83MzMzMzOw/zczMzMzM7D8AAAAAAADwPwAAAAAAAPA/AAAAAAAA8D8=",
          "dtype": "f8"
         },
         "xaxis": "x12",
         "y": {
          "bdata": "mpmZmZmZuT8AAAAAAAAAAJqZmZmZmbk/mpmZmZmZyT8AAAAAAADgPzMzMzMzM9M/mpmZmZmZ2T8AAAAAAADgPzMzMzMzM+M/ZmZmZmZm5j+amZmZmZnpP83MzMzMzOw/AAAAAAAA8D+amZmZmZnJP5qZmZmZmdk/AAAAAAAA4D8zMzMzMzPjP2ZmZmZmZuY/mpmZmZmZ6T/NzMzMzMzsPwAAAAAAAPA/mpmZmZmZ2T8AAAAAAADgPzMzMzMzM+M/ZmZmZmZm5j+amZmZmZnpP83MzMzMzOw/AAAAAAAA8D+amZmZmZnZPwAAAAAAAOA/MzMzMzMz4z+amZmZmZnZPwAAAAAAAOA/MzMzMzMz4z+amZmZmZnZPwAAAAAAAOA/MzMzMzMz4z+amZmZmZnZPwAAAAAAAOA/MzMzMzMz4z8=",
          "dtype": "f8"
         },
         "yaxis": "y12"
        },
        {
         "hovertemplate": "status=Equal<br>z_slice=0.2<br>x=%{x}<br>y=%{y}<extra></extra>",
         "legendgroup": "Equal",
         "marker": {
          "color": "#636efa",
          "symbol": "circle"
         },
         "mode": "markers",
         "name": "Equal",
         "showlegend": false,
         "type": "scattergl",
         "x": {
          "bdata": "AAAAAAAAAAAAAAAAAAAAAJqZmZmZmbk/mpmZmZmZuT+amZmZmZnJP5qZmZmZmck/mpmZmZmZyT+amZmZmZnJPzMzMzMzM9M/mpmZmZmZ2T+amZmZmZnZP5qZmZmZmdk/mpmZmZmZ2T+amZmZmZnZP5qZmZmZmdk/mpmZmZmZ2T+amZmZmZnZPwAAAAAAAOA/AAAAAAAA4D8AAAAAAADgPwAAAAAAAOA/AAAAAAAA4D8AAAAAAADgPwAAAAAAAOA/AAAAAAAA4D8zMzMzMzPjPzMzMzMzM+M/MzMzMzMz4z8zMzMzMzPjPzMzMzMzM+M/MzMzMzMz4z8zMzMzMzPjPzMzMzMzM+M/ZmZmZmZm5j9mZmZmZmbmP2ZmZmZmZuY/mpmZmZmZ6T+amZmZmZnpP5qZmZmZmek/zczMzMzM7D/NzMzMzMzsP83MzMzMzOw/AAAAAAAA8D8AAAAAAADwPwAAAAAAAPA/",
          "dtype": "f8"
         },
         "xaxis": "x13",
         "y": {
          "bdata": "mpmZmZmZyT8zMzMzMzPjP5qZmZmZmck/AAAAAAAA4D8AAAAAAAAAAJqZmZmZmbk/mpmZmZmZyT+amZmZmZnZPzMzMzMzM9M/mpmZmZmZyT+amZmZmZnZPwAAAAAAAOA/MzMzMzMz4z9mZmZmZmbmP5qZmZmZmek/zczMzMzM7D8AAAAAAADwP5qZmZmZmbk/mpmZmZmZ2T8AAAAAAADgPzMzMzMzM+M/ZmZmZmZm5j+amZmZmZnpP83MzMzMzOw/AAAAAAAA8D8AAAAAAAAAAJqZmZmZmdk/AAAAAAAA4D8zMzMzMzPjP2ZmZmZmZuY/mpmZmZmZ6T/NzMzMzMzsPwAAAAAAAPA/mpmZmZmZ2T8AAAAAAADgPzMzMzMzM+M/mpmZmZmZ2T8AAAAAAADgPzMzMzMzM+M/mpmZmZmZ2T8AAAAAAADgPzMzMzMzM+M/mpmZmZmZ2T8AAAAAAADgPzMzMzMzM+M/",
          "dtype": "f8"
         },
         "yaxis": "y13"
        },
        {
         "hovertemplate": "status=Equal<br>z_slice=0.3<br>x=%{x}<br>y=%{y}<extra></extra>",
         "legendgroup": "Equal",
         "marker": {
          "color": "#636efa",
          "symbol": "circle"
         },
         "mode": "markers",
         "name": "Equal",
         "showlegend": false,
         "type": "scattergl",
         "x": {
          "bdata": "AAAAAAAAAACamZmZmZm5P5qZmZmZmck/MzMzMzMz0z8zMzMzMzPTPzMzMzMzM9M/MzMzMzMz0z+amZmZmZnZP5qZmZmZmdk/mpmZmZmZ2T+amZmZmZnZP5qZmZmZmdk/mpmZmZmZ2T+amZmZmZnZPwAAAAAAAOA/AAAAAAAA4D8AAAAAAADgPwAAAAAAAOA/AAAAAAAA4D8AAAAAAADgPwAAAAAAAOA/MzMzMzMz4z8zMzMzMzPjPzMzMzMzM+M/MzMzMzMz4z8zMzMzMzPjPzMzMzMzM+M/MzMzMzMz4z9mZmZmZmbmP2ZmZmZmZuY/ZmZmZmZm5j+amZmZmZnpP5qZmZmZmek/mpmZmZmZ6T/NzMzMzMzsP83MzMzMzOw/zczMzMzM7D8AAAAAAADwPwAAAAAAAPA/AAAAAAAA8D8=",
          "dtype": "f8"
         },
         "xaxis": "x14",
         "y": {
          "bdata": "MzMzMzMz0z8zMzMzMzPTPzMzMzMzM9M/AAAAAAAAAACamZmZmZm5P5qZmZmZmck/MzMzMzMz0z+amZmZmZnZPwAAAAAAAOA/MzMzMzMz4z9mZmZmZmbmP5qZmZmZmek/zczMzMzM7D8AAAAAAADwP5qZmZmZmdk/AAAAAAAA4D8zMzMzMzPjP2ZmZmZmZuY/mpmZmZmZ6T/NzMzMzMzsPwAAAAAAAPA/mpmZmZmZ2T8AAAAAAADgPzMzMzMzM+M/ZmZmZmZm5j+amZmZmZnpP83MzMzMzOw/AAAAAAAA8D+amZmZmZnZPwAAAAAAAOA/MzMzMzMz4z+amZmZmZnZPwAAAAAAAOA/MzMzMzMz4z+amZmZmZnZPwAAAAAAAOA/MzMzMzMz4z+amZmZmZnZPwAAAAAAAOA/MzMzMzMz4z8=",
          "dtype": "f8"
         },
         "yaxis": "y14"
        },
        {
         "hovertemplate": "status=Equal<br>z_slice=0.4<br>x=%{x}<br>y=%{y}<extra></extra>",
         "legendgroup": "Equal",
         "marker": {
          "color": "#636efa",
          "symbol": "circle"
         },
         "mode": "markers",
         "name": "Equal",
         "showlegend": false,
         "type": "scattergl",
         "x": {
          "bdata": "AAAAAAAAAAAAAAAAAAAAAAAAAAAAAAAAAAAAAAAAAAAAAAAAAAAAAAAAAAAAAAAAAAAAAAAAAACamZmZmZm5P5qZmZmZmbk/mpmZmZmZuT+amZmZmZm5P5qZmZmZmbk/mpmZmZmZuT+amZmZmZm5P5qZmZmZmck/mpmZmZmZyT+amZmZmZnJP5qZmZmZmck/mpmZmZmZyT+amZmZmZnJP5qZmZmZmck/mpmZmZmZyT8zMzMzMzPTPzMzMzMzM9M/MzMzMzMz0z8zMzMzMzPTPzMzMzMzM9M/MzMzMzMz0z8zMzMzMzPTP5qZmZmZmdk/mpmZmZmZ2T+amZmZmZnZP5qZmZmZmdk/mpmZmZmZ2T+amZmZmZnZP5qZmZmZmdk/mpmZmZmZ2T+amZmZmZnZP5qZmZmZmdk/mpmZmZmZ2T8AAAAAAADgPwAAAAAAAOA/AAAAAAAA4D8AAAAAAADgPwAAAAAAAOA/AAAAAAAA4D8AAAAAAADgPwAAAAAAAOA/AAAAAAAA4D8AAAAAAADgPwAAAAAAAOA/MzMzMzMz4z8zMzMzMzPjPzMzMzMzM+M/MzMzMzMz4z8zMzMzMzPjPzMzMzMzM+M/MzMzMzMz4z8zMzMzMzPjPzMzMzMzM+M/MzMzMzMz4z8zMzMzMzPjP2ZmZmZmZuY/ZmZmZmZm5j9mZmZmZmbmP2ZmZmZmZuY/ZmZmZmZm5j9mZmZmZmbmP2ZmZmZmZuY/mpmZmZmZ6T+amZmZmZnpP5qZmZmZmek/mpmZmZmZ6T+amZmZmZnpP5qZmZmZmek/mpmZmZmZ6T+amZmZmZnpP83MzMzMzOw/zczMzMzM7D/NzMzMzMzsP83MzMzMzOw/zczMzMzM7D/NzMzMzMzsP83MzMzMzOw/AAAAAAAA8D8AAAAAAADwPwAAAAAAAPA/AAAAAAAA8D8AAAAAAADwPwAAAAAAAPA/AAAAAAAA8D8AAAAAAADwPw==",
          "dtype": "f8"
         },
         "xaxis": "x15",
         "y": {
          "bdata": "mpmZmZmZ2T8AAAAAAADgPzMzMzMzM+M/ZmZmZmZm5j+amZmZmZnpP83MzMzMzOw/AAAAAAAA8D+amZmZmZnZPwAAAAAAAOA/MzMzMzMz4z9mZmZmZmbmP5qZmZmZmek/zczMzMzM7D8AAAAAAADwP5qZmZmZmck/mpmZmZmZ2T8AAAAAAADgPzMzMzMzM+M/ZmZmZmZm5j+amZmZmZnpP83MzMzMzOw/AAAAAAAA8D+amZmZmZnZPwAAAAAAAOA/MzMzMzMz4z9mZmZmZmbmP5qZmZmZmek/zczMzMzM7D8AAAAAAADwPwAAAAAAAAAAmpmZmZmZuT+amZmZmZnJPzMzMzMzM9M/mpmZmZmZ2T8AAAAAAADgPzMzMzMzM+M/ZmZmZmZm5j+amZmZmZnpP83MzMzMzOw/AAAAAAAA8D8AAAAAAAAAAJqZmZmZmbk/mpmZmZmZyT8zMzMzMzPTP5qZmZmZmdk/AAAAAAAA4D8zMzMzMzPjP2ZmZmZmZuY/mpmZmZmZ6T/NzMzMzMzsPwAAAAAAAPA/AAAAAAAAAACamZmZmZm5P5qZmZmZmck/MzMzMzMz0z+amZmZmZnZPwAAAAAAAOA/MzMzMzMz4z9mZmZmZmbmP5qZmZmZmek/zczMzMzM7D8AAAAAAADwPwAAAAAAAAAAmpmZmZmZuT+amZmZmZnJPzMzMzMzM9M/mpmZmZmZ2T8AAAAAAADgPzMzMzMzM+M/AAAAAAAAAACamZmZmZm5P5qZmZmZmck/MzMzMzMz0z+amZmZmZnZPwAAAAAAAOA/MzMzMzMz4z8AAAAAAADwPwAAAAAAAAAAmpmZmZmZuT+amZmZmZnJPzMzMzMzM9M/mpmZmZmZ2T8AAAAAAADgPzMzMzMzM+M/AAAAAAAAAACamZmZmZm5P5qZmZmZmck/MzMzMzMz0z+amZmZmZnZPwAAAAAAAOA/MzMzMzMz4z+amZmZmZnpPw==",
          "dtype": "f8"
         },
         "yaxis": "y15"
        },
        {
         "hovertemplate": "status=Equal<br>z_slice=0.5<br>x=%{x}<br>y=%{y}<extra></extra>",
         "legendgroup": "Equal",
         "marker": {
          "color": "#636efa",
          "symbol": "circle"
         },
         "mode": "markers",
         "name": "Equal",
         "showlegend": false,
         "type": "scattergl",
         "x": {
          "bdata": "AAAAAAAAAAAAAAAAAAAAAAAAAAAAAAAAAAAAAAAAAAAAAAAAAAAAAAAAAAAAAAAAAAAAAAAAAAAAAAAAAAAAAJqZmZmZmbk/mpmZmZmZuT+amZmZmZm5P5qZmZmZmbk/mpmZmZmZuT+amZmZmZm5P5qZmZmZmbk/mpmZmZmZuT+amZmZmZnJP5qZmZmZmck/mpmZmZmZyT+amZmZmZnJP5qZmZmZmck/mpmZmZmZyT+amZmZmZnJP5qZmZmZmck/MzMzMzMz0z8zMzMzMzPTPzMzMzMzM9M/MzMzMzMz0z8zMzMzMzPTPzMzMzMzM9M/MzMzMzMz0z+amZmZmZnZP5qZmZmZmdk/mpmZmZmZ2T+amZmZmZnZP5qZmZmZmdk/mpmZmZmZ2T+amZmZmZnZP5qZmZmZmdk/mpmZmZmZ2T+amZmZmZnZP5qZmZmZmdk/AAAAAAAA4D8AAAAAAADgPwAAAAAAAOA/AAAAAAAA4D8AAAAAAADgPwAAAAAAAOA/AAAAAAAA4D8AAAAAAADgPwAAAAAAAOA/AAAAAAAA4D8AAAAAAADgPzMzMzMzM+M/MzMzMzMz4z8zMzMzMzPjPzMzMzMzM+M/MzMzMzMz4z8zMzMzMzPjPzMzMzMzM+M/MzMzMzMz4z8zMzMzMzPjPzMzMzMzM+M/MzMzMzMz4z9mZmZmZmbmP2ZmZmZmZuY/ZmZmZmZm5j9mZmZmZmbmP2ZmZmZmZuY/ZmZmZmZm5j9mZmZmZmbmP5qZmZmZmek/mpmZmZmZ6T+amZmZmZnpP5qZmZmZmek/mpmZmZmZ6T+amZmZmZnpP5qZmZmZmek/mpmZmZmZ6T/NzMzMzMzsP83MzMzMzOw/zczMzMzM7D/NzMzMzMzsP83MzMzMzOw/zczMzMzM7D/NzMzMzMzsP83MzMzMzOw/AAAAAAAA8D8AAAAAAADwPwAAAAAAAPA/AAAAAAAA8D8AAAAAAADwPwAAAAAAAPA/AAAAAAAA8D8AAAAAAADwPw==",
          "dtype": "f8"
         },
         "xaxis": "x6",
         "y": {
          "bdata": "AAAAAAAAAACamZmZmZnZPwAAAAAAAOA/MzMzMzMz4z9mZmZmZmbmP5qZmZmZmek/zczMzMzM7D8AAAAAAADwP5qZmZmZmck/mpmZmZmZ2T8AAAAAAADgPzMzMzMzM+M/ZmZmZmZm5j+amZmZmZnpP83MzMzMzOw/AAAAAAAA8D+amZmZmZm5P5qZmZmZmdk/AAAAAAAA4D8zMzMzMzPjP2ZmZmZmZuY/mpmZmZmZ6T/NzMzMzMzsPwAAAAAAAPA/mpmZmZmZ2T8AAAAAAADgPzMzMzMzM+M/ZmZmZmZm5j+amZmZmZnpP83MzMzMzOw/AAAAAAAA8D8AAAAAAAAAAJqZmZmZmbk/mpmZmZmZyT8zMzMzMzPTP5qZmZmZmdk/AAAAAAAA4D8zMzMzMzPjP2ZmZmZmZuY/mpmZmZmZ6T/NzMzMzMzsPwAAAAAAAPA/AAAAAAAAAACamZmZmZm5P5qZmZmZmck/MzMzMzMz0z+amZmZmZnZPwAAAAAAAOA/MzMzMzMz4z9mZmZmZmbmP5qZmZmZmek/zczMzMzM7D8AAAAAAADwPwAAAAAAAAAAmpmZmZmZuT+amZmZmZnJPzMzMzMzM9M/mpmZmZmZ2T8AAAAAAADgPzMzMzMzM+M/ZmZmZmZm5j+amZmZmZnpP83MzMzMzOw/AAAAAAAA8D8AAAAAAAAAAJqZmZmZmbk/mpmZmZmZyT8zMzMzMzPTP5qZmZmZmdk/AAAAAAAA4D8zMzMzMzPjPwAAAAAAAAAAmpmZmZmZuT+amZmZmZnJPzMzMzMzM9M/mpmZmZmZ2T8AAAAAAADgPzMzMzMzM+M/zczMzMzM7D8AAAAAAAAAAJqZmZmZmbk/mpmZmZmZyT8zMzMzMzPTP5qZmZmZmdk/AAAAAAAA4D8zMzMzMzPjP5qZmZmZmek/AAAAAAAAAACamZmZmZm5P5qZmZmZmck/MzMzMzMz0z+amZmZmZnZPwAAAAAAAOA/MzMzMzMz4z8AAAAAAADwPw==",
          "dtype": "f8"
         },
         "yaxis": "y6"
        },
        {
         "hovertemplate": "status=Equal<br>z_slice=0.6<br>x=%{x}<br>y=%{y}<extra></extra>",
         "legendgroup": "Equal",
         "marker": {
          "color": "#636efa",
          "symbol": "circle"
         },
         "mode": "markers",
         "name": "Equal",
         "showlegend": false,
         "type": "scattergl",
         "x": {
          "bdata": "AAAAAAAAAAAAAAAAAAAAAAAAAAAAAAAAAAAAAAAAAAAAAAAAAAAAAAAAAAAAAAAAAAAAAAAAAAAAAAAAAAAAAJqZmZmZmbk/mpmZmZmZuT+amZmZmZm5P5qZmZmZmbk/mpmZmZmZuT+amZmZmZm5P5qZmZmZmbk/mpmZmZmZyT+amZmZmZnJP5qZmZmZmck/mpmZmZmZyT+amZmZmZnJP5qZmZmZmck/mpmZmZmZyT+amZmZmZnJPzMzMzMzM9M/MzMzMzMz0z8zMzMzMzPTPzMzMzMzM9M/MzMzMzMz0z8zMzMzMzPTPzMzMzMzM9M/mpmZmZmZ2T+amZmZmZnZP5qZmZmZmdk/mpmZmZmZ2T+amZmZmZnZP5qZmZmZmdk/mpmZmZmZ2T+amZmZmZnZP5qZmZmZmdk/mpmZmZmZ2T+amZmZmZnZPwAAAAAAAOA/AAAAAAAA4D8AAAAAAADgPwAAAAAAAOA/AAAAAAAA4D8AAAAAAADgPwAAAAAAAOA/AAAAAAAA4D8AAAAAAADgPwAAAAAAAOA/AAAAAAAA4D8zMzMzMzPjPzMzMzMzM+M/MzMzMzMz4z8zMzMzMzPjPzMzMzMzM+M/MzMzMzMz4z8zMzMzMzPjPzMzMzMzM+M/MzMzMzMz4z8zMzMzMzPjPzMzMzMzM+M/ZmZmZmZm5j9mZmZmZmbmP2ZmZmZmZuY/ZmZmZmZm5j9mZmZmZmbmP2ZmZmZmZuY/ZmZmZmZm5j+amZmZmZnpP5qZmZmZmek/mpmZmZmZ6T+amZmZmZnpP5qZmZmZmek/mpmZmZmZ6T+amZmZmZnpP5qZmZmZmek/zczMzMzM7D/NzMzMzMzsP83MzMzMzOw/zczMzMzM7D/NzMzMzMzsP83MzMzMzOw/zczMzMzM7D8AAAAAAADwPwAAAAAAAPA/AAAAAAAA8D8AAAAAAADwPwAAAAAAAPA/AAAAAAAA8D8AAAAAAADwPw==",
          "dtype": "f8"
         },
         "xaxis": "x7",
         "y": {
          "bdata": "mpmZmZmZyT+amZmZmZnZPwAAAAAAAOA/MzMzMzMz4z9mZmZmZmbmP5qZmZmZmek/zczMzMzM7D8AAAAAAADwP5qZmZmZmdk/AAAAAAAA4D8zMzMzMzPjP2ZmZmZmZuY/mpmZmZmZ6T/NzMzMzMzsPwAAAAAAAPA/AAAAAAAAAACamZmZmZnZPwAAAAAAAOA/MzMzMzMz4z9mZmZmZmbmP5qZmZmZmek/zczMzMzM7D8AAAAAAADwP5qZmZmZmdk/AAAAAAAA4D8zMzMzMzPjP2ZmZmZmZuY/mpmZmZmZ6T/NzMzMzMzsPwAAAAAAAPA/AAAAAAAAAACamZmZmZm5P5qZmZmZmck/MzMzMzMz0z+amZmZmZnZPwAAAAAAAOA/MzMzMzMz4z9mZmZmZmbmP5qZmZmZmek/zczMzMzM7D8AAAAAAADwPwAAAAAAAAAAmpmZmZmZuT+amZmZmZnJPzMzMzMzM9M/mpmZmZmZ2T8AAAAAAADgPzMzMzMzM+M/ZmZmZmZm5j+amZmZmZnpP83MzMzMzOw/AAAAAAAA8D8AAAAAAAAAAJqZmZmZmbk/mpmZmZmZyT8zMzMzMzPTP5qZmZmZmdk/AAAAAAAA4D8zMzMzMzPjP2ZmZmZmZuY/mpmZmZmZ6T/NzMzMzMzsPwAAAAAAAPA/AAAAAAAAAACamZmZmZm5P5qZmZmZmck/MzMzMzMz0z+amZmZmZnZPwAAAAAAAOA/MzMzMzMz4z8AAAAAAAAAAJqZmZmZmbk/mpmZmZmZyT8zMzMzMzPTP5qZmZmZmdk/AAAAAAAA4D8zMzMzMzPjP5qZmZmZmek/AAAAAAAAAACamZmZmZm5P5qZmZmZmck/MzMzMzMz0z+amZmZmZnZPwAAAAAAAOA/MzMzMzMz4z8AAAAAAAAAAJqZmZmZmbk/mpmZmZmZyT8zMzMzMzPTP5qZmZmZmdk/AAAAAAAA4D8zMzMzMzPjPw==",
          "dtype": "f8"
         },
         "yaxis": "y7"
        },
        {
         "hovertemplate": "status=Equal<br>z_slice=0.7<br>x=%{x}<br>y=%{y}<extra></extra>",
         "legendgroup": "Equal",
         "marker": {
          "color": "#636efa",
          "symbol": "circle"
         },
         "mode": "markers",
         "name": "Equal",
         "showlegend": false,
         "type": "scattergl",
         "x": {
          "bdata": "AAAAAAAAAAAAAAAAAAAAAAAAAAAAAAAAmpmZmZmZuT+amZmZmZm5P5qZmZmZmbk/mpmZmZmZyT+amZmZmZnJP5qZmZmZmck/MzMzMzMz0z8zMzMzMzPTPzMzMzMzM9M/mpmZmZmZ2T+amZmZmZnZP5qZmZmZmdk/mpmZmZmZ2T+amZmZmZnZP5qZmZmZmdk/mpmZmZmZ2T8AAAAAAADgPwAAAAAAAOA/AAAAAAAA4D8AAAAAAADgPwAAAAAAAOA/AAAAAAAA4D8AAAAAAADgPzMzMzMzM+M/MzMzMzMz4z8zMzMzMzPjPzMzMzMzM+M/MzMzMzMz4z8zMzMzMzPjPzMzMzMzM+M/ZmZmZmZm5j9mZmZmZmbmP2ZmZmZmZuY/ZmZmZmZm5j+amZmZmZnpP83MzMzMzOw/AAAAAAAA8D8=",
          "dtype": "f8"
         },
         "xaxis": "x8",
         "y": {
          "bdata": "mpmZmZmZ2T8AAAAAAADgPzMzMzMzM+M/mpmZmZmZ2T8AAAAAAADgPzMzMzMzM+M/mpmZmZmZ2T8AAAAAAADgPzMzMzMzM+M/mpmZmZmZ2T8AAAAAAADgPzMzMzMzM+M/AAAAAAAAAACamZmZmZm5P5qZmZmZmck/MzMzMzMz0z+amZmZmZnZPwAAAAAAAOA/MzMzMzMz4z8AAAAAAAAAAJqZmZmZmbk/mpmZmZmZyT8zMzMzMzPTP5qZmZmZmdk/AAAAAAAA4D8zMzMzMzPjPwAAAAAAAAAAmpmZmZmZuT+amZmZmZnJPzMzMzMzM9M/mpmZmZmZ2T8AAAAAAADgPzMzMzMzM+M/ZmZmZmZm5j+amZmZmZnpP83MzMzMzOw/AAAAAAAA8D9mZmZmZmbmP2ZmZmZmZuY/ZmZmZmZm5j8=",
          "dtype": "f8"
         },
         "yaxis": "y8"
        },
        {
         "hovertemplate": "status=Equal<br>z_slice=0.8<br>x=%{x}<br>y=%{y}<extra></extra>",
         "legendgroup": "Equal",
         "marker": {
          "color": "#636efa",
          "symbol": "circle"
         },
         "mode": "markers",
         "name": "Equal",
         "showlegend": false,
         "type": "scattergl",
         "x": {
          "bdata": "AAAAAAAAAAAAAAAAAAAAAAAAAAAAAAAAmpmZmZmZuT+amZmZmZm5P5qZmZmZmbk/mpmZmZmZyT+amZmZmZnJP5qZmZmZmck/MzMzMzMz0z8zMzMzMzPTPzMzMzMzM9M/mpmZmZmZ2T+amZmZmZnZP5qZmZmZmdk/mpmZmZmZ2T+amZmZmZnZP5qZmZmZmdk/mpmZmZmZ2T+amZmZmZnZPwAAAAAAAOA/AAAAAAAA4D8AAAAAAADgPwAAAAAAAOA/AAAAAAAA4D8AAAAAAADgPwAAAAAAAOA/AAAAAAAA4D8zMzMzMzPjPzMzMzMzM+M/MzMzMzMz4z8zMzMzMzPjPzMzMzMzM+M/MzMzMzMz4z8zMzMzMzPjPzMzMzMzM+M/ZmZmZmZm5j+amZmZmZnpP5qZmZmZmek/mpmZmZmZ6T+amZmZmZnpP83MzMzMzOw/zczMzMzM7D8AAAAAAADwPwAAAAAAAPA/",
          "dtype": "f8"
         },
         "xaxis": "x9",
         "y": {
          "bdata": "mpmZmZmZ2T8AAAAAAADgPzMzMzMzM+M/mpmZmZmZ2T8AAAAAAADgPzMzMzMzM+M/mpmZmZmZ2T8AAAAAAADgPzMzMzMzM+M/mpmZmZmZ2T8AAAAAAADgPzMzMzMzM+M/AAAAAAAAAACamZmZmZm5P5qZmZmZmck/MzMzMzMz0z+amZmZmZnZPwAAAAAAAOA/MzMzMzMz4z8AAAAAAADwPwAAAAAAAAAAmpmZmZmZuT+amZmZmZnJPzMzMzMzM9M/mpmZmZmZ2T8AAAAAAADgPzMzMzMzM+M/zczMzMzM7D8AAAAAAAAAAJqZmZmZmbk/mpmZmZmZyT8zMzMzMzPTP5qZmZmZmdk/AAAAAAAA4D8zMzMzMzPjP5qZmZmZmek/ZmZmZmZm5j8zMzMzMzPjP5qZmZmZmek/zczMzMzM7D8AAAAAAADwPwAAAAAAAOA/mpmZmZmZ6T+amZmZmZnZP5qZmZmZmek/",
          "dtype": "f8"
         },
         "yaxis": "y9"
        },
        {
         "hovertemplate": "status=Equal<br>z_slice=0.9<br>x=%{x}<br>y=%{y}<extra></extra>",
         "legendgroup": "Equal",
         "marker": {
          "color": "#636efa",
          "symbol": "circle"
         },
         "mode": "markers",
         "name": "Equal",
         "showlegend": false,
         "type": "scattergl",
         "x": {
          "bdata": "AAAAAAAAAAAAAAAAAAAAAAAAAAAAAAAAmpmZmZmZuT+amZmZmZm5P5qZmZmZmbk/mpmZmZmZyT+amZmZmZnJP5qZmZmZmck/MzMzMzMz0z8zMzMzMzPTPzMzMzMzM9M/mpmZmZmZ2T+amZmZmZnZP5qZmZmZmdk/mpmZmZmZ2T+amZmZmZnZP5qZmZmZmdk/mpmZmZmZ2T8AAAAAAADgPwAAAAAAAOA/AAAAAAAA4D8AAAAAAADgPwAAAAAAAOA/AAAAAAAA4D8AAAAAAADgPwAAAAAAAOA/MzMzMzMz4z8zMzMzMzPjPzMzMzMzM+M/MzMzMzMz4z8zMzMzMzPjPzMzMzMzM+M/MzMzMzMz4z9mZmZmZmbmP5qZmZmZmek/mpmZmZmZ6T/NzMzMzMzsP83MzMzMzOw/AAAAAAAA8D8=",
          "dtype": "f8"
         },
         "xaxis": "x10",
         "y": {
          "bdata": "mpmZmZmZ2T8AAAAAAADgPzMzMzMzM+M/mpmZmZmZ2T8AAAAAAADgPzMzMzMzM+M/mpmZmZmZ2T8AAAAAAADgPzMzMzMzM+M/mpmZmZmZ2T8AAAAAAADgPzMzMzMzM+M/AAAAAAAAAACamZmZmZm5P5qZmZmZmck/MzMzMzMz0z+amZmZmZnZPwAAAAAAAOA/MzMzMzMz4z8AAAAAAAAAAJqZmZmZmbk/mpmZmZmZyT8zMzMzMzPTP5qZmZmZmdk/AAAAAAAA4D8zMzMzMzPjP5qZmZmZmek/AAAAAAAAAACamZmZmZm5P5qZmZmZmck/MzMzMzMz0z+amZmZmZnZPwAAAAAAAOA/MzMzMzMz4z9mZmZmZmbmPwAAAAAAAOA/mpmZmZmZ6T/NzMzMzMzsPwAAAAAAAPA/zczMzMzM7D8=",
          "dtype": "f8"
         },
         "yaxis": "y10"
        },
        {
         "hovertemplate": "status=Equal<br>z_slice=1.0<br>x=%{x}<br>y=%{y}<extra></extra>",
         "legendgroup": "Equal",
         "marker": {
          "color": "#636efa",
          "symbol": "circle"
         },
         "mode": "markers",
         "name": "Equal",
         "showlegend": false,
         "type": "scattergl",
         "x": {
          "bdata": "AAAAAAAAAAAAAAAAAAAAAAAAAAAAAAAAmpmZmZmZuT+amZmZmZm5P5qZmZmZmbk/mpmZmZmZyT+amZmZmZnJP5qZmZmZmck/MzMzMzMz0z8zMzMzMzPTPzMzMzMzM9M/mpmZmZmZ2T+amZmZmZnZP5qZmZmZmdk/mpmZmZmZ2T+amZmZmZnZP5qZmZmZmdk/mpmZmZmZ2T+amZmZmZnZPwAAAAAAAOA/AAAAAAAA4D8AAAAAAADgPwAAAAAAAOA/AAAAAAAA4D8AAAAAAADgPwAAAAAAAOA/AAAAAAAA4D8zMzMzMzPjPzMzMzMzM+M/MzMzMzMz4z8zMzMzMzPjPzMzMzMzM+M/MzMzMzMz4z8zMzMzMzPjP2ZmZmZmZuY/mpmZmZmZ6T+amZmZmZnpP83MzMzMzOw/AAAAAAAA8D8AAAAAAADwPw==",
          "dtype": "f8"
         },
         "xaxis": "x",
         "y": {
          "bdata": "mpmZmZmZ2T8AAAAAAADgPzMzMzMzM+M/mpmZmZmZ2T8AAAAAAADgPzMzMzMzM+M/mpmZmZmZ2T8AAAAAAADgPzMzMzMzM+M/mpmZmZmZ2T8AAAAAAADgPzMzMzMzM+M/AAAAAAAAAACamZmZmZm5P5qZmZmZmck/MzMzMzMz0z+amZmZmZnZPwAAAAAAAOA/MzMzMzMz4z+amZmZmZnpPwAAAAAAAAAAmpmZmZmZuT+amZmZmZnJPzMzMzMzM9M/mpmZmZmZ2T8AAAAAAADgPzMzMzMzM+M/AAAAAAAA8D8AAAAAAAAAAJqZmZmZmbk/mpmZmZmZyT8zMzMzMzPTP5qZmZmZmdk/AAAAAAAA4D8zMzMzMzPjP2ZmZmZmZuY/mpmZmZmZ2T+amZmZmZnpP83MzMzMzOw/AAAAAAAA4D8AAAAAAADwPw==",
          "dtype": "f8"
         },
         "yaxis": "y"
        },
        {
         "hovertemplate": "status=Bend 2<br>z_slice=0.0<br>x=%{x}<br>y=%{y}<extra></extra>",
         "legendgroup": "Bend 2",
         "marker": {
          "color": "#EF553B",
          "symbol": "circle"
         },
         "mode": "markers",
         "name": "Bend 2",
         "showlegend": true,
         "type": "scattergl",
         "x": {
          "bdata": "AAAAAAAAAAAAAAAAAAAAAAAAAAAAAAAAAAAAAAAAAACamZmZmZm5P5qZmZmZmbk/mpmZmZmZuT+amZmZmZm5P5qZmZmZmck/mpmZmZmZyT8zMzMzMzPTPzMzMzMzM9M/mpmZmZmZ2T+amZmZmZnZPwAAAAAAAOA/AAAAAAAA4D8=",
          "dtype": "f8"
         },
         "xaxis": "x11",
         "y": {
          "bdata": "mpmZmZmZuT+amZmZmZnJPzMzMzMzM9M/mpmZmZmZ2T8AAAAAAAAAADMzMzMzM9M/mpmZmZmZ2T8AAAAAAADgPwAAAAAAAAAAAAAAAAAA4D8AAAAAAAAAAJqZmZmZmbk/AAAAAAAAAACamZmZmZm5P5qZmZmZmbk/mpmZmZmZyT8=",
          "dtype": "f8"
         },
         "yaxis": "y11"
        },
        {
         "hovertemplate": "status=Bend 2<br>z_slice=0.1<br>x=%{x}<br>y=%{y}<extra></extra>",
         "legendgroup": "Bend 2",
         "marker": {
          "color": "#EF553B",
          "symbol": "circle"
         },
         "mode": "markers",
         "name": "Bend 2",
         "showlegend": false,
         "type": "scattergl",
         "x": {
          "bdata": "AAAAAAAAAAAAAAAAAAAAAAAAAAAAAAAAAAAAAAAAAACamZmZmZm5P5qZmZmZmbk/mpmZmZmZuT+amZmZmZnJP5qZmZmZmck/MzMzMzMz0z8zMzMzMzPTP5qZmZmZmdk/mpmZmZmZ2T+amZmZmZnZPwAAAAAAAOA/",
          "dtype": "f8"
         },
         "xaxis": "x12",
         "y": {
          "bdata": "AAAAAAAAAAAzMzMzMzPTP5qZmZmZmdk/AAAAAAAA4D+amZmZmZnJPzMzMzMzM9M/mpmZmZmZ2T+amZmZmZm5P5qZmZmZmdk/AAAAAAAAAACamZmZmZm5PwAAAAAAAAAAmpmZmZmZuT+amZmZmZnJPwAAAAAAAAAA",
          "dtype": "f8"
         },
         "yaxis": "y12"
        },
        {
         "hovertemplate": "status=Bend 2<br>z_slice=0.2<br>x=%{x}<br>y=%{y}<extra></extra>",
         "legendgroup": "Bend 2",
         "marker": {
          "color": "#EF553B",
          "symbol": "circle"
         },
         "mode": "markers",
         "name": "Bend 2",
         "showlegend": false,
         "type": "scattergl",
         "x": {
          "bdata": "AAAAAAAAAAAAAAAAAAAAAJqZmZmZmbk/mpmZmZmZuT+amZmZmZnJPzMzMzMzM9M/mpmZmZmZ2T8AAAAAAADgPw==",
          "dtype": "f8"
         },
         "xaxis": "x13",
         "y": {
          "bdata": "AAAAAAAAAAAAAAAAAADgP5qZmZmZmbk/mpmZmZmZ2T8zMzMzMzPTP5qZmZmZmck/mpmZmZmZuT8AAAAAAAAAAA==",
          "dtype": "f8"
         },
         "yaxis": "y13"
        },
        {
         "hovertemplate": "status=Bend 2<br>z_slice=0.3<br>x=%{x}<br>y=%{y}<extra></extra>",
         "legendgroup": "Bend 2",
         "marker": {
          "color": "#EF553B",
          "symbol": "circle"
         },
         "mode": "markers",
         "name": "Bend 2",
         "showlegend": false,
         "type": "scattergl",
         "x": {
          "bdata": "AAAAAAAAAAAAAAAAAAAAAJqZmZmZmbk/mpmZmZmZuT+amZmZmZnJPw==",
          "dtype": "f8"
         },
         "xaxis": "x14",
         "y": {
          "bdata": "AAAAAAAAAACamZmZmZm5PwAAAAAAAAAAmpmZmZmZuT+amZmZmZnJPw==",
          "dtype": "f8"
         },
         "yaxis": "y14"
        },
        {
         "hovertemplate": "status=Bend 2<br>z_slice=0.4<br>x=%{x}<br>y=%{y}<extra></extra>",
         "legendgroup": "Bend 2",
         "marker": {
          "color": "#EF553B",
          "symbol": "circle"
         },
         "mode": "markers",
         "name": "Bend 2",
         "showlegend": false,
         "type": "scattergl",
         "x": {
          "bdata": "AAAAAAAAAAAAAAAAAAAAAJqZmZmZmbk/mpmZmZmZuT+amZmZmZm5P5qZmZmZmck/",
          "dtype": "f8"
         },
         "xaxis": "x15",
         "y": {
          "bdata": "AAAAAAAAAACamZmZmZm5PwAAAAAAAAAAmpmZmZmZuT+amZmZmZnJP5qZmZmZmbk/",
          "dtype": "f8"
         },
         "yaxis": "y15"
        },
        {
         "hovertemplate": "status=Bend 2<br>z_slice=0.5<br>x=%{x}<br>y=%{y}<extra></extra>",
         "legendgroup": "Bend 2",
         "marker": {
          "color": "#EF553B",
          "symbol": "circle"
         },
         "mode": "markers",
         "name": "Bend 2",
         "showlegend": false,
         "type": "scattergl",
         "x": {
          "bdata": "AAAAAAAAAAAAAAAAAAAAAJqZmZmZmbk/mpmZmZmZyT+amZmZmZnpP83MzMzMzOw/AAAAAAAA8D8AAAAAAADwPw==",
          "dtype": "f8"
         },
         "xaxis": "x6",
         "y": {
          "bdata": "mpmZmZmZuT+amZmZmZnJPwAAAAAAAAAAAAAAAAAAAAAAAAAAAADwPwAAAAAAAPA/mpmZmZmZ6T/NzMzMzMzsPw==",
          "dtype": "f8"
         },
         "yaxis": "y6"
        },
        {
         "hovertemplate": "status=Bend 2<br>z_slice=0.6<br>x=%{x}<br>y=%{y}<extra></extra>",
         "legendgroup": "Bend 2",
         "marker": {
          "color": "#EF553B",
          "symbol": "circle"
         },
         "mode": "markers",
         "name": "Bend 2",
         "showlegend": false,
         "type": "scattergl",
         "x": {
          "bdata": "mpmZmZmZ6T/NzMzMzMzsP83MzMzMzOw/zczMzMzM7D8AAAAAAADwPwAAAAAAAPA/",
          "dtype": "f8"
         },
         "xaxis": "x7",
         "y": {
          "bdata": "zczMzMzM7D+amZmZmZnpP83MzMzMzOw/AAAAAAAA8D/NzMzMzMzsPwAAAAAAAPA/",
          "dtype": "f8"
         },
         "yaxis": "y7"
        },
        {
         "hovertemplate": "status=Bend 2<br>z_slice=0.7<br>x=%{x}<br>y=%{y}<extra></extra>",
         "legendgroup": "Bend 2",
         "marker": {
          "color": "#EF553B",
          "symbol": "circle"
         },
         "mode": "markers",
         "name": "Bend 2",
         "showlegend": false,
         "type": "scattergl",
         "x": {
          "bdata": "mpmZmZmZ6T/NzMzMzMzsP83MzMzMzOw/AAAAAAAA8D8AAAAAAADwPw==",
          "dtype": "f8"
         },
         "xaxis": "x8",
         "y": {
          "bdata": "mpmZmZmZ6T/NzMzMzMzsPwAAAAAAAPA/zczMzMzM7D8AAAAAAADwPw==",
          "dtype": "f8"
         },
         "yaxis": "y8"
        },
        {
         "hovertemplate": "status=Bend 2<br>z_slice=0.8<br>x=%{x}<br>y=%{y}<extra></extra>",
         "legendgroup": "Bend 2",
         "marker": {
          "color": "#EF553B",
          "symbol": "circle"
         },
         "mode": "markers",
         "name": "Bend 2",
         "showlegend": false,
         "type": "scattergl",
         "x": {
          "bdata": "AAAAAAAA4D8zMzMzMzPjP2ZmZmZmZuY/mpmZmZmZ6T/NzMzMzMzsP83MzMzMzOw/AAAAAAAA8D8AAAAAAADwPw==",
          "dtype": "f8"
         },
         "xaxis": "x9",
         "y": {
          "bdata": "AAAAAAAA8D/NzMzMzMzsP5qZmZmZmek/ZmZmZmZm5j8zMzMzMzPjP83MzMzMzOw/AAAAAAAA4D8AAAAAAADwPw==",
          "dtype": "f8"
         },
         "yaxis": "y9"
        },
        {
         "hovertemplate": "status=Bend 2<br>z_slice=0.9<br>x=%{x}<br>y=%{y}<extra></extra>",
         "legendgroup": "Bend 2",
         "marker": {
          "color": "#EF553B",
          "symbol": "circle"
         },
         "mode": "markers",
         "name": "Bend 2",
         "showlegend": false,
         "type": "scattergl",
         "x": {
          "bdata": "AAAAAAAA4D8zMzMzMzPjPzMzMzMzM+M/MzMzMzMz4z9mZmZmZmbmP2ZmZmZmZuY/mpmZmZmZ6T+amZmZmZnpP83MzMzMzOw/zczMzMzM7D/NzMzMzMzsPwAAAAAAAPA/AAAAAAAA8D8AAAAAAADwPwAAAAAAAPA/",
          "dtype": "f8"
         },
         "xaxis": "x10",
         "y": {
          "bdata": "AAAAAAAA8D+amZmZmZnpP83MzMzMzOw/AAAAAAAA8D/NzMzMzMzsPwAAAAAAAPA/MzMzMzMz4z/NzMzMzMzsPzMzMzMzM+M/ZmZmZmZm5j+amZmZmZnpPwAAAAAAAOA/MzMzMzMz4z9mZmZmZmbmPwAAAAAAAPA/",
          "dtype": "f8"
         },
         "yaxis": "y10"
        },
        {
         "hovertemplate": "status=Bend 2<br>z_slice=1.0<br>x=%{x}<br>y=%{y}<extra></extra>",
         "legendgroup": "Bend 2",
         "marker": {
          "color": "#EF553B",
          "symbol": "circle"
         },
         "mode": "markers",
         "name": "Bend 2",
         "showlegend": false,
         "type": "scattergl",
         "x": {
          "bdata": "AAAAAAAA4D8AAAAAAADgPzMzMzMzM+M/MzMzMzMz4z9mZmZmZmbmP2ZmZmZmZuY/mpmZmZmZ6T+amZmZmZnpP83MzMzMzOw/zczMzMzM7D/NzMzMzMzsP83MzMzMzOw/AAAAAAAA8D8AAAAAAADwPwAAAAAAAPA/AAAAAAAA8D8=",
          "dtype": "f8"
         },
         "xaxis": "x",
         "y": {
          "bdata": "mpmZmZmZ6T/NzMzMzMzsP83MzMzMzOw/AAAAAAAA8D/NzMzMzMzsPwAAAAAAAPA/AAAAAAAA4D8AAAAAAADwPwAAAAAAAOA/MzMzMzMz4z9mZmZmZmbmPwAAAAAAAPA/MzMzMzMz4z9mZmZmZmbmP5qZmZmZmek/zczMzMzM7D8=",
          "dtype": "f8"
         },
         "yaxis": "y"
        },
        {
         "hovertemplate": "status=Bend 1<br>z_slice=0.0<br>x=%{x}<br>y=%{y}<extra></extra>",
         "legendgroup": "Bend 1",
         "marker": {
          "color": "#00cc96",
          "symbol": "circle"
         },
         "mode": "markers",
         "name": "Bend 1",
         "showlegend": true,
         "type": "scattergl",
         "x": {
          "bdata": "AAAAAAAAAAAAAAAAAAAAAAAAAAAAAAAAAAAAAAAAAACamZmZmZm5P5qZmZmZmbk/mpmZmZmZuT+amZmZmZnJPzMzMzMzM+M/MzMzMzMz4z9mZmZmZmbmP2ZmZmZmZuY/ZmZmZmZm5j+amZmZmZnpP5qZmZmZmek/zczMzMzM7D8=",
          "dtype": "f8"
         },
         "xaxis": "x11",
         "y": {
          "bdata": "MzMzMzMz4z9mZmZmZmbmP5qZmZmZmek/zczMzMzM7D8zMzMzMzPjP2ZmZmZmZuY/mpmZmZmZ6T9mZmZmZmbmPwAAAAAAAAAAmpmZmZmZuT8AAAAAAAAAAJqZmZmZmbk/mpmZmZmZyT8AAAAAAAAAAJqZmZmZmbk/AAAAAAAAAAA=",
          "dtype": "f8"
         },
         "yaxis": "y11"
        },
        {
         "hovertemplate": "status=Bend 1<br>z_slice=0.1<br>x=%{x}<br>y=%{y}<extra></extra>",
         "legendgroup": "Bend 1",
         "marker": {
          "color": "#00cc96",
          "symbol": "circle"
         },
         "mode": "markers",
         "name": "Bend 1",
         "showlegend": false,
         "type": "scattergl",
         "x": {
          "bdata": "AAAAAAAAAAAAAAAAAAAAAAAAAAAAAAAAmpmZmZmZuT+amZmZmZm5P5qZmZmZmbk/mpmZmZmZyT8AAAAAAADgPzMzMzMzM+M/MzMzMzMz4z8zMzMzMzPjP2ZmZmZmZuY/ZmZmZmZm5j+amZmZmZnpPwAAAAAAAPA/",
          "dtype": "f8"
         },
         "xaxis": "x12",
         "y": {
          "bdata": "MzMzMzMz4z9mZmZmZmbmP5qZmZmZmek/AAAAAAAA4D8zMzMzMzPjP2ZmZmZmZuY/MzMzMzMz4z+amZmZmZm5PwAAAAAAAAAAmpmZmZmZuT+amZmZmZnJPwAAAAAAAAAAmpmZmZmZuT8AAAAAAAAAAAAAAAAAAPA/",
          "dtype": "f8"
         },
         "yaxis": "y12"
        },
        {
         "hovertemplate": "status=Bend 1<br>z_slice=0.2<br>x=%{x}<br>y=%{y}<extra></extra>",
         "legendgroup": "Bend 1",
         "marker": {
          "color": "#00cc96",
          "symbol": "circle"
         },
         "mode": "markers",
         "name": "Bend 1",
         "showlegend": false,
         "type": "scattergl",
         "x": {
          "bdata": "AAAAAAAAAACamZmZmZm5P5qZmZmZmck/AAAAAAAA4D8zMzMzMzPjP2ZmZmZmZuY/zczMzMzM7D8AAAAAAADwPwAAAAAAAPA/",
          "dtype": "f8"
         },
         "xaxis": "x13",
         "y": {
          "bdata": "ZmZmZmZm5j8zMzMzMzPjPwAAAAAAAOA/mpmZmZmZyT+amZmZmZm5PwAAAAAAAAAAAAAAAAAA8D/NzMzMzMzsPwAAAAAAAPA/",
          "dtype": "f8"
         },
         "yaxis": "y13"
        },
        {
         "hovertemplate": "status=Bend 1<br>z_slice=0.3<br>x=%{x}<br>y=%{y}<extra></extra>",
         "legendgroup": "Bend 1",
         "marker": {
          "color": "#00cc96",
          "symbol": "circle"
         },
         "mode": "markers",
         "name": "Bend 1",
         "showlegend": false,
         "type": "scattergl",
         "x": {
          "bdata": "mpmZmZmZ6T/NzMzMzMzsP83MzMzMzOw/AAAAAAAA8D8AAAAAAADwPwAAAAAAAPA/",
          "dtype": "f8"
         },
         "xaxis": "x14",
         "y": {
          "bdata": "AAAAAAAA8D/NzMzMzMzsPwAAAAAAAPA/mpmZmZmZ6T/NzMzMzMzsPwAAAAAAAPA/",
          "dtype": "f8"
         },
         "yaxis": "y14"
        },
        {
         "hovertemplate": "status=Bend 1<br>z_slice=0.4<br>x=%{x}<br>y=%{y}<extra></extra>",
         "legendgroup": "Bend 1",
         "marker": {
          "color": "#00cc96",
          "symbol": "circle"
         },
         "mode": "markers",
         "name": "Bend 1",
         "showlegend": false,
         "type": "scattergl",
         "x": {
          "bdata": "mpmZmZmZ6T/NzMzMzMzsP83MzMzMzOw/zczMzMzM7D8AAAAAAADwPwAAAAAAAPA/",
          "dtype": "f8"
         },
         "xaxis": "x15",
         "y": {
          "bdata": "zczMzMzM7D+amZmZmZnpP83MzMzMzOw/AAAAAAAA8D/NzMzMzMzsPwAAAAAAAPA/",
          "dtype": "f8"
         },
         "yaxis": "y15"
        },
        {
         "hovertemplate": "status=Bend 1<br>z_slice=0.5<br>x=%{x}<br>y=%{y}<extra></extra>",
         "legendgroup": "Bend 1",
         "marker": {
          "color": "#00cc96",
          "symbol": "circle"
         },
         "mode": "markers",
         "name": "Bend 1",
         "showlegend": false,
         "type": "scattergl",
         "x": {
          "bdata": "mpmZmZmZuT+amZmZmZnJP5qZmZmZmek/zczMzMzM7D8=",
          "dtype": "f8"
         },
         "xaxis": "x6",
         "y": {
          "bdata": "mpmZmZmZuT+amZmZmZnJP5qZmZmZmek/zczMzMzM7D8=",
          "dtype": "f8"
         },
         "yaxis": "y6"
        },
        {
         "hovertemplate": "status=Bend 1<br>z_slice=0.6<br>x=%{x}<br>y=%{y}<extra></extra>",
         "legendgroup": "Bend 1",
         "marker": {
          "color": "#00cc96",
          "symbol": "circle"
         },
         "mode": "markers",
         "name": "Bend 1",
         "showlegend": false,
         "type": "scattergl",
         "x": {
          "bdata": "AAAAAAAAAAAAAAAAAAAAAJqZmZmZmbk/mpmZmZmZuT+amZmZmZm5P5qZmZmZmck/",
          "dtype": "f8"
         },
         "xaxis": "x7",
         "y": {
          "bdata": "AAAAAAAAAACamZmZmZm5PwAAAAAAAAAAmpmZmZmZuT+amZmZmZnJP5qZmZmZmbk/",
          "dtype": "f8"
         },
         "yaxis": "y7"
        },
        {
         "hovertemplate": "status=Bend 1<br>z_slice=0.7<br>x=%{x}<br>y=%{y}<extra></extra>",
         "legendgroup": "Bend 1",
         "marker": {
          "color": "#00cc96",
          "symbol": "circle"
         },
         "mode": "markers",
         "name": "Bend 1",
         "showlegend": false,
         "type": "scattergl",
         "x": {
          "bdata": "AAAAAAAAAAAAAAAAAAAAAAAAAAAAAAAAmpmZmZmZuT+amZmZmZm5P5qZmZmZmck/",
          "dtype": "f8"
         },
         "xaxis": "x8",
         "y": {
          "bdata": "AAAAAAAAAACamZmZmZm5P5qZmZmZmck/AAAAAAAAAACamZmZmZm5PwAAAAAAAAAA",
          "dtype": "f8"
         },
         "yaxis": "y8"
        },
        {
         "hovertemplate": "status=Bend 1<br>z_slice=0.8<br>x=%{x}<br>y=%{y}<extra></extra>",
         "legendgroup": "Bend 1",
         "marker": {
          "color": "#00cc96",
          "symbol": "circle"
         },
         "mode": "markers",
         "name": "Bend 1",
         "showlegend": false,
         "type": "scattergl",
         "x": {
          "bdata": "AAAAAAAAAAAAAAAAAAAAAJqZmZmZmbk/MzMzMzMz0z+amZmZmZnZPwAAAAAAAOA/mpmZmZmZ6T/NzMzMzMzsPwAAAAAAAPA/",
          "dtype": "f8"
         },
         "xaxis": "x9",
         "y": {
          "bdata": "AAAAAAAAAACamZmZmZm5PwAAAAAAAAAAAAAAAAAA8D/NzMzMzMzsP5qZmZmZmek/AAAAAAAA4D+amZmZmZnZPzMzMzMzM9M/",
          "dtype": "f8"
         },
         "yaxis": "y9"
        },
        {
         "hovertemplate": "status=Bend 1<br>z_slice=0.9<br>x=%{x}<br>y=%{y}<extra></extra>",
         "legendgroup": "Bend 1",
         "marker": {
          "color": "#00cc96",
          "symbol": "circle"
         },
         "mode": "markers",
         "name": "Bend 1",
         "showlegend": false,
         "type": "scattergl",
         "x": {
          "bdata": "AAAAAAAAAACamZmZmZnJPzMzMzMzM9M/MzMzMzMz0z+amZmZmZnZP5qZmZmZmdk/mpmZmZmZ2T8AAAAAAADgP5qZmZmZmek/zczMzMzM7D/NzMzMzMzsP83MzMzMzOw/AAAAAAAA8D8AAAAAAADwPwAAAAAAAPA/",
          "dtype": "f8"
         },
         "xaxis": "x10",
         "y": {
          "bdata": "AAAAAAAAAAAAAAAAAADwP83MzMzMzOw/AAAAAAAA8D+amZmZmZnpP83MzMzMzOw/AAAAAAAA8D/NzMzMzMzsP5qZmZmZmdk/MzMzMzMz0z+amZmZmZnZPwAAAAAAAOA/mpmZmZmZyT8zMzMzMzPTP5qZmZmZmdk/",
          "dtype": "f8"
         },
         "yaxis": "y10"
        },
        {
         "hovertemplate": "status=Bend 1<br>z_slice=1.0<br>x=%{x}<br>y=%{y}<extra></extra>",
         "legendgroup": "Bend 1",
         "marker": {
          "color": "#00cc96",
          "symbol": "circle"
         },
         "mode": "markers",
         "name": "Bend 1",
         "showlegend": false,
         "type": "scattergl",
         "x": {
          "bdata": "mpmZmZmZuT+amZmZmZnJP5qZmZmZmck/MzMzMzMz0z8zMzMzMzPTPzMzMzMzM9M/mpmZmZmZ2T+amZmZmZnZP5qZmZmZmek/zczMzMzM7D/NzMzMzMzsP83MzMzMzOw/AAAAAAAA8D8AAAAAAADwPwAAAAAAAPA/AAAAAAAA8D8=",
          "dtype": "f8"
         },
         "xaxis": "x",
         "y": {
          "bdata": "AAAAAAAA8D/NzMzMzMzsPwAAAAAAAPA/mpmZmZmZ6T/NzMzMzMzsPwAAAAAAAPA/zczMzMzM7D8AAAAAAADwPzMzMzMzM9M/mpmZmZmZyT8zMzMzMzPTP5qZmZmZmdk/mpmZmZmZuT+amZmZmZnJPzMzMzMzM9M/mpmZmZmZ2T8=",
          "dtype": "f8"
         },
         "yaxis": "y"
        },
        {
         "hovertemplate": "status=Standard Tradeoff<br>z_slice=0.0<br>x=%{x}<br>y=%{y}<extra></extra>",
         "legendgroup": "Standard Tradeoff",
         "marker": {
          "color": "#ab63fa",
          "symbol": "circle"
         },
         "mode": "markers",
         "name": "Standard Tradeoff",
         "showlegend": true,
         "type": "scattergl",
         "x": {
          "bdata": "AAAAAAAAAACamZmZmZm5P5qZmZmZmbk/mpmZmZmZyT+amZmZmZnJP5qZmZmZmck/MzMzMzMz0z8zMzMzMzPTPzMzMzMzM9M/MzMzMzMz0z9mZmZmZmbmP2ZmZmZmZuY/ZmZmZmZm5j9mZmZmZmbmP2ZmZmZmZuY/mpmZmZmZ6T+amZmZmZnpP5qZmZmZmek/mpmZmZmZ6T+amZmZmZnpP5qZmZmZmek/zczMzMzM7D/NzMzMzMzsP83MzMzMzOw/zczMzMzM7D/NzMzMzMzsP83MzMzMzOw/zczMzMzM7D8AAAAAAADwPwAAAAAAAPA/AAAAAAAA8D8AAAAAAADwPwAAAAAAAPA/AAAAAAAA8D8AAAAAAADwPwAAAAAAAPA/",
          "dtype": "f8"
         },
         "xaxis": "x11",
         "y": {
          "bdata": "AAAAAAAA8D/NzMzMzMzsPwAAAAAAAPA/mpmZmZmZ6T/NzMzMzMzsPwAAAAAAAPA/ZmZmZmZm5j+amZmZmZnpP83MzMzMzOw/AAAAAAAA8D8zMzMzMzPTP2ZmZmZmZuY/mpmZmZmZ6T/NzMzMzMzsPwAAAAAAAPA/mpmZmZmZyT8zMzMzMzPTP2ZmZmZmZuY/mpmZmZmZ6T/NzMzMzMzsPwAAAAAAAPA/mpmZmZmZuT+amZmZmZnJPzMzMzMzM9M/ZmZmZmZm5j+amZmZmZnpP83MzMzMzOw/AAAAAAAA8D8AAAAAAAAAAJqZmZmZmbk/mpmZmZmZyT8zMzMzMzPTP2ZmZmZmZuY/mpmZmZmZ6T/NzMzMzMzsPwAAAAAAAPA/",
          "dtype": "f8"
         },
         "yaxis": "y11"
        },
        {
         "hovertemplate": "status=Standard Tradeoff<br>z_slice=0.1<br>x=%{x}<br>y=%{y}<extra></extra>",
         "legendgroup": "Standard Tradeoff",
         "marker": {
          "color": "#ab63fa",
          "symbol": "circle"
         },
         "mode": "markers",
         "name": "Standard Tradeoff",
         "showlegend": false,
         "type": "scattergl",
         "x": {
          "bdata": "AAAAAAAAAAAAAAAAAAAAAJqZmZmZmbk/mpmZmZmZuT+amZmZmZm5P5qZmZmZmck/mpmZmZmZyT+amZmZmZnJP5qZmZmZmck/MzMzMzMz0z8zMzMzMzPTPzMzMzMzM9M/MzMzMzMz0z8zMzMzMzPTPzMzMzMzM+M/ZmZmZmZm5j9mZmZmZmbmP2ZmZmZmZuY/ZmZmZmZm5j9mZmZmZmbmP2ZmZmZmZuY/mpmZmZmZ6T+amZmZmZnpP5qZmZmZmek/mpmZmZmZ6T+amZmZmZnpP5qZmZmZmek/mpmZmZmZ6T/NzMzMzMzsP83MzMzMzOw/zczMzMzM7D/NzMzMzMzsP83MzMzMzOw/zczMzMzM7D/NzMzMzMzsP83MzMzMzOw/AAAAAAAA8D8AAAAAAADwPwAAAAAAAPA/AAAAAAAA8D8AAAAAAADwPwAAAAAAAPA/AAAAAAAA8D8=",
          "dtype": "f8"
         },
         "xaxis": "x12",
         "y": {
          "bdata": "zczMzMzM7D8AAAAAAADwP5qZmZmZmek/zczMzMzM7D8AAAAAAADwP2ZmZmZmZuY/mpmZmZmZ6T/NzMzMzMzsPwAAAAAAAPA/MzMzMzMz4z9mZmZmZmbmP5qZmZmZmek/zczMzMzM7D8AAAAAAADwPzMzMzMzM9M/mpmZmZmZyT8zMzMzMzPTP2ZmZmZmZuY/mpmZmZmZ6T/NzMzMzMzsPwAAAAAAAPA/mpmZmZmZuT+amZmZmZnJPzMzMzMzM9M/ZmZmZmZm5j+amZmZmZnpP83MzMzMzOw/AAAAAAAA8D8AAAAAAAAAAJqZmZmZmbk/mpmZmZmZyT8zMzMzMzPTP2ZmZmZmZuY/mpmZmZmZ6T/NzMzMzMzsPwAAAAAAAPA/AAAAAAAAAACamZmZmZm5P5qZmZmZmck/MzMzMzMz0z9mZmZmZmbmP5qZmZmZmek/zczMzMzM7D8=",
          "dtype": "f8"
         },
         "yaxis": "y12"
        },
        {
         "hovertemplate": "status=Standard Tradeoff<br>z_slice=0.2<br>x=%{x}<br>y=%{y}<extra></extra>",
         "legendgroup": "Standard Tradeoff",
         "marker": {
          "color": "#ab63fa",
          "symbol": "circle"
         },
         "mode": "markers",
         "name": "Standard Tradeoff",
         "showlegend": false,
         "type": "scattergl",
         "x": {
          "bdata": "AAAAAAAAAAAAAAAAAAAAAAAAAAAAAAAAmpmZmZmZuT+amZmZmZm5P5qZmZmZmbk/mpmZmZmZuT+amZmZmZnJP5qZmZmZmck/mpmZmZmZyT+amZmZmZnJP5qZmZmZmck/MzMzMzMz0z8zMzMzMzPTPzMzMzMzM9M/MzMzMzMz0z8zMzMzMzPTPzMzMzMzM9M/AAAAAAAA4D8zMzMzMzPjPzMzMzMzM+M/ZmZmZmZm5j9mZmZmZmbmP2ZmZmZmZuY/ZmZmZmZm5j9mZmZmZmbmP2ZmZmZmZuY/ZmZmZmZm5j+amZmZmZnpP5qZmZmZmek/mpmZmZmZ6T+amZmZmZnpP5qZmZmZmek/mpmZmZmZ6T+amZmZmZnpP5qZmZmZmek/zczMzMzM7D/NzMzMzMzsP83MzMzMzOw/zczMzMzM7D/NzMzMzMzsP83MzMzMzOw/zczMzMzM7D8AAAAAAADwPwAAAAAAAPA/AAAAAAAA8D8AAAAAAADwPwAAAAAAAPA/AAAAAAAA8D8=",
          "dtype": "f8"
         },
         "xaxis": "x13",
         "y": {
          "bdata": "mpmZmZmZ6T/NzMzMzMzsPwAAAAAAAPA/ZmZmZmZm5j+amZmZmZnpP83MzMzMzOw/AAAAAAAA8D8zMzMzMzPjP2ZmZmZmZuY/mpmZmZmZ6T/NzMzMzMzsPwAAAAAAAPA/AAAAAAAA4D8zMzMzMzPjP2ZmZmZmZuY/mpmZmZmZ6T/NzMzMzMzsPwAAAAAAAPA/MzMzMzMz0z+amZmZmZnJPzMzMzMzM9M/mpmZmZmZuT+amZmZmZnJPzMzMzMzM9M/ZmZmZmZm5j+amZmZmZnpP83MzMzMzOw/AAAAAAAA8D8AAAAAAAAAAJqZmZmZmbk/mpmZmZmZyT8zMzMzMzPTP2ZmZmZmZuY/mpmZmZmZ6T/NzMzMzMzsPwAAAAAAAPA/AAAAAAAAAACamZmZmZm5P5qZmZmZmck/MzMzMzMz0z9mZmZmZmbmP5qZmZmZmek/zczMzMzM7D8AAAAAAAAAAJqZmZmZmbk/mpmZmZmZyT8zMzMzMzPTP2ZmZmZmZuY/mpmZmZmZ6T8=",
          "dtype": "f8"
         },
         "yaxis": "y13"
        },
        {
         "hovertemplate": "status=Standard Tradeoff<br>z_slice=0.3<br>x=%{x}<br>y=%{y}<extra></extra>",
         "legendgroup": "Standard Tradeoff",
         "marker": {
          "color": "#ab63fa",
          "symbol": "circle"
         },
         "mode": "markers",
         "name": "Standard Tradeoff",
         "showlegend": false,
         "type": "scattergl",
         "x": {
          "bdata": "AAAAAAAAAAAAAAAAAAAAAAAAAAAAAAAAAAAAAAAAAACamZmZmZm5P5qZmZmZmbk/mpmZmZmZuT+amZmZmZm5P5qZmZmZmbk/mpmZmZmZyT+amZmZmZnJP5qZmZmZmck/mpmZmZmZyT+amZmZmZnJP5qZmZmZmck/MzMzMzMz0z8zMzMzMzPTPzMzMzMzM9M/MzMzMzMz0z8zMzMzMzPTPzMzMzMzM9M/MzMzMzMz0z+amZmZmZnZPwAAAAAAAOA/AAAAAAAA4D8zMzMzMzPjPzMzMzMzM+M/MzMzMzMz4z9mZmZmZmbmP2ZmZmZmZuY/ZmZmZmZm5j9mZmZmZmbmP2ZmZmZmZuY/ZmZmZmZm5j9mZmZmZmbmP2ZmZmZmZuY/mpmZmZmZ6T+amZmZmZnpP5qZmZmZmek/mpmZmZmZ6T+amZmZmZnpP5qZmZmZmek/mpmZmZmZ6T/NzMzMzMzsP83MzMzMzOw/zczMzMzM7D/NzMzMzMzsP83MzMzMzOw/zczMzMzM7D8AAAAAAADwPwAAAAAAAPA/AAAAAAAA8D8AAAAAAADwPwAAAAAAAPA/",
          "dtype": "f8"
         },
         "xaxis": "x14",
         "y": {
          "bdata": "ZmZmZmZm5j+amZmZmZnpP83MzMzMzOw/AAAAAAAA8D8zMzMzMzPjP2ZmZmZmZuY/mpmZmZmZ6T/NzMzMzMzsPwAAAAAAAPA/AAAAAAAA4D8zMzMzMzPjP2ZmZmZmZuY/mpmZmZmZ6T/NzMzMzMzsPwAAAAAAAPA/mpmZmZmZ2T8AAAAAAADgPzMzMzMzM+M/ZmZmZmZm5j+amZmZmZnpP83MzMzMzOw/AAAAAAAA8D8zMzMzMzPTP5qZmZmZmck/MzMzMzMz0z+amZmZmZm5P5qZmZmZmck/MzMzMzMz0z8AAAAAAAAAAJqZmZmZmbk/mpmZmZmZyT8zMzMzMzPTP2ZmZmZmZuY/mpmZmZmZ6T/NzMzMzMzsPwAAAAAAAPA/AAAAAAAAAACamZmZmZm5P5qZmZmZmck/MzMzMzMz0z9mZmZmZmbmP5qZmZmZmek/zczMzMzM7D8AAAAAAAAAAJqZmZmZmbk/mpmZmZmZyT8zMzMzMzPTP2ZmZmZmZuY/mpmZmZmZ6T8AAAAAAAAAAJqZmZmZmbk/mpmZmZmZyT8zMzMzMzPTP2ZmZmZmZuY/",
          "dtype": "f8"
         },
         "yaxis": "y14"
        },
        {
         "hovertemplate": "status=Standard Tradeoff<br>z_slice=0.4<br>x=%{x}<br>y=%{y}<extra></extra>",
         "legendgroup": "Standard Tradeoff",
         "marker": {
          "color": "#ab63fa",
          "symbol": "circle"
         },
         "mode": "markers",
         "name": "Standard Tradeoff",
         "showlegend": false,
         "type": "scattergl",
         "x": {
          "bdata": "MzMzMzMz0z9mZmZmZmbmP2ZmZmZmZuY/ZmZmZmZm5j+amZmZmZnpP5qZmZmZmek/zczMzMzM7D8=",
          "dtype": "f8"
         },
         "xaxis": "x15",
         "y": {
          "bdata": "MzMzMzMz0z9mZmZmZmbmP5qZmZmZmek/zczMzMzM7D9mZmZmZmbmP5qZmZmZmek/ZmZmZmZm5j8=",
          "dtype": "f8"
         },
         "yaxis": "y15"
        },
        {
         "hovertemplate": "status=Standard Tradeoff<br>z_slice=0.5<br>x=%{x}<br>y=%{y}<extra></extra>",
         "legendgroup": "Standard Tradeoff",
         "marker": {
          "color": "#ab63fa",
          "symbol": "circle"
         },
         "mode": "markers",
         "name": "Standard Tradeoff",
         "showlegend": false,
         "type": "scattergl",
         "x": {
          "bdata": "mpmZmZmZyT8zMzMzMzPTPzMzMzMzM9M/ZmZmZmZm5j9mZmZmZmbmP5qZmZmZmek/",
          "dtype": "f8"
         },
         "xaxis": "x6",
         "y": {
          "bdata": "MzMzMzMz0z+amZmZmZnJPzMzMzMzM9M/ZmZmZmZm5j+amZmZmZnpP2ZmZmZmZuY/",
          "dtype": "f8"
         },
         "yaxis": "y6"
        },
        {
         "hovertemplate": "status=Standard Tradeoff<br>z_slice=0.6<br>x=%{x}<br>y=%{y}<extra></extra>",
         "legendgroup": "Standard Tradeoff",
         "marker": {
          "color": "#ab63fa",
          "symbol": "circle"
         },
         "mode": "markers",
         "name": "Standard Tradeoff",
         "showlegend": false,
         "type": "scattergl",
         "x": {
          "bdata": "mpmZmZmZuT+amZmZmZnJP5qZmZmZmck/MzMzMzMz0z8zMzMzMzPTPzMzMzMzM9M/ZmZmZmZm5j8=",
          "dtype": "f8"
         },
         "xaxis": "x7",
         "y": {
          "bdata": "MzMzMzMz0z+amZmZmZnJPzMzMzMzM9M/mpmZmZmZuT+amZmZmZnJPzMzMzMzM9M/ZmZmZmZm5j8=",
          "dtype": "f8"
         },
         "yaxis": "y7"
        },
        {
         "hovertemplate": "status=Standard Tradeoff<br>z_slice=0.7<br>x=%{x}<br>y=%{y}<extra></extra>",
         "legendgroup": "Standard Tradeoff",
         "marker": {
          "color": "#ab63fa",
          "symbol": "circle"
         },
         "mode": "markers",
         "name": "Standard Tradeoff",
         "showlegend": false,
         "type": "scattergl",
         "x": {
          "bdata": "AAAAAAAAAAAAAAAAAAAAAAAAAAAAAAAAAAAAAAAAAAAAAAAAAAAAAJqZmZmZmbk/mpmZmZmZuT+amZmZmZm5P5qZmZmZmbk/mpmZmZmZuT+amZmZmZm5P5qZmZmZmck/mpmZmZmZyT+amZmZmZnJP5qZmZmZmck/mpmZmZmZyT+amZmZmZnJP5qZmZmZmck/MzMzMzMz0z8zMzMzMzPTPzMzMzMzM9M/MzMzMzMz0z8zMzMzMzPTPzMzMzMzM9M/MzMzMzMz0z8zMzMzMzPTP5qZmZmZmdk/mpmZmZmZ2T+amZmZmZnZPwAAAAAAAOA/AAAAAAAA4D8zMzMzMzPjP2ZmZmZmZuY/ZmZmZmZm5j9mZmZmZmbmP2ZmZmZmZuY/ZmZmZmZm5j9mZmZmZmbmP2ZmZmZmZuY/mpmZmZmZ6T+amZmZmZnpP5qZmZmZmek/mpmZmZmZ6T+amZmZmZnpP5qZmZmZmek/zczMzMzM7D/NzMzMzMzsP83MzMzMzOw/zczMzMzM7D/NzMzMzMzsPwAAAAAAAPA/AAAAAAAA8D8AAAAAAADwPwAAAAAAAPA/",
          "dtype": "f8"
         },
         "xaxis": "x8",
         "y": {
          "bdata": "MzMzMzMz0z9mZmZmZmbmP5qZmZmZmek/zczMzMzM7D8AAAAAAADwP5qZmZmZmck/MzMzMzMz0z9mZmZmZmbmP5qZmZmZmek/zczMzMzM7D8AAAAAAADwP5qZmZmZmbk/mpmZmZmZyT8zMzMzMzPTP2ZmZmZmZuY/mpmZmZmZ6T/NzMzMzMzsPwAAAAAAAPA/AAAAAAAAAACamZmZmZm5P5qZmZmZmck/MzMzMzMz0z9mZmZmZmbmP5qZmZmZmek/zczMzMzM7D8AAAAAAADwP2ZmZmZmZuY/mpmZmZmZ6T/NzMzMzMzsP2ZmZmZmZuY/mpmZmZmZ6T9mZmZmZmbmPwAAAAAAAAAAmpmZmZmZuT+amZmZmZnJPzMzMzMzM9M/mpmZmZmZ2T8AAAAAAADgPzMzMzMzM+M/AAAAAAAAAACamZmZmZm5P5qZmZmZmck/MzMzMzMz0z+amZmZmZnZPwAAAAAAAOA/AAAAAAAAAACamZmZmZm5P5qZmZmZmck/MzMzMzMz0z+amZmZmZnZPwAAAAAAAAAAmpmZmZmZuT+amZmZmZnJPzMzMzMzM9M/",
          "dtype": "f8"
         },
         "yaxis": "y8"
        },
        {
         "hovertemplate": "status=Standard Tradeoff<br>z_slice=0.8<br>x=%{x}<br>y=%{y}<extra></extra>",
         "legendgroup": "Standard Tradeoff",
         "marker": {
          "color": "#ab63fa",
          "symbol": "circle"
         },
         "mode": "markers",
         "name": "Standard Tradeoff",
         "showlegend": false,
         "type": "scattergl",
         "x": {
          "bdata": "AAAAAAAAAAAAAAAAAAAAAAAAAAAAAAAAAAAAAAAAAAAAAAAAAAAAAAAAAAAAAAAAmpmZmZmZuT+amZmZmZm5P5qZmZmZmbk/mpmZmZmZuT+amZmZmZm5P5qZmZmZmbk/mpmZmZmZuT+amZmZmZnJP5qZmZmZmck/mpmZmZmZyT+amZmZmZnJP5qZmZmZmck/mpmZmZmZyT+amZmZmZnJP5qZmZmZmck/MzMzMzMz0z8zMzMzMzPTPzMzMzMzM9M/MzMzMzMz0z8zMzMzMzPTPzMzMzMzM9M/MzMzMzMz0z+amZmZmZnZP5qZmZmZmdk/AAAAAAAA4D9mZmZmZmbmP2ZmZmZmZuY/ZmZmZmZm5j9mZmZmZmbmP2ZmZmZmZuY/ZmZmZmZm5j+amZmZmZnpP5qZmZmZmek/mpmZmZmZ6T+amZmZmZnpP5qZmZmZmek/zczMzMzM7D/NzMzMzMzsP83MzMzMzOw/zczMzMzM7D8AAAAAAADwPwAAAAAAAPA/AAAAAAAA8D8=",
          "dtype": "f8"
         },
         "xaxis": "x9",
         "y": {
          "bdata": "mpmZmZmZyT8zMzMzMzPTP2ZmZmZmZuY/mpmZmZmZ6T/NzMzMzMzsPwAAAAAAAPA/mpmZmZmZuT+amZmZmZnJPzMzMzMzM9M/ZmZmZmZm5j+amZmZmZnpP83MzMzMzOw/AAAAAAAA8D8AAAAAAAAAAJqZmZmZmbk/mpmZmZmZyT8zMzMzMzPTP2ZmZmZmZuY/mpmZmZmZ6T/NzMzMzMzsPwAAAAAAAPA/AAAAAAAAAACamZmZmZm5P5qZmZmZmck/MzMzMzMz0z9mZmZmZmbmP5qZmZmZmek/zczMzMzM7D9mZmZmZmbmP5qZmZmZmek/ZmZmZmZm5j8AAAAAAAAAAJqZmZmZmbk/mpmZmZmZyT8zMzMzMzPTP5qZmZmZmdk/AAAAAAAA4D8AAAAAAAAAAJqZmZmZmbk/mpmZmZmZyT8zMzMzMzPTP5qZmZmZmdk/AAAAAAAAAACamZmZmZm5P5qZmZmZmck/MzMzMzMz0z8AAAAAAAAAAJqZmZmZmbk/mpmZmZmZyT8=",
          "dtype": "f8"
         },
         "yaxis": "y9"
        },
        {
         "hovertemplate": "status=Standard Tradeoff<br>z_slice=0.9<br>x=%{x}<br>y=%{y}<extra></extra>",
         "legendgroup": "Standard Tradeoff",
         "marker": {
          "color": "#ab63fa",
          "symbol": "circle"
         },
         "mode": "markers",
         "name": "Standard Tradeoff",
         "showlegend": false,
         "type": "scattergl",
         "x": {
          "bdata": "AAAAAAAAAAAAAAAAAAAAAAAAAAAAAAAAAAAAAAAAAAAAAAAAAAAAAAAAAAAAAAAAAAAAAAAAAACamZmZmZm5P5qZmZmZmbk/mpmZmZmZuT+amZmZmZm5P5qZmZmZmbk/mpmZmZmZuT+amZmZmZm5P5qZmZmZmbk/mpmZmZmZyT+amZmZmZnJP5qZmZmZmck/mpmZmZmZyT+amZmZmZnJP5qZmZmZmck/mpmZmZmZyT8zMzMzMzPTPzMzMzMzM9M/MzMzMzMz0z8zMzMzMzPTPzMzMzMzM9M/MzMzMzMz0z+amZmZmZnZP2ZmZmZmZuY/ZmZmZmZm5j9mZmZmZmbmP2ZmZmZmZuY/ZmZmZmZm5j+amZmZmZnpP5qZmZmZmek/mpmZmZmZ6T+amZmZmZnpP83MzMzMzOw/zczMzMzM7D/NzMzMzMzsPwAAAAAAAPA/AAAAAAAA8D8=",
          "dtype": "f8"
         },
         "xaxis": "x10",
         "y": {
          "bdata": "mpmZmZmZuT+amZmZmZnJPzMzMzMzM9M/ZmZmZmZm5j+amZmZmZnpP83MzMzMzOw/AAAAAAAA8D8AAAAAAAAAAJqZmZmZmbk/mpmZmZmZyT8zMzMzMzPTP2ZmZmZmZuY/mpmZmZmZ6T/NzMzMzMzsPwAAAAAAAPA/AAAAAAAAAACamZmZmZm5P5qZmZmZmck/MzMzMzMz0z9mZmZmZmbmP5qZmZmZmek/zczMzMzM7D8AAAAAAAAAAJqZmZmZmbk/mpmZmZmZyT8zMzMzMzPTP2ZmZmZmZuY/mpmZmZmZ6T9mZmZmZmbmPwAAAAAAAAAAmpmZmZmZuT+amZmZmZnJPzMzMzMzM9M/mpmZmZmZ2T8AAAAAAAAAAJqZmZmZmbk/mpmZmZmZyT8zMzMzMzPTPwAAAAAAAAAAmpmZmZmZuT+amZmZmZnJPwAAAAAAAAAAmpmZmZmZuT8=",
          "dtype": "f8"
         },
         "yaxis": "y10"
        },
        {
         "hovertemplate": "status=Standard Tradeoff<br>z_slice=1.0<br>x=%{x}<br>y=%{y}<extra></extra>",
         "legendgroup": "Standard Tradeoff",
         "marker": {
          "color": "#ab63fa",
          "symbol": "circle"
         },
         "mode": "markers",
         "name": "Standard Tradeoff",
         "showlegend": false,
         "type": "scattergl",
         "x": {
          "bdata": "AAAAAAAAAAAAAAAAAAAAAAAAAAAAAAAAAAAAAAAAAAAAAAAAAAAAAAAAAAAAAAAAAAAAAAAAAAAAAAAAAAAAAJqZmZmZmbk/mpmZmZmZuT+amZmZmZm5P5qZmZmZmbk/mpmZmZmZuT+amZmZmZm5P5qZmZmZmbk/mpmZmZmZyT+amZmZmZnJP5qZmZmZmck/mpmZmZmZyT+amZmZmZnJP5qZmZmZmck/MzMzMzMz0z8zMzMzMzPTPzMzMzMzM9M/MzMzMzMz0z8zMzMzMzPTP2ZmZmZmZuY/ZmZmZmZm5j9mZmZmZmbmP2ZmZmZmZuY/mpmZmZmZ6T+amZmZmZnpP5qZmZmZmek/zczMzMzM7D/NzMzMzMzsPwAAAAAAAPA/",
          "dtype": "f8"
         },
         "xaxis": "x",
         "y": {
          "bdata": "AAAAAAAAAACamZmZmZm5P5qZmZmZmck/MzMzMzMz0z9mZmZmZmbmP5qZmZmZmek/zczMzMzM7D8AAAAAAADwPwAAAAAAAAAAmpmZmZmZuT+amZmZmZnJPzMzMzMzM9M/ZmZmZmZm5j+amZmZmZnpP83MzMzMzOw/AAAAAAAAAACamZmZmZm5P5qZmZmZmck/MzMzMzMz0z9mZmZmZmbmP5qZmZmZmek/AAAAAAAAAACamZmZmZm5P5qZmZmZmck/MzMzMzMz0z9mZmZmZmbmPwAAAAAAAAAAmpmZmZmZuT+amZmZmZnJPzMzMzMzM9M/AAAAAAAAAACamZmZmZm5P5qZmZmZmck/AAAAAAAAAACamZmZmZm5PwAAAAAAAAAA",
          "dtype": "f8"
         },
         "yaxis": "y"
        },
        {
         "hovertemplate": "status=No Tradeoff<br>z_slice=0.0<br>x=%{x}<br>y=%{y}<extra></extra>",
         "legendgroup": "No Tradeoff",
         "marker": {
          "color": "#FFA15A",
          "symbol": "circle"
         },
         "mode": "markers",
         "name": "No Tradeoff",
         "showlegend": true,
         "type": "scattergl",
         "x": {
          "bdata": "mpmZmZmZuT+amZmZmZnJP5qZmZmZmck/mpmZmZmZyT8zMzMzMzPTPzMzMzMzM9M/MzMzMzMz0z8zMzMzMzPTP5qZmZmZmdk/mpmZmZmZ2T8AAAAAAADgPzMzMzMzM+M/",
          "dtype": "f8"
         },
         "xaxis": "x11",
         "y": {
          "bdata": "mpmZmZmZyT+amZmZmZm5PzMzMzMzM9M/mpmZmZmZ2T+amZmZmZnJP5qZmZmZmdk/AAAAAAAA4D8zMzMzMzPjP5qZmZmZmck/MzMzMzMz0z8zMzMzMzPTPzMzMzMzM9M/",
          "dtype": "f8"
         },
         "yaxis": "y11"
        },
        {
         "hovertemplate": "status=No Tradeoff<br>z_slice=0.1<br>x=%{x}<br>y=%{y}<extra></extra>",
         "legendgroup": "No Tradeoff",
         "marker": {
          "color": "#FFA15A",
          "symbol": "circle"
         },
         "mode": "markers",
         "name": "No Tradeoff",
         "showlegend": false,
         "type": "scattergl",
         "x": {
          "bdata": "AAAAAAAAAACamZmZmZnJP5qZmZmZmck/MzMzMzMz0z8zMzMzMzPTPzMzMzMzM9M/mpmZmZmZ2T8AAAAAAADgPw==",
          "dtype": "f8"
         },
         "xaxis": "x12",
         "y": {
          "bdata": "mpmZmZmZyT8AAAAAAAAAADMzMzMzM9M/mpmZmZmZyT+amZmZmZnZPwAAAAAAAOA/MzMzMzMz0z8zMzMzMzPTPw==",
          "dtype": "f8"
         },
         "yaxis": "y12"
        },
        {
         "hovertemplate": "status=No Tradeoff<br>z_slice=0.2<br>x=%{x}<br>y=%{y}<extra></extra>",
         "legendgroup": "No Tradeoff",
         "marker": {
          "color": "#FFA15A",
          "symbol": "circle"
         },
         "mode": "markers",
         "name": "No Tradeoff",
         "showlegend": false,
         "type": "scattergl",
         "x": {
          "bdata": "AAAAAAAAAAAAAAAAAAAAAAAAAAAAAAAAmpmZmZmZuT+amZmZmZm5PzMzMzMzM9M/MzMzMzMz0z8zMzMzMzPTP5qZmZmZmdk/mpmZmZmZ2T8=",
          "dtype": "f8"
         },
         "xaxis": "x13",
         "y": {
          "bdata": "mpmZmZmZuT8zMzMzMzPTP5qZmZmZmdk/AAAAAAAAAAAzMzMzMzPTPwAAAAAAAAAAmpmZmZmZuT+amZmZmZnZPwAAAAAAAAAAMzMzMzMz0z8=",
          "dtype": "f8"
         },
         "yaxis": "y13"
        },
        {
         "hovertemplate": "status=No Tradeoff<br>z_slice=0.3<br>x=%{x}<br>y=%{y}<extra></extra>",
         "legendgroup": "No Tradeoff",
         "marker": {
          "color": "#FFA15A",
          "symbol": "circle"
         },
         "mode": "markers",
         "name": "No Tradeoff",
         "showlegend": false,
         "type": "scattergl",
         "x": {
          "bdata": "AAAAAAAAAAAAAAAAAAAAAAAAAAAAAAAAAAAAAAAAAACamZmZmZm5P5qZmZmZmbk/mpmZmZmZuT+amZmZmZnJP5qZmZmZmck/mpmZmZmZyT+amZmZmZnZP5qZmZmZmdk/mpmZmZmZ2T8AAAAAAADgPwAAAAAAAOA/MzMzMzMz4z8=",
          "dtype": "f8"
         },
         "xaxis": "x14",
         "y": {
          "bdata": "mpmZmZmZyT+amZmZmZnZPwAAAAAAAOA/MzMzMzMz4z+amZmZmZnJP5qZmZmZmdk/AAAAAAAA4D8AAAAAAAAAAJqZmZmZmbk/mpmZmZmZ2T8AAAAAAAAAAJqZmZmZmbk/mpmZmZmZyT8AAAAAAAAAAJqZmZmZmbk/AAAAAAAAAAA=",
          "dtype": "f8"
         },
         "yaxis": "y14"
        },
        {
         "hovertemplate": "status=No Tradeoff<br>z_slice=0.4<br>x=%{x}<br>y=%{y}<extra></extra>",
         "legendgroup": "No Tradeoff",
         "marker": {
          "color": "#FFA15A",
          "symbol": "circle"
         },
         "mode": "markers",
         "name": "No Tradeoff",
         "showlegend": false,
         "type": "scattergl",
         "x": {
          "bdata": "AAAAAAAAAAAAAAAAAAAAAJqZmZmZmbk/mpmZmZmZyT+amZmZmZnJPzMzMzMzM9M/MzMzMzMz0z8zMzMzMzPTP2ZmZmZmZuY/AAAAAAAA8D8=",
          "dtype": "f8"
         },
         "xaxis": "x15",
         "y": {
          "bdata": "mpmZmZmZyT8zMzMzMzPTPzMzMzMzM9M/AAAAAAAAAAAzMzMzMzPTPwAAAAAAAAAAmpmZmZmZuT+amZmZmZnJPwAAAAAAAPA/ZmZmZmZm5j8=",
          "dtype": "f8"
         },
         "yaxis": "y15"
        },
        {
         "hovertemplate": "status=No Tradeoff<br>z_slice=0.5<br>x=%{x}<br>y=%{y}<extra></extra>",
         "legendgroup": "No Tradeoff",
         "marker": {
          "color": "#FFA15A",
          "symbol": "circle"
         },
         "mode": "markers",
         "name": "No Tradeoff",
         "showlegend": false,
         "type": "scattergl",
         "x": {
          "bdata": "AAAAAAAAAACamZmZmZm5PzMzMzMzM9M/MzMzMzMz0z9mZmZmZmbmP2ZmZmZmZuY/zczMzMzM7D8AAAAAAADwPw==",
          "dtype": "f8"
         },
         "xaxis": "x6",
         "y": {
          "bdata": "MzMzMzMz0z8zMzMzMzPTPwAAAAAAAAAAmpmZmZmZuT/NzMzMzMzsPwAAAAAAAPA/ZmZmZmZm5j9mZmZmZmbmPw==",
          "dtype": "f8"
         },
         "yaxis": "y6"
        },
        {
         "hovertemplate": "status=No Tradeoff<br>z_slice=0.6<br>x=%{x}<br>y=%{y}<extra></extra>",
         "legendgroup": "No Tradeoff",
         "marker": {
          "color": "#FFA15A",
          "symbol": "circle"
         },
         "mode": "markers",
         "name": "No Tradeoff",
         "showlegend": false,
         "type": "scattergl",
         "x": {
          "bdata": "AAAAAAAAAAAzMzMzMzPTP2ZmZmZmZuY/ZmZmZmZm5j9mZmZmZmbmP5qZmZmZmek/mpmZmZmZ6T/NzMzMzMzsPwAAAAAAAPA/AAAAAAAA8D8=",
          "dtype": "f8"
         },
         "xaxis": "x7",
         "y": {
          "bdata": "MzMzMzMz0z8AAAAAAAAAAJqZmZmZmek/zczMzMzM7D8AAAAAAADwP2ZmZmZmZuY/AAAAAAAA8D9mZmZmZmbmP2ZmZmZmZuY/mpmZmZmZ6T8=",
          "dtype": "f8"
         },
         "yaxis": "y7"
        },
        {
         "hovertemplate": "status=No Tradeoff<br>z_slice=0.7<br>x=%{x}<br>y=%{y}<extra></extra>",
         "legendgroup": "No Tradeoff",
         "marker": {
          "color": "#FFA15A",
          "symbol": "circle"
         },
         "mode": "markers",
         "name": "No Tradeoff",
         "showlegend": false,
         "type": "scattergl",
         "x": {
          "bdata": "mpmZmZmZ2T8AAAAAAADgPwAAAAAAAOA/MzMzMzMz4z8zMzMzMzPjPzMzMzMzM+M/mpmZmZmZ6T+amZmZmZnpP5qZmZmZmek/zczMzMzM7D/NzMzMzMzsP83MzMzMzOw/AAAAAAAA8D8AAAAAAADwPwAAAAAAAPA/AAAAAAAA8D8=",
          "dtype": "f8"
         },
         "xaxis": "x8",
         "y": {
          "bdata": "AAAAAAAA8D/NzMzMzMzsPwAAAAAAAPA/mpmZmZmZ6T/NzMzMzMzsPwAAAAAAAPA/MzMzMzMz4z/NzMzMzMzsPwAAAAAAAPA/AAAAAAAA4D8zMzMzMzPjP5qZmZmZmek/mpmZmZmZ2T8AAAAAAADgPzMzMzMzM+M/mpmZmZmZ6T8=",
          "dtype": "f8"
         },
         "yaxis": "y8"
        },
        {
         "hovertemplate": "status=No Tradeoff<br>z_slice=0.8<br>x=%{x}<br>y=%{y}<extra></extra>",
         "legendgroup": "No Tradeoff",
         "marker": {
          "color": "#FFA15A",
          "symbol": "circle"
         },
         "mode": "markers",
         "name": "No Tradeoff",
         "showlegend": false,
         "type": "scattergl",
         "x": {
          "bdata": "MzMzMzMz4z8zMzMzMzPjP2ZmZmZmZuY/ZmZmZmZm5j9mZmZmZmbmP83MzMzMzOw/zczMzMzM7D8AAAAAAADwPwAAAAAAAPA/AAAAAAAA8D8=",
          "dtype": "f8"
         },
         "xaxis": "x9",
         "y": {
          "bdata": "ZmZmZmZm5j8AAAAAAADwPzMzMzMzM+M/zczMzMzM7D8AAAAAAADwP2ZmZmZmZuY/AAAAAAAA8D8zMzMzMzPjP2ZmZmZmZuY/zczMzMzM7D8=",
          "dtype": "f8"
         },
         "yaxis": "y9"
        },
        {
         "hovertemplate": "status=No Tradeoff<br>z_slice=0.9<br>x=%{x}<br>y=%{y}<extra></extra>",
         "legendgroup": "No Tradeoff",
         "marker": {
          "color": "#FFA15A",
          "symbol": "circle"
         },
         "mode": "markers",
         "name": "No Tradeoff",
         "showlegend": false,
         "type": "scattergl",
         "x": {
          "bdata": "AAAAAAAA4D8zMzMzMzPjP2ZmZmZmZuY/ZmZmZmZm5j9mZmZmZmbmP5qZmZmZmek/mpmZmZmZ6T8AAAAAAADwPw==",
          "dtype": "f8"
         },
         "xaxis": "x10",
         "y": {
          "bdata": "ZmZmZmZm5j9mZmZmZmbmPwAAAAAAAOA/MzMzMzMz4z+amZmZmZnpP2ZmZmZmZuY/AAAAAAAA8D+amZmZmZnpPw==",
          "dtype": "f8"
         },
         "yaxis": "y10"
        },
        {
         "hovertemplate": "status=No Tradeoff<br>z_slice=1.0<br>x=%{x}<br>y=%{y}<extra></extra>",
         "legendgroup": "No Tradeoff",
         "marker": {
          "color": "#FFA15A",
          "symbol": "circle"
         },
         "mode": "markers",
         "name": "No Tradeoff",
         "showlegend": false,
         "type": "scattergl",
         "x": {
          "bdata": "mpmZmZmZ2T8AAAAAAADgPzMzMzMzM+M/MzMzMzMz4z9mZmZmZmbmP2ZmZmZmZuY/ZmZmZmZm5j9mZmZmZmbmP5qZmZmZmek/mpmZmZmZ6T+amZmZmZnpP83MzMzMzOw/",
          "dtype": "f8"
         },
         "xaxis": "x",
         "y": {
          "bdata": "ZmZmZmZm5j9mZmZmZmbmP2ZmZmZmZuY/mpmZmZmZ6T+amZmZmZnZPwAAAAAAAOA/MzMzMzMz4z+amZmZmZnpPzMzMzMzM+M/ZmZmZmZm5j/NzMzMzMzsP5qZmZmZmek/",
          "dtype": "f8"
         },
         "yaxis": "y"
        }
       ],
       "layout": {
        "annotations": [
         {
          "font": {},
          "showarrow": false,
          "text": "z_slice=1.0",
          "x": 0.09200000000000001,
          "xanchor": "center",
          "xref": "paper",
          "y": 0.2866666666666666,
          "yanchor": "bottom",
          "yref": "paper"
         },
         {
          "font": {},
          "showarrow": false,
          "text": "z_slice=0.5",
          "x": 0.09200000000000001,
          "xanchor": "center",
          "xref": "paper",
          "y": 0.6433333333333333,
          "yanchor": "bottom",
          "yref": "paper"
         },
         {
          "font": {},
          "showarrow": false,
          "text": "z_slice=0.6",
          "x": 0.29600000000000004,
          "xanchor": "center",
          "xref": "paper",
          "y": 0.6433333333333333,
          "yanchor": "bottom",
          "yref": "paper"
         },
         {
          "font": {},
          "showarrow": false,
          "text": "z_slice=0.7",
          "x": 0.5,
          "xanchor": "center",
          "xref": "paper",
          "y": 0.6433333333333333,
          "yanchor": "bottom",
          "yref": "paper"
         },
         {
          "font": {},
          "showarrow": false,
          "text": "z_slice=0.8",
          "x": 0.7040000000000002,
          "xanchor": "center",
          "xref": "paper",
          "y": 0.6433333333333333,
          "yanchor": "bottom",
          "yref": "paper"
         },
         {
          "font": {},
          "showarrow": false,
          "text": "z_slice=0.9",
          "x": 0.908,
          "xanchor": "center",
          "xref": "paper",
          "y": 0.6433333333333333,
          "yanchor": "bottom",
          "yref": "paper"
         },
         {
          "font": {},
          "showarrow": false,
          "text": "z_slice=0.0",
          "x": 0.09200000000000001,
          "xanchor": "center",
          "xref": "paper",
          "y": 0.9999999999999999,
          "yanchor": "bottom",
          "yref": "paper"
         },
         {
          "font": {},
          "showarrow": false,
          "text": "z_slice=0.1",
          "x": 0.29600000000000004,
          "xanchor": "center",
          "xref": "paper",
          "y": 0.9999999999999999,
          "yanchor": "bottom",
          "yref": "paper"
         },
         {
          "font": {},
          "showarrow": false,
          "text": "z_slice=0.2",
          "x": 0.5,
          "xanchor": "center",
          "xref": "paper",
          "y": 0.9999999999999999,
          "yanchor": "bottom",
          "yref": "paper"
         },
         {
          "font": {},
          "showarrow": false,
          "text": "z_slice=0.3",
          "x": 0.7040000000000002,
          "xanchor": "center",
          "xref": "paper",
          "y": 0.9999999999999999,
          "yanchor": "bottom",
          "yref": "paper"
         },
         {
          "font": {},
          "showarrow": false,
          "text": "z_slice=0.4",
          "x": 0.908,
          "xanchor": "center",
          "xref": "paper",
          "y": 0.9999999999999999,
          "yanchor": "bottom",
          "yref": "paper"
         }
        ],
        "legend": {
         "title": {
          "text": "status"
         },
         "tracegroupgap": 0
        },
        "template": {
         "data": {
          "bar": [
           {
            "error_x": {
             "color": "#2a3f5f"
            },
            "error_y": {
             "color": "#2a3f5f"
            },
            "marker": {
             "line": {
              "color": "#E5ECF6",
              "width": 0.5
             },
             "pattern": {
              "fillmode": "overlay",
              "size": 10,
              "solidity": 0.2
             }
            },
            "type": "bar"
           }
          ],
          "barpolar": [
           {
            "marker": {
             "line": {
              "color": "#E5ECF6",
              "width": 0.5
             },
             "pattern": {
              "fillmode": "overlay",
              "size": 10,
              "solidity": 0.2
             }
            },
            "type": "barpolar"
           }
          ],
          "carpet": [
           {
            "aaxis": {
             "endlinecolor": "#2a3f5f",
             "gridcolor": "white",
             "linecolor": "white",
             "minorgridcolor": "white",
             "startlinecolor": "#2a3f5f"
            },
            "baxis": {
             "endlinecolor": "#2a3f5f",
             "gridcolor": "white",
             "linecolor": "white",
             "minorgridcolor": "white",
             "startlinecolor": "#2a3f5f"
            },
            "type": "carpet"
           }
          ],
          "choropleth": [
           {
            "colorbar": {
             "outlinewidth": 0,
             "ticks": ""
            },
            "type": "choropleth"
           }
          ],
          "contour": [
           {
            "colorbar": {
             "outlinewidth": 0,
             "ticks": ""
            },
            "colorscale": [
             [
              0,
              "#0d0887"
             ],
             [
              0.1111111111111111,
              "#46039f"
             ],
             [
              0.2222222222222222,
              "#7201a8"
             ],
             [
              0.3333333333333333,
              "#9c179e"
             ],
             [
              0.4444444444444444,
              "#bd3786"
             ],
             [
              0.5555555555555556,
              "#d8576b"
             ],
             [
              0.6666666666666666,
              "#ed7953"
             ],
             [
              0.7777777777777778,
              "#fb9f3a"
             ],
             [
              0.8888888888888888,
              "#fdca26"
             ],
             [
              1,
              "#f0f921"
             ]
            ],
            "type": "contour"
           }
          ],
          "contourcarpet": [
           {
            "colorbar": {
             "outlinewidth": 0,
             "ticks": ""
            },
            "type": "contourcarpet"
           }
          ],
          "heatmap": [
           {
            "colorbar": {
             "outlinewidth": 0,
             "ticks": ""
            },
            "colorscale": [
             [
              0,
              "#0d0887"
             ],
             [
              0.1111111111111111,
              "#46039f"
             ],
             [
              0.2222222222222222,
              "#7201a8"
             ],
             [
              0.3333333333333333,
              "#9c179e"
             ],
             [
              0.4444444444444444,
              "#bd3786"
             ],
             [
              0.5555555555555556,
              "#d8576b"
             ],
             [
              0.6666666666666666,
              "#ed7953"
             ],
             [
              0.7777777777777778,
              "#fb9f3a"
             ],
             [
              0.8888888888888888,
              "#fdca26"
             ],
             [
              1,
              "#f0f921"
             ]
            ],
            "type": "heatmap"
           }
          ],
          "histogram": [
           {
            "marker": {
             "pattern": {
              "fillmode": "overlay",
              "size": 10,
              "solidity": 0.2
             }
            },
            "type": "histogram"
           }
          ],
          "histogram2d": [
           {
            "colorbar": {
             "outlinewidth": 0,
             "ticks": ""
            },
            "colorscale": [
             [
              0,
              "#0d0887"
             ],
             [
              0.1111111111111111,
              "#46039f"
             ],
             [
              0.2222222222222222,
              "#7201a8"
             ],
             [
              0.3333333333333333,
              "#9c179e"
             ],
             [
              0.4444444444444444,
              "#bd3786"
             ],
             [
              0.5555555555555556,
              "#d8576b"
             ],
             [
              0.6666666666666666,
              "#ed7953"
             ],
             [
              0.7777777777777778,
              "#fb9f3a"
             ],
             [
              0.8888888888888888,
              "#fdca26"
             ],
             [
              1,
              "#f0f921"
             ]
            ],
            "type": "histogram2d"
           }
          ],
          "histogram2dcontour": [
           {
            "colorbar": {
             "outlinewidth": 0,
             "ticks": ""
            },
            "colorscale": [
             [
              0,
              "#0d0887"
             ],
             [
              0.1111111111111111,
              "#46039f"
             ],
             [
              0.2222222222222222,
              "#7201a8"
             ],
             [
              0.3333333333333333,
              "#9c179e"
             ],
             [
              0.4444444444444444,
              "#bd3786"
             ],
             [
              0.5555555555555556,
              "#d8576b"
             ],
             [
              0.6666666666666666,
              "#ed7953"
             ],
             [
              0.7777777777777778,
              "#fb9f3a"
             ],
             [
              0.8888888888888888,
              "#fdca26"
             ],
             [
              1,
              "#f0f921"
             ]
            ],
            "type": "histogram2dcontour"
           }
          ],
          "mesh3d": [
           {
            "colorbar": {
             "outlinewidth": 0,
             "ticks": ""
            },
            "type": "mesh3d"
           }
          ],
          "parcoords": [
           {
            "line": {
             "colorbar": {
              "outlinewidth": 0,
              "ticks": ""
             }
            },
            "type": "parcoords"
           }
          ],
          "pie": [
           {
            "automargin": true,
            "type": "pie"
           }
          ],
          "scatter": [
           {
            "fillpattern": {
             "fillmode": "overlay",
             "size": 10,
             "solidity": 0.2
            },
            "type": "scatter"
           }
          ],
          "scatter3d": [
           {
            "line": {
             "colorbar": {
              "outlinewidth": 0,
              "ticks": ""
             }
            },
            "marker": {
             "colorbar": {
              "outlinewidth": 0,
              "ticks": ""
             }
            },
            "type": "scatter3d"
           }
          ],
          "scattercarpet": [
           {
            "marker": {
             "colorbar": {
              "outlinewidth": 0,
              "ticks": ""
             }
            },
            "type": "scattercarpet"
           }
          ],
          "scattergeo": [
           {
            "marker": {
             "colorbar": {
              "outlinewidth": 0,
              "ticks": ""
             }
            },
            "type": "scattergeo"
           }
          ],
          "scattergl": [
           {
            "marker": {
             "colorbar": {
              "outlinewidth": 0,
              "ticks": ""
             }
            },
            "type": "scattergl"
           }
          ],
          "scattermap": [
           {
            "marker": {
             "colorbar": {
              "outlinewidth": 0,
              "ticks": ""
             }
            },
            "type": "scattermap"
           }
          ],
          "scattermapbox": [
           {
            "marker": {
             "colorbar": {
              "outlinewidth": 0,
              "ticks": ""
             }
            },
            "type": "scattermapbox"
           }
          ],
          "scatterpolar": [
           {
            "marker": {
             "colorbar": {
              "outlinewidth": 0,
              "ticks": ""
             }
            },
            "type": "scatterpolar"
           }
          ],
          "scatterpolargl": [
           {
            "marker": {
             "colorbar": {
              "outlinewidth": 0,
              "ticks": ""
             }
            },
            "type": "scatterpolargl"
           }
          ],
          "scatterternary": [
           {
            "marker": {
             "colorbar": {
              "outlinewidth": 0,
              "ticks": ""
             }
            },
            "type": "scatterternary"
           }
          ],
          "surface": [
           {
            "colorbar": {
             "outlinewidth": 0,
             "ticks": ""
            },
            "colorscale": [
             [
              0,
              "#0d0887"
             ],
             [
              0.1111111111111111,
              "#46039f"
             ],
             [
              0.2222222222222222,
              "#7201a8"
             ],
             [
              0.3333333333333333,
              "#9c179e"
             ],
             [
              0.4444444444444444,
              "#bd3786"
             ],
             [
              0.5555555555555556,
              "#d8576b"
             ],
             [
              0.6666666666666666,
              "#ed7953"
             ],
             [
              0.7777777777777778,
              "#fb9f3a"
             ],
             [
              0.8888888888888888,
              "#fdca26"
             ],
             [
              1,
              "#f0f921"
             ]
            ],
            "type": "surface"
           }
          ],
          "table": [
           {
            "cells": {
             "fill": {
              "color": "#EBF0F8"
             },
             "line": {
              "color": "white"
             }
            },
            "header": {
             "fill": {
              "color": "#C8D4E3"
             },
             "line": {
              "color": "white"
             }
            },
            "type": "table"
           }
          ]
         },
         "layout": {
          "annotationdefaults": {
           "arrowcolor": "#2a3f5f",
           "arrowhead": 0,
           "arrowwidth": 1
          },
          "autotypenumbers": "strict",
          "coloraxis": {
           "colorbar": {
            "outlinewidth": 0,
            "ticks": ""
           }
          },
          "colorscale": {
           "diverging": [
            [
             0,
             "#8e0152"
            ],
            [
             0.1,
             "#c51b7d"
            ],
            [
             0.2,
             "#de77ae"
            ],
            [
             0.3,
             "#f1b6da"
            ],
            [
             0.4,
             "#fde0ef"
            ],
            [
             0.5,
             "#f7f7f7"
            ],
            [
             0.6,
             "#e6f5d0"
            ],
            [
             0.7,
             "#b8e186"
            ],
            [
             0.8,
             "#7fbc41"
            ],
            [
             0.9,
             "#4d9221"
            ],
            [
             1,
             "#276419"
            ]
           ],
           "sequential": [
            [
             0,
             "#0d0887"
            ],
            [
             0.1111111111111111,
             "#46039f"
            ],
            [
             0.2222222222222222,
             "#7201a8"
            ],
            [
             0.3333333333333333,
             "#9c179e"
            ],
            [
             0.4444444444444444,
             "#bd3786"
            ],
            [
             0.5555555555555556,
             "#d8576b"
            ],
            [
             0.6666666666666666,
             "#ed7953"
            ],
            [
             0.7777777777777778,
             "#fb9f3a"
            ],
            [
             0.8888888888888888,
             "#fdca26"
            ],
            [
             1,
             "#f0f921"
            ]
           ],
           "sequentialminus": [
            [
             0,
             "#0d0887"
            ],
            [
             0.1111111111111111,
             "#46039f"
            ],
            [
             0.2222222222222222,
             "#7201a8"
            ],
            [
             0.3333333333333333,
             "#9c179e"
            ],
            [
             0.4444444444444444,
             "#bd3786"
            ],
            [
             0.5555555555555556,
             "#d8576b"
            ],
            [
             0.6666666666666666,
             "#ed7953"
            ],
            [
             0.7777777777777778,
             "#fb9f3a"
            ],
            [
             0.8888888888888888,
             "#fdca26"
            ],
            [
             1,
             "#f0f921"
            ]
           ]
          },
          "colorway": [
           "#636efa",
           "#EF553B",
           "#00cc96",
           "#ab63fa",
           "#FFA15A",
           "#19d3f3",
           "#FF6692",
           "#B6E880",
           "#FF97FF",
           "#FECB52"
          ],
          "font": {
           "color": "#2a3f5f"
          },
          "geo": {
           "bgcolor": "white",
           "lakecolor": "white",
           "landcolor": "#E5ECF6",
           "showlakes": true,
           "showland": true,
           "subunitcolor": "white"
          },
          "hoverlabel": {
           "align": "left"
          },
          "hovermode": "closest",
          "mapbox": {
           "style": "light"
          },
          "paper_bgcolor": "white",
          "plot_bgcolor": "#E5ECF6",
          "polar": {
           "angularaxis": {
            "gridcolor": "white",
            "linecolor": "white",
            "ticks": ""
           },
           "bgcolor": "#E5ECF6",
           "radialaxis": {
            "gridcolor": "white",
            "linecolor": "white",
            "ticks": ""
           }
          },
          "scene": {
           "xaxis": {
            "backgroundcolor": "#E5ECF6",
            "gridcolor": "white",
            "gridwidth": 2,
            "linecolor": "white",
            "showbackground": true,
            "ticks": "",
            "zerolinecolor": "white"
           },
           "yaxis": {
            "backgroundcolor": "#E5ECF6",
            "gridcolor": "white",
            "gridwidth": 2,
            "linecolor": "white",
            "showbackground": true,
            "ticks": "",
            "zerolinecolor": "white"
           },
           "zaxis": {
            "backgroundcolor": "#E5ECF6",
            "gridcolor": "white",
            "gridwidth": 2,
            "linecolor": "white",
            "showbackground": true,
            "ticks": "",
            "zerolinecolor": "white"
           }
          },
          "shapedefaults": {
           "line": {
            "color": "#2a3f5f"
           }
          },
          "ternary": {
           "aaxis": {
            "gridcolor": "white",
            "linecolor": "white",
            "ticks": ""
           },
           "baxis": {
            "gridcolor": "white",
            "linecolor": "white",
            "ticks": ""
           },
           "bgcolor": "#E5ECF6",
           "caxis": {
            "gridcolor": "white",
            "linecolor": "white",
            "ticks": ""
           }
          },
          "title": {
           "x": 0.05
          },
          "xaxis": {
           "automargin": true,
           "gridcolor": "white",
           "linecolor": "white",
           "ticks": "",
           "title": {
            "standoff": 15
           },
           "zerolinecolor": "white",
           "zerolinewidth": 2
          },
          "yaxis": {
           "automargin": true,
           "gridcolor": "white",
           "linecolor": "white",
           "ticks": "",
           "title": {
            "standoff": 15
           },
           "zerolinecolor": "white",
           "zerolinewidth": 2
          }
         }
        },
        "title": {
         "text": "(x,y) Scatter by Rounded z-Slices"
        },
        "xaxis": {
         "anchor": "y",
         "domain": [
          0,
          0.18400000000000002
         ],
         "title": {
          "text": "x"
         }
        },
        "xaxis10": {
         "anchor": "y10",
         "domain": [
          0.8160000000000001,
          1
         ],
         "matches": "x",
         "showticklabels": false
        },
        "xaxis11": {
         "anchor": "y11",
         "domain": [
          0,
          0.18400000000000002
         ],
         "matches": "x",
         "showticklabels": false
        },
        "xaxis12": {
         "anchor": "y12",
         "domain": [
          0.20400000000000001,
          0.388
         ],
         "matches": "x",
         "showticklabels": false
        },
        "xaxis13": {
         "anchor": "y13",
         "domain": [
          0.40800000000000003,
          0.5920000000000001
         ],
         "matches": "x",
         "showticklabels": false
        },
        "xaxis14": {
         "anchor": "y14",
         "domain": [
          0.6120000000000001,
          0.7960000000000002
         ],
         "matches": "x",
         "showticklabels": false
        },
        "xaxis15": {
         "anchor": "y15",
         "domain": [
          0.8160000000000001,
          1
         ],
         "matches": "x",
         "showticklabels": false
        },
        "xaxis2": {
         "anchor": "y2",
         "domain": [
          0.20400000000000001,
          0.388
         ],
         "matches": "x",
         "title": {
          "text": "x"
         }
        },
        "xaxis3": {
         "anchor": "y3",
         "domain": [
          0.40800000000000003,
          0.5920000000000001
         ],
         "matches": "x",
         "title": {
          "text": "x"
         }
        },
        "xaxis4": {
         "anchor": "y4",
         "domain": [
          0.6120000000000001,
          0.7960000000000002
         ],
         "matches": "x",
         "title": {
          "text": "x"
         }
        },
        "xaxis5": {
         "anchor": "y5",
         "domain": [
          0.8160000000000001,
          1
         ],
         "matches": "x",
         "title": {
          "text": "x"
         }
        },
        "xaxis6": {
         "anchor": "y6",
         "domain": [
          0,
          0.18400000000000002
         ],
         "matches": "x",
         "showticklabels": false
        },
        "xaxis7": {
         "anchor": "y7",
         "domain": [
          0.20400000000000001,
          0.388
         ],
         "matches": "x",
         "showticklabels": false
        },
        "xaxis8": {
         "anchor": "y8",
         "domain": [
          0.40800000000000003,
          0.5920000000000001
         ],
         "matches": "x",
         "showticklabels": false
        },
        "xaxis9": {
         "anchor": "y9",
         "domain": [
          0.6120000000000001,
          0.7960000000000002
         ],
         "matches": "x",
         "showticklabels": false
        },
        "yaxis": {
         "anchor": "x",
         "domain": [
          0,
          0.2866666666666666
         ],
         "scaleanchor": "x",
         "scaleratio": 1,
         "title": {
          "text": "y"
         }
        },
        "yaxis10": {
         "anchor": "x10",
         "domain": [
          0.35666666666666663,
          0.6433333333333333
         ],
         "matches": "y",
         "scaleanchor": "x",
         "scaleratio": 1,
         "showticklabels": false
        },
        "yaxis11": {
         "anchor": "x11",
         "domain": [
          0.7133333333333333,
          0.9999999999999999
         ],
         "matches": "y",
         "scaleanchor": "x",
         "scaleratio": 1,
         "title": {
          "text": "y"
         }
        },
        "yaxis12": {
         "anchor": "x12",
         "domain": [
          0.7133333333333333,
          0.9999999999999999
         ],
         "matches": "y",
         "scaleanchor": "x",
         "scaleratio": 1,
         "showticklabels": false
        },
        "yaxis13": {
         "anchor": "x13",
         "domain": [
          0.7133333333333333,
          0.9999999999999999
         ],
         "matches": "y",
         "scaleanchor": "x",
         "scaleratio": 1,
         "showticklabels": false
        },
        "yaxis14": {
         "anchor": "x14",
         "domain": [
          0.7133333333333333,
          0.9999999999999999
         ],
         "matches": "y",
         "scaleanchor": "x",
         "scaleratio": 1,
         "showticklabels": false
        },
        "yaxis15": {
         "anchor": "x15",
         "domain": [
          0.7133333333333333,
          0.9999999999999999
         ],
         "matches": "y",
         "scaleanchor": "x",
         "scaleratio": 1,
         "showticklabels": false
        },
        "yaxis2": {
         "anchor": "x2",
         "domain": [
          0,
          0.2866666666666666
         ],
         "matches": "y",
         "scaleanchor": "x",
         "scaleratio": 1,
         "showticklabels": false
        },
        "yaxis3": {
         "anchor": "x3",
         "domain": [
          0,
          0.2866666666666666
         ],
         "matches": "y",
         "scaleanchor": "x",
         "scaleratio": 1,
         "showticklabels": false
        },
        "yaxis4": {
         "anchor": "x4",
         "domain": [
          0,
          0.2866666666666666
         ],
         "matches": "y",
         "scaleanchor": "x",
         "scaleratio": 1,
         "showticklabels": false
        },
        "yaxis5": {
         "anchor": "x5",
         "domain": [
          0,
          0.2866666666666666
         ],
         "matches": "y",
         "scaleanchor": "x",
         "scaleratio": 1,
         "showticklabels": false
        },
        "yaxis6": {
         "anchor": "x6",
         "domain": [
          0.35666666666666663,
          0.6433333333333333
         ],
         "matches": "y",
         "scaleanchor": "x",
         "scaleratio": 1,
         "title": {
          "text": "y"
         }
        },
        "yaxis7": {
         "anchor": "x7",
         "domain": [
          0.35666666666666663,
          0.6433333333333333
         ],
         "matches": "y",
         "scaleanchor": "x",
         "scaleratio": 1,
         "showticklabels": false
        },
        "yaxis8": {
         "anchor": "x8",
         "domain": [
          0.35666666666666663,
          0.6433333333333333
         ],
         "matches": "y",
         "scaleanchor": "x",
         "scaleratio": 1,
         "showticklabels": false
        },
        "yaxis9": {
         "anchor": "x9",
         "domain": [
          0.35666666666666663,
          0.6433333333333333
         ],
         "matches": "y",
         "scaleanchor": "x",
         "scaleratio": 1,
         "showticklabels": false
        }
       }
      }
     },
     "metadata": {},
     "output_type": "display_data"
    }
   ],
   "source": [
    "import numpy as np\n",
    "import pandas as pd\n",
    "import plotly.express as px\n",
    "\n",
    "df['z_slice'] = df['z'].apply(lambda val: round(val, 1))\n",
    "\n",
    "fig = px.scatter(\n",
    "    df,\n",
    "    x='x', \n",
    "    y='y',\n",
    "    color='status',    # color by status\n",
    "    facet_col='z_slice',\n",
    "    facet_col_wrap=5,  # how many facet columns before wrapping to a new row\n",
    "    title='(x,y) Scatter by Rounded z-Slices'\n",
    "    \n",
    ")\n",
    "\n",
    "# Make x,y have the same scale in each subplot (so circles aren't distorted)\n",
    "fig.update_yaxes(scaleanchor=\"x\", scaleratio=1)\n",
    "\n",
    "fig.show()"
   ]
  }
 ],
 "metadata": {
  "kernelspec": {
   "display_name": ".venv",
   "language": "python",
   "name": "python3"
  },
  "language_info": {
   "codemirror_mode": {
    "name": "ipython",
    "version": 3
   },
   "file_extension": ".py",
   "mimetype": "text/x-python",
   "name": "python",
   "nbconvert_exporter": "python",
   "pygments_lexer": "ipython3",
   "version": "3.13.1"
  }
 },
 "nbformat": 4,
 "nbformat_minor": 2
}
